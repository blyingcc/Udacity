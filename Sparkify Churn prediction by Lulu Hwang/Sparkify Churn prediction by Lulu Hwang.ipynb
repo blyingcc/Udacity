{
 "cells": [
  {
   "cell_type": "markdown",
   "metadata": {
    "toc": true
   },
   "source": [
    "<h1>Table of Contents<span class=\"tocSkip\"></span></h1>\n",
    "<div class=\"toc\"><ul class=\"toc-item\"><li><span><a href=\"#项目概述\" data-toc-modified-id=\"项目概述-1\"><span class=\"toc-item-num\">1&nbsp;&nbsp;</span>项目概述</a></span></li><li><span><a href=\"#问题描述\" data-toc-modified-id=\"问题描述-2\"><span class=\"toc-item-num\">2&nbsp;&nbsp;</span>问题描述</a></span></li><li><span><a href=\"#评价指标\" data-toc-modified-id=\"评价指标-3\"><span class=\"toc-item-num\">3&nbsp;&nbsp;</span>评价指标</a></span></li><li><span><a href=\"#导入需要的库\" data-toc-modified-id=\"导入需要的库-4\"><span class=\"toc-item-num\">4&nbsp;&nbsp;</span>导入需要的库</a></span></li><li><span><a href=\"#数据洞察和清洗\" data-toc-modified-id=\"数据洞察和清洗-5\"><span class=\"toc-item-num\">5&nbsp;&nbsp;</span>数据洞察和清洗</a></span><ul class=\"toc-item\"><li><span><a href=\"#数据概览\" data-toc-modified-id=\"数据概览-5.1\"><span class=\"toc-item-num\">5.1&nbsp;&nbsp;</span>数据概览</a></span></li><li><span><a href=\"#过滤掉未注册用户\" data-toc-modified-id=\"过滤掉未注册用户-5.2\"><span class=\"toc-item-num\">5.2&nbsp;&nbsp;</span>过滤掉未注册用户</a></span></li><li><span><a href=\"#转换时间字段\" data-toc-modified-id=\"转换时间字段-5.3\"><span class=\"toc-item-num\">5.3&nbsp;&nbsp;</span>转换时间字段</a></span></li><li><span><a href=\"#转换性别、级别为数值\" data-toc-modified-id=\"转换性别、级别为数值-5.4\"><span class=\"toc-item-num\">5.4&nbsp;&nbsp;</span>转换性别、级别为数值</a></span></li></ul></li><li><span><a href=\"#数据探索\" data-toc-modified-id=\"数据探索-6\"><span class=\"toc-item-num\">6&nbsp;&nbsp;</span>数据探索</a></span><ul class=\"toc-item\"><li><span><a href=\"#定义流失客户\" data-toc-modified-id=\"定义流失客户-6.1\"><span class=\"toc-item-num\">6.1&nbsp;&nbsp;</span>定义流失客户</a></span></li><li><span><a href=\"#查看用户关键行为：升级、降级\" data-toc-modified-id=\"查看用户关键行为：升级、降级-6.2\"><span class=\"toc-item-num\">6.2&nbsp;&nbsp;</span>查看用户关键行为：升级、降级</a></span></li><li><span><a href=\"#观察用户使用最多的页面\" data-toc-modified-id=\"观察用户使用最多的页面-6.3\"><span class=\"toc-item-num\">6.3&nbsp;&nbsp;</span>观察用户使用最多的页面</a></span></li><li><span><a href=\"#用户流失在不同性别的分布\" data-toc-modified-id=\"用户流失在不同性别的分布-6.4\"><span class=\"toc-item-num\">6.4&nbsp;&nbsp;</span>用户流失在不同性别的分布</a></span></li><li><span><a href=\"#用户流失在不同会员等级的分布\" data-toc-modified-id=\"用户流失在不同会员等级的分布-6.5\"><span class=\"toc-item-num\">6.5&nbsp;&nbsp;</span>用户流失在不同会员等级的分布</a></span></li><li><span><a href=\"#用户流失最多的地区\" data-toc-modified-id=\"用户流失最多的地区-6.6\"><span class=\"toc-item-num\">6.6&nbsp;&nbsp;</span>用户流失最多的地区</a></span></li><li><span><a href=\"#流失用户的每次登陆页面操作数\" data-toc-modified-id=\"流失用户的每次登陆页面操作数-6.7\"><span class=\"toc-item-num\">6.7&nbsp;&nbsp;</span>流失用户的每次登陆页面操作数</a></span></li><li><span><a href=\"#用户在线时段观察\" data-toc-modified-id=\"用户在线时段观察-6.8\"><span class=\"toc-item-num\">6.8&nbsp;&nbsp;</span>用户在线时段观察</a></span></li></ul></li><li><span><a href=\"#特征工程\" data-toc-modified-id=\"特征工程-7\"><span class=\"toc-item-num\">7&nbsp;&nbsp;</span>特征工程</a></span><ul class=\"toc-item\"><li><span><a href=\"#每个用户相关关键页面操作累计和\" data-toc-modified-id=\"每个用户相关关键页面操作累计和-7.1\"><span class=\"toc-item-num\">7.1&nbsp;&nbsp;</span>每个用户相关关键页面操作累计和</a></span></li><li><span><a href=\"#用户累计参与度\" data-toc-modified-id=\"用户累计参与度-7.2\"><span class=\"toc-item-num\">7.2&nbsp;&nbsp;</span>用户累计参与度</a></span></li><li><span><a href=\"#每个SessionId的统计指标\" data-toc-modified-id=\"每个SessionId的统计指标-7.3\"><span class=\"toc-item-num\">7.3&nbsp;&nbsp;</span>每个SessionId的统计指标</a></span></li><li><span><a href=\"#用户听歌曲的丰富度\" data-toc-modified-id=\"用户听歌曲的丰富度-7.4\"><span class=\"toc-item-num\">7.4&nbsp;&nbsp;</span>用户听歌曲的丰富度</a></span></li><li><span><a href=\"#用户付费周期的特征分布（付费天数、免费天数）\" data-toc-modified-id=\"用户付费周期的特征分布（付费天数、免费天数）-7.5\"><span class=\"toc-item-num\">7.5&nbsp;&nbsp;</span>用户付费周期的特征分布（付费天数、免费天数）</a></span></li><li><span><a href=\"#用户平均每日登陆次数\" data-toc-modified-id=\"用户平均每日登陆次数-7.6\"><span class=\"toc-item-num\">7.6&nbsp;&nbsp;</span>用户平均每日登陆次数</a></span></li><li><span><a href=\"#目前的level\" data-toc-modified-id=\"目前的level-7.7\"><span class=\"toc-item-num\">7.7&nbsp;&nbsp;</span>目前的level</a></span></li><li><span><a href=\"#沉默时间\" data-toc-modified-id=\"沉默时间-7.8\"><span class=\"toc-item-num\">7.8&nbsp;&nbsp;</span>沉默时间</a></span></li><li><span><a href=\"#构造训练数据集\" data-toc-modified-id=\"构造训练数据集-7.9\"><span class=\"toc-item-num\">7.9&nbsp;&nbsp;</span>构造训练数据集</a></span></li></ul></li><li><span><a href=\"#建模、训练、评估\" data-toc-modified-id=\"建模、训练、评估-8\"><span class=\"toc-item-num\">8&nbsp;&nbsp;</span>建模、训练、评估</a></span><ul class=\"toc-item\"><li><span><a href=\"#逻辑回归\" data-toc-modified-id=\"逻辑回归-8.1\"><span class=\"toc-item-num\">8.1&nbsp;&nbsp;</span>逻辑回归</a></span></li><li><span><a href=\"#随机森林\" data-toc-modified-id=\"随机森林-8.2\"><span class=\"toc-item-num\">8.2&nbsp;&nbsp;</span>随机森林</a></span></li></ul></li><li><span><a href=\"#总结\" data-toc-modified-id=\"总结-9\"><span class=\"toc-item-num\">9&nbsp;&nbsp;</span>总结</a></span></li></ul></div>"
   ]
  },
  {
   "cell_type": "markdown",
   "metadata": {},
   "source": [
    "# 项目概述"
   ]
  },
  {
   "cell_type": "markdown",
   "metadata": {},
   "source": [
    "基于客户生命周期价值理论，为了实现用户价值最大化，降低用户流失率一直是众多企业关心的问题。本项目通过sparkify音乐APP的海量用户日志文件进行分析，探索数据、构造特征并训练模型进行预测客户是否流失。项目主要通过pyspark.ml库实现。"
   ]
  },
  {
   "cell_type": "markdown",
   "metadata": {},
   "source": [
    "# 问题描述"
   ]
  },
  {
   "cell_type": "code",
   "execution_count": null,
   "metadata": {},
   "outputs": [],
   "source": [
    "日志中最终注销的用户被定义为流失用户，我们需要解决的问题是通过用户日志的基于用户的多维特征提取，构建模型进行是否流失的预测。这是一个二分类问题。"
   ]
  },
  {
   "cell_type": "markdown",
   "metadata": {},
   "source": [
    "# 评价指标"
   ]
  },
  {
   "cell_type": "code",
   "execution_count": null,
   "metadata": {},
   "outputs": [],
   "source": [
    "结合本项目实际应用，模型的评价指标为f1和accurancy."
   ]
  },
  {
   "cell_type": "markdown",
   "metadata": {},
   "source": [
    "# 导入需要的库"
   ]
  },
  {
   "cell_type": "code",
   "execution_count": 8,
   "metadata": {},
   "outputs": [],
   "source": [
    "# import libraries\n",
    "from pyspark.sql import SparkSession,Window\n",
    "from pyspark.ml.feature import RegexTokenizer, VectorAssembler, Normalizer, StandardScaler\n",
    "from pyspark.sql.functions import avg, col, concat, desc, explode, lit, min, max,count, split, udf, isnull,weekofyear\n"
   ]
  },
  {
   "cell_type": "code",
   "execution_count": 9,
   "metadata": {},
   "outputs": [],
   "source": [
    "from pyspark.ml import Pipeline\n",
    "from pyspark.ml.classification import LogisticRegression, \\\n",
    "    LogisticRegressionModel, RandomForestClassifier,RandomForestClassificationModel,LinearSVC\n",
    "    \n",
    "from pyspark.ml.evaluation import MulticlassClassificationEvaluator\n",
    "from pyspark.mllib.evaluation import MulticlassMetrics\n",
    "\n",
    "from pyspark.ml.feature import CountVectorizer, IDF, Normalizer, \\\n",
    "    PCA, RegexTokenizer, Tokenizer, StandardScaler, StopWordsRemover, \\\n",
    "    StringIndexer, VectorAssembler, MaxAbsScaler\n",
    "from pyspark.ml.regression import LinearRegression\n",
    "from pyspark.ml.clustering import KMeans\n",
    "from pyspark.ml.tuning import CrossValidator, ParamGridBuilder"
   ]
  },
  {
   "cell_type": "code",
   "execution_count": 10,
   "metadata": {},
   "outputs": [],
   "source": [
    "from pyspark.sql.functions import udf\n",
    "from pyspark.sql.types import StringType\n",
    "from pyspark.sql.types import IntegerType,FloatType\n",
    "from pyspark.sql.functions import desc\n",
    "from pyspark.sql.functions import asc\n",
    "from pyspark.sql.functions import sum as Fsum"
   ]
  },
  {
   "cell_type": "code",
   "execution_count": 11,
   "metadata": {},
   "outputs": [],
   "source": [
    "from time import time\n",
    "import re\n",
    "import numpy as np\n",
    "import scipy\n",
    "import pandas as pd\n",
    "import datetime\n",
    "import matplotlib.pyplot as plt\n",
    "from pandas.plotting import scatter_matrix\n",
    "import seaborn as sns\n",
    "import random\n",
    "%matplotlib inline"
   ]
  },
  {
   "cell_type": "code",
   "execution_count": 12,
   "metadata": {},
   "outputs": [],
   "source": [
    "spark = SparkSession.builder \\\n",
    "    .master(\"local\") \\\n",
    "    .appName(\"Music App\") \\\n",
    "    .getOrCreate()\n",
    "stack_overflow_data = 'mini_sparkify_event_data.json'\n",
    "df = spark.read.json(stack_overflow_data)"
   ]
  },
  {
   "cell_type": "markdown",
   "metadata": {},
   "source": [
    "# 数据洞察和清洗"
   ]
  },
  {
   "cell_type": "markdown",
   "metadata": {},
   "source": [
    "## 数据概览"
   ]
  },
  {
   "cell_type": "code",
   "execution_count": 13,
   "metadata": {},
   "outputs": [
    {
     "data": {
      "text/plain": [
       "Row(artist='Martha Tilston', auth='Logged In', firstName='Colin', gender='M', itemInSession=50, lastName='Freeman', length=277.89016, level='paid', location='Bakersfield, CA', method='PUT', page='NextSong', registration=1538173362000, sessionId=29, song='Rockpools', status=200, ts=1538352117000, userAgent='Mozilla/5.0 (Windows NT 6.1; WOW64; rv:31.0) Gecko/20100101 Firefox/31.0', userId='30')"
      ]
     },
     "execution_count": 13,
     "metadata": {},
     "output_type": "execute_result"
    }
   ],
   "source": [
    "df.head() #数据字段有哪些"
   ]
  },
  {
   "cell_type": "code",
   "execution_count": 14,
   "metadata": {},
   "outputs": [
    {
     "data": {
      "text/plain": [
       "286500"
      ]
     },
     "execution_count": 14,
     "metadata": {},
     "output_type": "execute_result"
    }
   ],
   "source": [
    "df.count() #数据有多少条"
   ]
  },
  {
   "cell_type": "code",
   "execution_count": 15,
   "metadata": {},
   "outputs": [
    {
     "data": {
      "text/plain": [
       "226"
      ]
     },
     "execution_count": 15,
     "metadata": {},
     "output_type": "execute_result"
    }
   ],
   "source": [
    "df.select(\"userId\").dropDuplicates().count() #因为将要构造以用户ID为行，用户特征为列的新的数据集，查看数据有多少用户"
   ]
  },
  {
   "cell_type": "code",
   "execution_count": 16,
   "metadata": {},
   "outputs": [
    {
     "name": "stdout",
     "output_type": "stream",
     "text": [
      "root\n",
      " |-- artist: string (nullable = true)\n",
      " |-- auth: string (nullable = true)\n",
      " |-- firstName: string (nullable = true)\n",
      " |-- gender: string (nullable = true)\n",
      " |-- itemInSession: long (nullable = true)\n",
      " |-- lastName: string (nullable = true)\n",
      " |-- length: double (nullable = true)\n",
      " |-- level: string (nullable = true)\n",
      " |-- location: string (nullable = true)\n",
      " |-- method: string (nullable = true)\n",
      " |-- page: string (nullable = true)\n",
      " |-- registration: long (nullable = true)\n",
      " |-- sessionId: long (nullable = true)\n",
      " |-- song: string (nullable = true)\n",
      " |-- status: long (nullable = true)\n",
      " |-- ts: long (nullable = true)\n",
      " |-- userAgent: string (nullable = true)\n",
      " |-- userId: string (nullable = true)\n",
      "\n"
     ]
    }
   ],
   "source": [
    "df.printSchema()  #充分理解数据各个字段的含义，数据类型，大致分布，才可以进一步探索数据"
   ]
  },
  {
   "cell_type": "code",
   "execution_count": 17,
   "metadata": {},
   "outputs": [
    {
     "name": "stdout",
     "output_type": "stream",
     "text": [
      "+-------+------------------+----------+---------+------+------------------+--------+-----------------+------+-----------------+------+-------+--------------------+-----------------+--------------------+------------------+--------------------+--------------------+-----------------+\n",
      "|summary|            artist|      auth|firstName|gender|     itemInSession|lastName|           length| level|         location|method|   page|        registration|        sessionId|                song|            status|                  ts|           userAgent|           userId|\n",
      "+-------+------------------+----------+---------+------+------------------+--------+-----------------+------+-----------------+------+-------+--------------------+-----------------+--------------------+------------------+--------------------+--------------------+-----------------+\n",
      "|  count|            228108|    286500|   278154|278154|            286500|  278154|           228108|286500|           278154|286500| 286500|              278154|           286500|              228108|            286500|              286500|              278154|           286500|\n",
      "|   mean| 551.0852017937219|      null|     null|  null|114.41421291448516|    null|249.1171819778458|  null|             null|  null|   null|1.535358834084427...|1041.526554973822|            Infinity|210.05459685863875|1.540956889810483...|                null|59682.02278593872|\n",
      "| stddev|1217.7693079161374|      null|     null|  null|129.76726201140994|    null|99.23517921058361|  null|             null|  null|   null| 3.291321616327586E9|726.7762634630741|                 NaN| 31.50507848842214|1.5075439608226302E9|                null|109091.9499991047|\n",
      "|    min|               !!!| Cancelled| Adelaida|     F|                 0|   Adams|          0.78322|  free|       Albany, OR|   GET|  About|       1521380675000|                1|\u001c",
      "ÃÂg ÃÂtti Gr...|               200|       1538352117000|\"Mozilla/5.0 (Mac...|                 |\n",
      "|    max| ÃÂlafur Arnalds|Logged Out|   Zyonna|     M|              1321|  Wright|       3024.66567|  paid|Winston-Salem, NC|   PUT|Upgrade|       1543247354000|             2474|ÃÂau hafa slopp...|               404|       1543799476000|Mozilla/5.0 (comp...|               99|\n",
      "+-------+------------------+----------+---------+------+------------------+--------+-----------------+------+-----------------+------+-------+--------------------+-----------------+--------------------+------------------+--------------------+--------------------+-----------------+\n",
      "\n"
     ]
    }
   ],
   "source": [
    "df.describe().show() #大致了解各项数值数据的分布情况"
   ]
  },
  {
   "cell_type": "markdown",
   "metadata": {},
   "source": [
    "## 过滤掉未注册用户"
   ]
  },
  {
   "cell_type": "code",
   "execution_count": 18,
   "metadata": {},
   "outputs": [
    {
     "name": "stdout",
     "output_type": "stream",
     "text": [
      "+------+\n",
      "|userID|\n",
      "+------+\n",
      "|    30|\n",
      "|     9|\n",
      "|    30|\n",
      "|     9|\n",
      "|    30|\n",
      "|     9|\n",
      "|     9|\n",
      "|    30|\n",
      "|    30|\n",
      "|    30|\n",
      "|     9|\n",
      "|     9|\n",
      "|    30|\n",
      "|     9|\n",
      "|     9|\n",
      "|    30|\n",
      "|     9|\n",
      "|    74|\n",
      "|    30|\n",
      "|     9|\n",
      "+------+\n",
      "only showing top 20 rows\n",
      "\n"
     ]
    }
   ],
   "source": [
    "df.select(\"userID\").show()  #存在空值，说明有些客户没有登录"
   ]
  },
  {
   "cell_type": "code",
   "execution_count": 19,
   "metadata": {},
   "outputs": [
    {
     "name": "stdout",
     "output_type": "stream",
     "text": [
      "+------+----------+---------+------+-------------+--------+------+-----+--------+------+-----+------------+---------+----+------+-------------+---------+------+\n",
      "|artist|      auth|firstName|gender|itemInSession|lastName|length|level|location|method| page|registration|sessionId|song|status|           ts|userAgent|userId|\n",
      "+------+----------+---------+------+-------------+--------+------+-----+--------+------+-----+------------+---------+----+------+-------------+---------+------+\n",
      "|  null|Logged Out|     null|  null|          100|    null|  null| free|    null|   GET| Home|        null|        8|null|   200|1538355745000|     null|      |\n",
      "|  null|Logged Out|     null|  null|          101|    null|  null| free|    null|   GET| Help|        null|        8|null|   200|1538355807000|     null|      |\n",
      "|  null|Logged Out|     null|  null|          102|    null|  null| free|    null|   GET| Home|        null|        8|null|   200|1538355841000|     null|      |\n",
      "|  null|Logged Out|     null|  null|          103|    null|  null| free|    null|   PUT|Login|        null|        8|null|   307|1538355842000|     null|      |\n",
      "|  null|Logged Out|     null|  null|            2|    null|  null| free|    null|   GET| Home|        null|      240|null|   200|1538356678000|     null|      |\n",
      "|  null|Logged Out|     null|  null|            3|    null|  null| free|    null|   PUT|Login|        null|      240|null|   307|1538356679000|     null|      |\n",
      "|  null|Logged Out|     null|  null|            0|    null|  null| free|    null|   PUT|Login|        null|      100|null|   307|1538358102000|     null|      |\n",
      "|  null|Logged Out|     null|  null|            0|    null|  null| free|    null|   PUT|Login|        null|      241|null|   307|1538360117000|     null|      |\n",
      "|  null|Logged Out|     null|  null|           14|    null|  null| free|    null|   GET| Home|        null|      187|null|   200|1538361527000|     null|      |\n",
      "|  null|Logged Out|     null|  null|           15|    null|  null| free|    null|   PUT|Login|        null|      187|null|   307|1538361528000|     null|      |\n",
      "|  null|Logged Out|     null|  null|           21|    null|  null| free|    null|   GET| Home|        null|      187|null|   200|1538362007000|     null|      |\n",
      "|  null|Logged Out|     null|  null|           22|    null|  null| free|    null|   GET| Home|        null|      187|null|   200|1538362095000|     null|      |\n",
      "|  null|Logged Out|     null|  null|           23|    null|  null| free|    null|   PUT|Login|        null|      187|null|   307|1538362096000|     null|      |\n",
      "|  null|Logged Out|     null|  null|            0|    null|  null| free|    null|   GET| Home|        null|       27|null|   200|1538363488000|     null|      |\n",
      "|  null|Logged Out|     null|  null|            1|    null|  null| free|    null|   GET|About|        null|       27|null|   200|1538363494000|     null|      |\n",
      "|  null|Logged Out|     null|  null|            2|    null|  null| free|    null|   GET| Home|        null|       27|null|   200|1538363503000|     null|      |\n",
      "|  null|Logged Out|     null|  null|           38|    null|  null| free|    null|   GET| Home|        null|      187|null|   200|1538364254000|     null|      |\n",
      "|  null|Logged Out|     null|  null|           39|    null|  null| free|    null|   PUT|Login|        null|      187|null|   307|1538364255000|     null|      |\n",
      "|  null|Logged Out|     null|  null|            0|    null|  null| free|    null|   GET| Home|        null|      257|null|   200|1538364750000|     null|      |\n",
      "|  null|Logged Out|     null|  null|           47|    null|  null| free|    null|   GET| Home|        null|      100|null|   200|1538370681000|     null|      |\n",
      "+------+----------+---------+------+-------------+--------+------+-----+--------+------+-----+------------+---------+----+------+-------------+---------+------+\n",
      "only showing top 20 rows\n",
      "\n"
     ]
    }
   ],
   "source": [
    "df.where(df.userId==\"\").show()"
   ]
  },
  {
   "cell_type": "code",
   "execution_count": 20,
   "metadata": {},
   "outputs": [],
   "source": [
    "df=df.filter(col('userId') != '')"
   ]
  },
  {
   "cell_type": "code",
   "execution_count": 21,
   "metadata": {},
   "outputs": [
    {
     "data": {
      "text/plain": [
       "278154"
      ]
     },
     "execution_count": 21,
     "metadata": {},
     "output_type": "execute_result"
    }
   ],
   "source": [
    "df.count()"
   ]
  },
  {
   "cell_type": "code",
   "execution_count": 22,
   "metadata": {},
   "outputs": [
    {
     "data": {
      "text/plain": [
       "225"
      ]
     },
     "execution_count": 22,
     "metadata": {},
     "output_type": "execute_result"
    }
   ],
   "source": [
    "df.select(\"userId\").dropDuplicates().count()"
   ]
  },
  {
   "cell_type": "code",
   "execution_count": 23,
   "metadata": {},
   "outputs": [
    {
     "name": "stdout",
     "output_type": "stream",
     "text": [
      "+--------------------+\n",
      "|              artist|\n",
      "+--------------------+\n",
      "|      Martha Tilston|\n",
      "|    Five Iron Frenzy|\n",
      "|        Adam Lambert|\n",
      "|              Enigma|\n",
      "|           Daft Punk|\n",
      "|The All-American ...|\n",
      "|The Velvet Underg...|\n",
      "|        Starflyer 59|\n",
      "|                null|\n",
      "|            Frumpies|\n",
      "|        Britt Nicole|\n",
      "|                null|\n",
      "|Edward Sharpe & T...|\n",
      "|               Tesla|\n",
      "|                null|\n",
      "|         Stan Mosley|\n",
      "|Florence + The Ma...|\n",
      "|   Tokyo Police Club|\n",
      "|             Orishas|\n",
      "|             Ratatat|\n",
      "+--------------------+\n",
      "only showing top 20 rows\n",
      "\n"
     ]
    }
   ],
   "source": [
    "df.select(\"artist\").show() #查看到歌曲、艺术家首字母均是大写"
   ]
  },
  {
   "cell_type": "markdown",
   "metadata": {},
   "source": [
    "## 转换时间字段"
   ]
  },
  {
   "cell_type": "code",
   "execution_count": 24,
   "metadata": {},
   "outputs": [],
   "source": [
    "#便于查看小时、周几、几号的流失、非流失听歌频率的分布\n",
    "get_hour = udf(lambda x: datetime.datetime.fromtimestamp(x / 1000.0).hour)\n",
    "df=df.withColumn(\"hour\", get_hour(df.ts))\n",
    "\n",
    "get_weekday = udf(lambda x: datetime.datetime.fromtimestamp(x / 1000.0).strftime(\"%w\"))\n",
    "df=df.withColumn(\"weekday\", get_weekday(df.ts))\n",
    "\n",
    "get_day = udf(lambda x: datetime.datetime.fromtimestamp(x / 1000.0).day)\n",
    "df= df.withColumn(\"day\", get_day(df.ts))"
   ]
  },
  {
   "cell_type": "code",
   "execution_count": 25,
   "metadata": {},
   "outputs": [
    {
     "data": {
      "text/plain": [
       "[Row(artist='Martha Tilston', auth='Logged In', firstName='Colin', gender='M', itemInSession=50, lastName='Freeman', length=277.89016, level='paid', location='Bakersfield, CA', method='PUT', page='NextSong', registration=1538173362000, sessionId=29, song='Rockpools', status=200, ts=1538352117000, userAgent='Mozilla/5.0 (Windows NT 6.1; WOW64; rv:31.0) Gecko/20100101 Firefox/31.0', userId='30', hour='0', weekday='1', day='1'),\n",
       " Row(artist='Five Iron Frenzy', auth='Logged In', firstName='Micah', gender='M', itemInSession=79, lastName='Long', length=236.09424, level='free', location='Boston-Cambridge-Newton, MA-NH', method='PUT', page='NextSong', registration=1538331630000, sessionId=8, song='Canada', status=200, ts=1538352180000, userAgent='\"Mozilla/5.0 (Windows NT 6.1; WOW64) AppleWebKit/537.36 (KHTML, like Gecko) Chrome/37.0.2062.103 Safari/537.36\"', userId='9', hour='0', weekday='1', day='1'),\n",
       " Row(artist='Adam Lambert', auth='Logged In', firstName='Colin', gender='M', itemInSession=51, lastName='Freeman', length=282.8273, level='paid', location='Bakersfield, CA', method='PUT', page='NextSong', registration=1538173362000, sessionId=29, song='Time For Miracles', status=200, ts=1538352394000, userAgent='Mozilla/5.0 (Windows NT 6.1; WOW64; rv:31.0) Gecko/20100101 Firefox/31.0', userId='30', hour='0', weekday='1', day='1'),\n",
       " Row(artist='Enigma', auth='Logged In', firstName='Micah', gender='M', itemInSession=80, lastName='Long', length=262.71302, level='free', location='Boston-Cambridge-Newton, MA-NH', method='PUT', page='NextSong', registration=1538331630000, sessionId=8, song='Knocking On Forbidden Doors', status=200, ts=1538352416000, userAgent='\"Mozilla/5.0 (Windows NT 6.1; WOW64) AppleWebKit/537.36 (KHTML, like Gecko) Chrome/37.0.2062.103 Safari/537.36\"', userId='9', hour='0', weekday='1', day='1'),\n",
       " Row(artist='Daft Punk', auth='Logged In', firstName='Colin', gender='M', itemInSession=52, lastName='Freeman', length=223.60771, level='paid', location='Bakersfield, CA', method='PUT', page='NextSong', registration=1538173362000, sessionId=29, song='Harder Better Faster Stronger', status=200, ts=1538352676000, userAgent='Mozilla/5.0 (Windows NT 6.1; WOW64; rv:31.0) Gecko/20100101 Firefox/31.0', userId='30', hour='0', weekday='1', day='1')]"
      ]
     },
     "execution_count": 25,
     "metadata": {},
     "output_type": "execute_result"
    }
   ],
   "source": [
    "df.take(5)"
   ]
  },
  {
   "cell_type": "markdown",
   "metadata": {},
   "source": [
    "## 转换性别、级别为数值"
   ]
  },
  {
   "cell_type": "code",
   "execution_count": 26,
   "metadata": {},
   "outputs": [],
   "source": [
    "tran_gender= udf(lambda x:1 if x==\"M\" else 0, IntegerType())\n",
    "df=df.withColumn(\"gender\", tran_gender(\"gender\"))\n",
    "tran_level= udf(lambda x:1 if x==\"paid\" else 0, IntegerType())\n",
    "df= df.withColumn(\"level\", tran_level(\"level\"))"
   ]
  },
  {
   "cell_type": "markdown",
   "metadata": {},
   "source": [
    "# 数据探索"
   ]
  },
  {
   "cell_type": "markdown",
   "metadata": {},
   "source": [
    "## 定义流失客户"
   ]
  },
  {
   "cell_type": "code",
   "execution_count": 27,
   "metadata": {
    "scrolled": true
   },
   "outputs": [
    {
     "name": "stdout",
     "output_type": "stream",
     "text": [
      "+------+---------+---------+------+-------------+---------+------+-----+--------------------+------+--------------------+-------------+---------+----+------+-------------+--------------------+------+----+-------+---+\n",
      "|artist|     auth|firstName|gender|itemInSession| lastName|length|level|            location|method|                page| registration|sessionId|song|status|           ts|           userAgent|userId|hour|weekday|day|\n",
      "+------+---------+---------+------+-------------+---------+------+-----+--------------------+------+--------------------+-------------+---------+----+------+-------------+--------------------+------+----+-------+---+\n",
      "|  null|Cancelled|   Adriel|     1|          104|  Mendoza|  null|    1|  Kansas City, MO-KS|   GET|Cancellation Conf...|1535623466000|      514|null|   200|1538943990000|\"Mozilla/5.0 (Mac...|    18|  20|      0|  7|\n",
      "|  null|Cancelled|    Diego|     1|           56|    Mckee|  null|    1|Phoenix-Mesa-Scot...|   GET|Cancellation Conf...|1537167593000|      540|null|   200|1539033046000|\"Mozilla/5.0 (iPh...|    32|  21|      1|  8|\n",
      "|  null|Cancelled|    Mason|     1|           10|     Hart|  null|    0|  Corpus Christi, TX|   GET|Cancellation Conf...|1533157139000|      174|null|   200|1539318918000|\"Mozilla/5.0 (Mac...|   125|   4|      5| 12|\n",
      "|  null|Cancelled|Alexander|     1|          332|   Garcia|  null|    1|Indianapolis-Carm...|   GET|Cancellation Conf...|1536817381000|      508|null|   200|1539375441000|Mozilla/5.0 (Wind...|   105|  20|      5| 12|\n",
      "|  null|Cancelled|    Kayla|     0|          273|  Johnson|  null|    1|Philadelphia-Camd...|   GET|Cancellation Conf...|1538333829000|      797|null|   200|1539465584000|Mozilla/5.0 (Wind...|    17|  21|      6| 13|\n",
      "|  null|Cancelled|    Molly|     0|           29| Harrison|  null|    0|Virginia Beach-No...|   GET|Cancellation Conf...|1534255113000|      843|null|   200|1539588854000|\"Mozilla/5.0 (Mac...|   143|   7|      1| 15|\n",
      "|  null|Cancelled|     Alex|     1|          145|    Hogan|  null|    1|Denver-Aurora-Lak...|   GET|Cancellation Conf...|1535066380000|      842|null|   200|1539729037000|Mozilla/5.0 (Wind...|   101|  22|      2| 16|\n",
      "|  null|Cancelled|    Davis|     1|           34|     Wang|  null|    1|           Flint, MI|   GET|Cancellation Conf...|1538289776000|      802|null|   200|1539736161000|\"Mozilla/5.0 (Win...|   129|   0|      3| 17|\n",
      "|  null|Cancelled|  Nikolas|     1|          287|    Olsen|  null|    1|Oxnard-Thousand O...|   GET|Cancellation Conf...|1528403713000|      881|null|   200|1539759749000|Mozilla/5.0 (X11;...|   121|   7|      3| 17|\n",
      "|  null|Cancelled|    Ethan|     1|          176|  Johnson|  null|    1|Lexington-Fayette...|   GET|Cancellation Conf...|1538080987000|      934|null|   200|1539761972000|\"Mozilla/5.0 (Win...|    51|   7|      3| 17|\n",
      "|  null|Cancelled|Christian|     1|          100| Robinson|  null|    1|       Quincy, IL-MO|   GET|Cancellation Conf...|1534942082000|     1092|null|   200|1540050556000|\"Mozilla/5.0 (Win...|    87|  15|      6| 20|\n",
      "|  null|Cancelled|    Molly|     0|           43|Patterson|  null|    1|   Memphis, TN-MS-AR|   GET|Cancellation Conf...|1535498705000|     1029|null|   200|1540062068000|Mozilla/5.0 (X11;...|   122|  19|      6| 20|\n",
      "|  null|Cancelled|   Sophia|     0|           72|    Perry|  null|    1|Los Angeles-Long ...|   GET|Cancellation Conf...|1533885783000|     1072|null|   200|1540193374000|Mozilla/5.0 (Wind...|    12|   7|      1| 22|\n",
      "|  null|Cancelled|    Erick|     1|           48|   Brooks|  null|    1|           Selma, AL|   GET|Cancellation Conf...|1537956751000|     1112|null|   200|1540223006000|\"Mozilla/5.0 (Win...|    58|  15|      1| 22|\n",
      "|  null|Cancelled|   Rachel|     0|           11|   Bailey|  null|    1|Albany-Schenectad...|   GET|Cancellation Conf...|1536102943000|     1059|null|   200|1540402387000|Mozilla/5.0 (Wind...|    73|  17|      3| 24|\n",
      "|  null|Cancelled|  Jeffery|     1|           46|  Wheeler|  null|    1|         Bozeman, MT|   GET|Cancellation Conf...|1533886191000|     1324|null|   200|1540875543000|\"Mozilla/5.0 (Win...|     3|   4|      2| 30|\n",
      "|  null|Cancelled|   Sophia|     0|           18|      Key|  null|    1|Los Angeles-Long ...|   GET|Cancellation Conf...|1537679535000|     1383|null|   200|1541166424000|\"Mozilla/5.0 (Mac...|   106|  13|      5|  2|\n",
      "|  null|Cancelled|    Piper|     0|            8|  Nielsen|  null|    1|New York-Newark-J...|   GET|Cancellation Conf...|1537699856000|     1583|null|   200|1541340091000|\"Mozilla/5.0 (Mac...|   103|  14|      0|  4|\n",
      "|  null|Cancelled|   Teagan|     0|          306|  Roberts|  null|    1|New Philadelphia-...|   GET|Cancellation Conf...|1537634865000|     1519|null|   200|1541463632000|Mozilla/5.0 (Wind...|    28|   0|      2|  6|\n",
      "|  null|Cancelled|    Alexi|     0|           42|   Warren|  null|    1|Spokane-Spokane V...|   GET|Cancellation Conf...|1532482662000|     1819|null|   200|1542051608000|Mozilla/5.0 (Wind...|    54|  19|      1| 12|\n",
      "+------+---------+---------+------+-------------+---------+------+-----+--------------------+------+--------------------+-------------+---------+----+------+-------------+--------------------+------+----+-------+---+\n",
      "only showing top 20 rows\n",
      "\n"
     ]
    }
   ],
   "source": [
    "df.filter(\"page = 'Cancellation Confirmation'\").show()  #查看流失用户，具体流失用户的详细日志"
   ]
  },
  {
   "cell_type": "code",
   "execution_count": 28,
   "metadata": {
    "scrolled": false
   },
   "outputs": [
    {
     "data": {
      "text/plain": [
       "[Row(userId='28', firstname='Teagan', page='NextSong', level=1, song='Songs That Make A Difference', sessionId=1519, itemInSession=205, day='5'),\n",
       " Row(userId='28', firstname='Teagan', page='Thumbs Down', level=1, song=None, sessionId=1519, itemInSession=206, day='5'),\n",
       " Row(userId='28', firstname='Teagan', page='NextSong', level=1, song='Pages In Blood', sessionId=1519, itemInSession=207, day='5'),\n",
       " Row(userId='28', firstname='Teagan', page='NextSong', level=1, song='Capitol City', sessionId=1519, itemInSession=208, day='5'),\n",
       " Row(userId='28', firstname='Teagan', page='NextSong', level=1, song='Dressed To Digress', sessionId=1519, itemInSession=209, day='5'),\n",
       " Row(userId='28', firstname='Teagan', page='Thumbs Down', level=1, song=None, sessionId=1519, itemInSession=210, day='5'),\n",
       " Row(userId='28', firstname='Teagan', page='NextSong', level=1, song='Agua', sessionId=1519, itemInSession=211, day='5'),\n",
       " Row(userId='28', firstname='Teagan', page='NextSong', level=1, song='Bohemian Forest', sessionId=1519, itemInSession=212, day='5'),\n",
       " Row(userId='28', firstname='Teagan', page='NextSong', level=1, song='Not Exactly', sessionId=1519, itemInSession=213, day='5'),\n",
       " Row(userId='28', firstname='Teagan', page='NextSong', level=1, song='Me And You Blues', sessionId=1519, itemInSession=214, day='5'),\n",
       " Row(userId='28', firstname='Teagan', page='NextSong', level=1, song='By Your Side', sessionId=1519, itemInSession=215, day='5'),\n",
       " Row(userId='28', firstname='Teagan', page='NextSong', level=1, song='Tears Of The Dragon', sessionId=1519, itemInSession=216, day='5'),\n",
       " Row(userId='28', firstname='Teagan', page='Thumbs Up', level=1, song=None, sessionId=1519, itemInSession=217, day='5'),\n",
       " Row(userId='28', firstname='Teagan', page='NextSong', level=1, song='El Salvador', sessionId=1519, itemInSession=218, day='5'),\n",
       " Row(userId='28', firstname='Teagan', page='NextSong', level=1, song='Volcan', sessionId=1519, itemInSession=219, day='5'),\n",
       " Row(userId='28', firstname='Teagan', page='NextSong', level=1, song='A Dustland Fairytale', sessionId=1519, itemInSession=220, day='5'),\n",
       " Row(userId='28', firstname='Teagan', page='NextSong', level=1, song='Tulinesangala', sessionId=1519, itemInSession=221, day='5'),\n",
       " Row(userId='28', firstname='Teagan', page='NextSong', level=1, song='So Jersey', sessionId=1519, itemInSession=222, day='5'),\n",
       " Row(userId='28', firstname='Teagan', page='NextSong', level=1, song='Sala De RecepÃ\\x83Â§Ã\\x83Â£o', sessionId=1519, itemInSession=223, day='5'),\n",
       " Row(userId='28', firstname='Teagan', page='NextSong', level=1, song=\"You Know You're Right\", sessionId=1519, itemInSession=224, day='5'),\n",
       " Row(userId='28', firstname='Teagan', page='NextSong', level=1, song='Some Swedish Trees', sessionId=1519, itemInSession=225, day='5'),\n",
       " Row(userId='28', firstname='Teagan', page='NextSong', level=1, song='Bewildered', sessionId=1519, itemInSession=226, day='5'),\n",
       " Row(userId='28', firstname='Teagan', page='NextSong', level=1, song='Tudo De Voce', sessionId=1519, itemInSession=227, day='5'),\n",
       " Row(userId='28', firstname='Teagan', page='NextSong', level=1, song='The Cross [Live Audio]', sessionId=1519, itemInSession=228, day='5'),\n",
       " Row(userId='28', firstname='Teagan', page='NextSong', level=1, song='Peculiar', sessionId=1519, itemInSession=229, day='5'),\n",
       " Row(userId='28', firstname='Teagan', page='NextSong', level=1, song='Berlin', sessionId=1519, itemInSession=230, day='5'),\n",
       " Row(userId='28', firstname='Teagan', page='NextSong', level=1, song='Walls Of Huntsville', sessionId=1519, itemInSession=231, day='5'),\n",
       " Row(userId='28', firstname='Teagan', page='Thumbs Up', level=1, song=None, sessionId=1519, itemInSession=232, day='5'),\n",
       " Row(userId='28', firstname='Teagan', page='NextSong', level=1, song='Prefab', sessionId=1519, itemInSession=233, day='5'),\n",
       " Row(userId='28', firstname='Teagan', page='NextSong', level=1, song='The Life', sessionId=1519, itemInSession=234, day='5'),\n",
       " Row(userId='28', firstname='Teagan', page='NextSong', level=1, song='Gears', sessionId=1519, itemInSession=235, day='5'),\n",
       " Row(userId='28', firstname='Teagan', page='Downgrade', level=1, song=None, sessionId=1519, itemInSession=236, day='5'),\n",
       " Row(userId='28', firstname='Teagan', page='NextSong', level=1, song='Habalim', sessionId=1519, itemInSession=237, day='5'),\n",
       " Row(userId='28', firstname='Teagan', page='NextSong', level=1, song='Too Young', sessionId=1519, itemInSession=238, day='5'),\n",
       " Row(userId='28', firstname='Teagan', page='Home', level=1, song=None, sessionId=1519, itemInSession=239, day='5'),\n",
       " Row(userId='28', firstname='Teagan', page='NextSong', level=1, song='Blood Bank', sessionId=1519, itemInSession=240, day='5'),\n",
       " Row(userId='28', firstname='Teagan', page='NextSong', level=1, song='Revelry', sessionId=1519, itemInSession=241, day='5'),\n",
       " Row(userId='28', firstname='Teagan', page='NextSong', level=1, song='Take A Walk Around The Table', sessionId=1519, itemInSession=242, day='5'),\n",
       " Row(userId='28', firstname='Teagan', page='NextSong', level=1, song='Picture', sessionId=1519, itemInSession=243, day='5'),\n",
       " Row(userId='28', firstname='Teagan', page='Thumbs Up', level=1, song=None, sessionId=1519, itemInSession=244, day='5'),\n",
       " Row(userId='28', firstname='Teagan', page='NextSong', level=1, song='Easier Said Than Done (Let It Happen Album Version)', sessionId=1519, itemInSession=245, day='5'),\n",
       " Row(userId='28', firstname='Teagan', page='NextSong', level=1, song='Walking On A Dream', sessionId=1519, itemInSession=246, day='5'),\n",
       " Row(userId='28', firstname='Teagan', page='NextSong', level=1, song='Living Proof', sessionId=1519, itemInSession=247, day='5'),\n",
       " Row(userId='28', firstname='Teagan', page='NextSong', level=1, song='Every Little Thing (Album Version)', sessionId=1519, itemInSession=248, day='5'),\n",
       " Row(userId='28', firstname='Teagan', page='NextSong', level=1, song='Mykonos', sessionId=1519, itemInSession=249, day='5'),\n",
       " Row(userId='28', firstname='Teagan', page='Downgrade', level=1, song=None, sessionId=1519, itemInSession=250, day='5'),\n",
       " Row(userId='28', firstname='Teagan', page='NextSong', level=1, song='FrÃ\\x83Â¡gil', sessionId=1519, itemInSession=251, day='5'),\n",
       " Row(userId='28', firstname='Teagan', page='NextSong', level=1, song='Innocent Bones (Album)', sessionId=1519, itemInSession=252, day='5'),\n",
       " Row(userId='28', firstname='Teagan', page='Downgrade', level=1, song=None, sessionId=1519, itemInSession=253, day='5'),\n",
       " Row(userId='28', firstname='Teagan', page='NextSong', level=1, song='The God I Know', sessionId=1519, itemInSession=254, day='5'),\n",
       " Row(userId='28', firstname='Teagan', page='NextSong', level=1, song='Clones', sessionId=1519, itemInSession=255, day='5'),\n",
       " Row(userId='28', firstname='Teagan', page='NextSong', level=1, song=\"You'll Be In My Heart\", sessionId=1519, itemInSession=256, day='5'),\n",
       " Row(userId='28', firstname='Teagan', page='NextSong', level=1, song=\"You're The One\", sessionId=1519, itemInSession=257, day='5'),\n",
       " Row(userId='28', firstname='Teagan', page='NextSong', level=1, song='ReprÃ\\x83Â©sente', sessionId=1519, itemInSession=258, day='5'),\n",
       " Row(userId='28', firstname='Teagan', page='NextSong', level=1, song=\"All These Things That I've Done\", sessionId=1519, itemInSession=259, day='5'),\n",
       " Row(userId='28', firstname='Teagan', page='NextSong', level=1, song='Rosemary', sessionId=1519, itemInSession=260, day='5'),\n",
       " Row(userId='28', firstname='Teagan', page='NextSong', level=1, song=\"Le vol d'un ange\", sessionId=1519, itemInSession=261, day='5'),\n",
       " Row(userId='28', firstname='Teagan', page='NextSong', level=1, song='End Of The World', sessionId=1519, itemInSession=262, day='5'),\n",
       " Row(userId='28', firstname='Teagan', page='NextSong', level=1, song='Mr. Weatherman', sessionId=1519, itemInSession=263, day='5'),\n",
       " Row(userId='28', firstname='Teagan', page='NextSong', level=1, song='Open All Night', sessionId=1519, itemInSession=264, day='5'),\n",
       " Row(userId='28', firstname='Teagan', page='Downgrade', level=1, song=None, sessionId=1519, itemInSession=265, day='5'),\n",
       " Row(userId='28', firstname='Teagan', page='NextSong', level=1, song='Ruska', sessionId=1519, itemInSession=266, day='5'),\n",
       " Row(userId='28', firstname='Teagan', page='NextSong', level=1, song='Fools', sessionId=1519, itemInSession=267, day='5'),\n",
       " Row(userId='28', firstname='Teagan', page='Thumbs Up', level=1, song=None, sessionId=1519, itemInSession=268, day='5'),\n",
       " Row(userId='28', firstname='Teagan', page='NextSong', level=1, song='Almaz', sessionId=1519, itemInSession=269, day='5'),\n",
       " Row(userId='28', firstname='Teagan', page='Logout', level=1, song=None, sessionId=1519, itemInSession=270, day='5'),\n",
       " Row(userId='28', firstname='Teagan', page='Home', level=1, song=None, sessionId=1519, itemInSession=273, day='5'),\n",
       " Row(userId='28', firstname='Teagan', page='NextSong', level=1, song='Hey_ Soul Sister', sessionId=1519, itemInSession=274, day='5'),\n",
       " Row(userId='28', firstname='Teagan', page='NextSong', level=1, song='Till The Sky Falls Down', sessionId=1519, itemInSession=275, day='5'),\n",
       " Row(userId='28', firstname='Teagan', page='NextSong', level=1, song='Our Song', sessionId=1519, itemInSession=276, day='5'),\n",
       " Row(userId='28', firstname='Teagan', page='NextSong', level=1, song='Friday (Instrumental Album Version)', sessionId=1519, itemInSession=277, day='5'),\n",
       " Row(userId='28', firstname='Teagan', page='NextSong', level=1, song='Blues In G', sessionId=1519, itemInSession=278, day='5'),\n",
       " Row(userId='28', firstname='Teagan', page='NextSong', level=1, song='Sense_ Sensibility', sessionId=1519, itemInSession=279, day='5'),\n",
       " Row(userId='28', firstname='Teagan', page='NextSong', level=1, song='Sleep In The Garden', sessionId=1519, itemInSession=280, day='5'),\n",
       " Row(userId='28', firstname='Teagan', page='NextSong', level=1, song='We All Die One Day', sessionId=1519, itemInSession=281, day='5'),\n",
       " Row(userId='28', firstname='Teagan', page='Thumbs Down', level=1, song=None, sessionId=1519, itemInSession=282, day='5'),\n",
       " Row(userId='28', firstname='Teagan', page='NextSong', level=1, song='Mr. Jones', sessionId=1519, itemInSession=283, day='5'),\n",
       " Row(userId='28', firstname='Teagan', page='Thumbs Up', level=1, song=None, sessionId=1519, itemInSession=284, day='5'),\n",
       " Row(userId='28', firstname='Teagan', page='NextSong', level=1, song='Nah Let Go', sessionId=1519, itemInSession=285, day='5'),\n",
       " Row(userId='28', firstname='Teagan', page='NextSong', level=1, song='No Rest For The Wicked', sessionId=1519, itemInSession=286, day='5'),\n",
       " Row(userId='28', firstname='Teagan', page='NextSong', level=1, song='Cherry Blossom Girl (Radio Mix)', sessionId=1519, itemInSession=287, day='5'),\n",
       " Row(userId='28', firstname='Teagan', page='NextSong', level=1, song='Milk', sessionId=1519, itemInSession=288, day='5'),\n",
       " Row(userId='28', firstname='Teagan', page='NextSong', level=1, song='Broken Open', sessionId=1519, itemInSession=289, day='5'),\n",
       " Row(userId='28', firstname='Teagan', page='NextSong', level=1, song='Sound And Vision (1999 Digital Remaster)', sessionId=1519, itemInSession=290, day='5'),\n",
       " Row(userId='28', firstname='Teagan', page='NextSong', level=1, song=\"Ain't Misbehavin\", sessionId=1519, itemInSession=291, day='5'),\n",
       " Row(userId='28', firstname='Teagan', page='NextSong', level=1, song='Love Of My Life (1993 Digital Remaster)', sessionId=1519, itemInSession=292, day='5'),\n",
       " Row(userId='28', firstname='Teagan', page='NextSong', level=1, song='Home', sessionId=1519, itemInSession=293, day='5'),\n",
       " Row(userId='28', firstname='Teagan', page='NextSong', level=1, song=\"I Keep Going Back To Joe's\", sessionId=1519, itemInSession=294, day='5'),\n",
       " Row(userId='28', firstname='Teagan', page='NextSong', level=1, song='Le Million', sessionId=1519, itemInSession=295, day='5'),\n",
       " Row(userId='28', firstname='Teagan', page='NextSong', level=1, song='Free Style (feat. Kevo_ Mussilini & Lyrical 187)', sessionId=1519, itemInSession=296, day='6'),\n",
       " Row(userId='28', firstname='Teagan', page='NextSong', level=1, song='Drive Slow', sessionId=1519, itemInSession=297, day='6'),\n",
       " Row(userId='28', firstname='Teagan', page='NextSong', level=1, song='Stupid Girl', sessionId=1519, itemInSession=298, day='6'),\n",
       " Row(userId='28', firstname='Teagan', page='NextSong', level=1, song='Abstract Art (feat. NO)', sessionId=1519, itemInSession=299, day='6'),\n",
       " Row(userId='28', firstname='Teagan', page='NextSong', level=1, song='Como Duele (Album)', sessionId=1519, itemInSession=300, day='6'),\n",
       " Row(userId='28', firstname='Teagan', page='Home', level=1, song=None, sessionId=1519, itemInSession=301, day='6'),\n",
       " Row(userId='28', firstname='Teagan', page='NextSong', level=1, song='Back In The Day', sessionId=1519, itemInSession=302, day='6'),\n",
       " Row(userId='28', firstname='Teagan', page='Downgrade', level=1, song=None, sessionId=1519, itemInSession=303, day='6'),\n",
       " Row(userId='28', firstname='Teagan', page='Downgrade', level=1, song=None, sessionId=1519, itemInSession=304, day='6'),\n",
       " Row(userId='28', firstname='Teagan', page='Cancel', level=1, song=None, sessionId=1519, itemInSession=305, day='6'),\n",
       " Row(userId='28', firstname='Teagan', page='Cancellation Confirmation', level=1, song=None, sessionId=1519, itemInSession=306, day='6')]"
      ]
     },
     "execution_count": 28,
     "metadata": {},
     "output_type": "execute_result"
    }
   ],
   "source": [
    "#查看用户流失前的操作日志\n",
    "df.select([\"userId\", \"firstname\", \"page\", \"level\", \"song\",\"sessionId\",\"itemInSession\",\"day\"]).where(df.userId == \"28\").collect()[-100:]"
   ]
  },
  {
   "cell_type": "code",
   "execution_count": 29,
   "metadata": {},
   "outputs": [],
   "source": [
    "churn_users=df.filter(df.page==\"Cancellation Confirmation\").select(\"userId\").dropDuplicates()\n",
    "churn_users_list=[(row['userId']) for row in churn_users.collect()]"
   ]
  },
  {
   "cell_type": "code",
   "execution_count": 30,
   "metadata": {},
   "outputs": [
    {
     "data": {
      "text/plain": [
       "['125',\n",
       " '51',\n",
       " '54',\n",
       " '100014',\n",
       " '101',\n",
       " '29',\n",
       " '100021',\n",
       " '87',\n",
       " '73',\n",
       " '3',\n",
       " '28',\n",
       " '100022',\n",
       " '100025',\n",
       " '300007',\n",
       " '100006',\n",
       " '18',\n",
       " '70',\n",
       " '100005',\n",
       " '17',\n",
       " '100007',\n",
       " '300001',\n",
       " '100009',\n",
       " '100015',\n",
       " '200024',\n",
       " '100003',\n",
       " '103',\n",
       " '100024',\n",
       " '53',\n",
       " '122',\n",
       " '200017',\n",
       " '58',\n",
       " '100011',\n",
       " '100019',\n",
       " '100012',\n",
       " '200018',\n",
       " '200016',\n",
       " '200020',\n",
       " '106',\n",
       " '143',\n",
       " '32',\n",
       " '200001',\n",
       " '105',\n",
       " '200011',\n",
       " '100023',\n",
       " '100013',\n",
       " '100017',\n",
       " '121',\n",
       " '12',\n",
       " '200015',\n",
       " '129',\n",
       " '200021',\n",
       " '100001']"
      ]
     },
     "execution_count": 30,
     "metadata": {},
     "output_type": "execute_result"
    }
   ],
   "source": [
    "churn_users_list"
   ]
  },
  {
   "cell_type": "code",
   "execution_count": 31,
   "metadata": {},
   "outputs": [
    {
     "data": {
      "text/plain": [
       "[Row(artist='Martha Tilston', auth='Logged In', firstName='Colin', gender=1, itemInSession=50, lastName='Freeman', length=277.89016, level=1, location='Bakersfield, CA', method='PUT', page='NextSong', registration=1538173362000, sessionId=29, song='Rockpools', status=200, ts=1538352117000, userAgent='Mozilla/5.0 (Windows NT 6.1; WOW64; rv:31.0) Gecko/20100101 Firefox/31.0', userId='30', hour='0', weekday='1', day='1', Churn=0),\n",
       " Row(artist='Five Iron Frenzy', auth='Logged In', firstName='Micah', gender=1, itemInSession=79, lastName='Long', length=236.09424, level=0, location='Boston-Cambridge-Newton, MA-NH', method='PUT', page='NextSong', registration=1538331630000, sessionId=8, song='Canada', status=200, ts=1538352180000, userAgent='\"Mozilla/5.0 (Windows NT 6.1; WOW64) AppleWebKit/537.36 (KHTML, like Gecko) Chrome/37.0.2062.103 Safari/537.36\"', userId='9', hour='0', weekday='1', day='1', Churn=0),\n",
       " Row(artist='Adam Lambert', auth='Logged In', firstName='Colin', gender=1, itemInSession=51, lastName='Freeman', length=282.8273, level=1, location='Bakersfield, CA', method='PUT', page='NextSong', registration=1538173362000, sessionId=29, song='Time For Miracles', status=200, ts=1538352394000, userAgent='Mozilla/5.0 (Windows NT 6.1; WOW64; rv:31.0) Gecko/20100101 Firefox/31.0', userId='30', hour='0', weekday='1', day='1', Churn=0),\n",
       " Row(artist='Enigma', auth='Logged In', firstName='Micah', gender=1, itemInSession=80, lastName='Long', length=262.71302, level=0, location='Boston-Cambridge-Newton, MA-NH', method='PUT', page='NextSong', registration=1538331630000, sessionId=8, song='Knocking On Forbidden Doors', status=200, ts=1538352416000, userAgent='\"Mozilla/5.0 (Windows NT 6.1; WOW64) AppleWebKit/537.36 (KHTML, like Gecko) Chrome/37.0.2062.103 Safari/537.36\"', userId='9', hour='0', weekday='1', day='1', Churn=0),\n",
       " Row(artist='Daft Punk', auth='Logged In', firstName='Colin', gender=1, itemInSession=52, lastName='Freeman', length=223.60771, level=1, location='Bakersfield, CA', method='PUT', page='NextSong', registration=1538173362000, sessionId=29, song='Harder Better Faster Stronger', status=200, ts=1538352676000, userAgent='Mozilla/5.0 (Windows NT 6.1; WOW64; rv:31.0) Gecko/20100101 Firefox/31.0', userId='30', hour='0', weekday='1', day='1', Churn=0)]"
      ]
     },
     "execution_count": 31,
     "metadata": {},
     "output_type": "execute_result"
    }
   ],
   "source": [
    "# 创建Churn列，用来标记后期证实流失的客户\n",
    "flag_CancellationConfirmation_event = udf(lambda x: 1 if x in churn_users_list else 0, IntegerType())\n",
    "df= df.withColumn(\"Churn\", flag_CancellationConfirmation_event(\"userId\"))\n",
    "\n",
    "df.take(5)"
   ]
  },
  {
   "cell_type": "code",
   "execution_count": 33,
   "metadata": {},
   "outputs": [
    {
     "name": "stdout",
     "output_type": "stream",
     "text": [
      "+-----+\n",
      "|Churn|\n",
      "+-----+\n",
      "|    0|\n",
      "|    0|\n",
      "|    0|\n",
      "|    0|\n",
      "|    0|\n",
      "|    0|\n",
      "|    0|\n",
      "|    0|\n",
      "|    0|\n",
      "|    0|\n",
      "|    0|\n",
      "|    0|\n",
      "|    0|\n",
      "|    0|\n",
      "|    0|\n",
      "|    0|\n",
      "|    0|\n",
      "|    0|\n",
      "|    0|\n",
      "|    0|\n",
      "|    0|\n",
      "|    0|\n",
      "|    1|\n",
      "|    0|\n",
      "|    0|\n",
      "|    0|\n",
      "|    1|\n",
      "|    0|\n",
      "|    0|\n",
      "|    0|\n",
      "|    1|\n",
      "|    0|\n",
      "|    0|\n",
      "|    0|\n",
      "|    1|\n",
      "|    1|\n",
      "|    0|\n",
      "|    0|\n",
      "|    0|\n",
      "|    1|\n",
      "|    0|\n",
      "|    0|\n",
      "|    0|\n",
      "|    1|\n",
      "|    1|\n",
      "|    0|\n",
      "|    0|\n",
      "|    0|\n",
      "|    0|\n",
      "|    0|\n",
      "|    0|\n",
      "|    0|\n",
      "|    0|\n",
      "|    0|\n",
      "|    0|\n",
      "|    0|\n",
      "|    0|\n",
      "|    0|\n",
      "|    0|\n",
      "|    0|\n",
      "|    0|\n",
      "|    0|\n",
      "|    0|\n",
      "|    0|\n",
      "|    0|\n",
      "|    0|\n",
      "|    0|\n",
      "|    0|\n",
      "|    0|\n",
      "|    0|\n",
      "|    0|\n",
      "|    0|\n",
      "|    0|\n",
      "|    0|\n",
      "|    0|\n",
      "|    0|\n",
      "|    0|\n",
      "|    0|\n",
      "|    0|\n",
      "|    0|\n",
      "|    0|\n",
      "|    0|\n",
      "|    0|\n",
      "|    0|\n",
      "|    0|\n",
      "|    0|\n",
      "|    0|\n",
      "|    0|\n",
      "|    0|\n",
      "|    0|\n",
      "|    0|\n",
      "|    0|\n",
      "|    0|\n",
      "|    0|\n",
      "|    0|\n",
      "|    0|\n",
      "|    0|\n",
      "|    0|\n",
      "|    0|\n",
      "|    0|\n",
      "+-----+\n",
      "only showing top 100 rows\n",
      "\n"
     ]
    }
   ],
   "source": [
    "df.select(\"Churn\").show(100) #大部分是没有取消服务的"
   ]
  },
  {
   "cell_type": "code",
   "execution_count": 24,
   "metadata": {},
   "outputs": [
    {
     "name": "stdout",
     "output_type": "stream",
     "text": [
      "+-------+------------------+\n",
      "|summary|     itemInSession|\n",
      "+-------+------------------+\n",
      "|  count|            278154|\n",
      "|   mean|114.89918174824018|\n",
      "| stddev|  129.851729399489|\n",
      "|    min|                 0|\n",
      "|    max|              1321|\n",
      "+-------+------------------+\n",
      "\n"
     ]
    }
   ],
   "source": [
    "df.describe(\"itemInSession\").show()"
   ]
  },
  {
   "cell_type": "markdown",
   "metadata": {},
   "source": [
    "## 查看用户关键行为：升级、降级"
   ]
  },
  {
   "cell_type": "code",
   "execution_count": 25,
   "metadata": {},
   "outputs": [
    {
     "data": {
      "text/plain": [
       "[Row(userId='100', page='Submit Downgrade', sessionId=1590),\n",
       " Row(userId='100004', page='Submit Downgrade', sessionId=112),\n",
       " Row(userId='100004', page='Submit Downgrade', sessionId=147),\n",
       " Row(userId='100008', page='Submit Downgrade', sessionId=132),\n",
       " Row(userId='100009', page='Submit Downgrade', sessionId=126),\n",
       " Row(userId='100012', page='Submit Downgrade', sessionId=94),\n",
       " Row(userId='100015', page='Submit Downgrade', sessionId=121),\n",
       " Row(userId='100016', page='Submit Downgrade', sessionId=190),\n",
       " Row(userId='100018', page='Submit Downgrade', sessionId=67),\n",
       " Row(userId='100018', page='Submit Downgrade', sessionId=202),\n",
       " Row(userId='100025', page='Submit Downgrade', sessionId=123),\n",
       " Row(userId='103', page='Submit Downgrade', sessionId=865),\n",
       " Row(userId='109', page='Submit Downgrade', sessionId=1705),\n",
       " Row(userId='11', page='Submit Downgrade', sessionId=487),\n",
       " Row(userId='12', page='Submit Downgrade', sessionId=632),\n",
       " Row(userId='13', page='Submit Downgrade', sessionId=1695),\n",
       " Row(userId='13', page='Submit Downgrade', sessionId=1695),\n",
       " Row(userId='131', page='Submit Downgrade', sessionId=249),\n",
       " Row(userId='131', page='Submit Downgrade', sessionId=2041),\n",
       " Row(userId='140', page='Submit Downgrade', sessionId=753),\n",
       " Row(userId='140', page='Submit Downgrade', sessionId=1643),\n",
       " Row(userId='140', page='Submit Downgrade', sessionId=1918),\n",
       " Row(userId='141', page='Submit Downgrade', sessionId=479),\n",
       " Row(userId='20', page='Submit Downgrade', sessionId=378),\n",
       " Row(userId='20', page='Submit Downgrade', sessionId=1875),\n",
       " Row(userId='200003', page='Submit Downgrade', sessionId=28),\n",
       " Row(userId='200003', page='Submit Downgrade', sessionId=283),\n",
       " Row(userId='200009', page='Submit Downgrade', sessionId=251),\n",
       " Row(userId='200011', page='Submit Downgrade', sessionId=238),\n",
       " Row(userId='200019', page='Submit Downgrade', sessionId=148),\n",
       " Row(userId='200020', page='Submit Downgrade', sessionId=222),\n",
       " Row(userId='200023', page='Submit Downgrade', sessionId=69),\n",
       " Row(userId='200023', page='Submit Downgrade', sessionId=295),\n",
       " Row(userId='200025', page='Submit Downgrade', sessionId=115),\n",
       " Row(userId='24', page='Submit Downgrade', sessionId=1317),\n",
       " Row(userId='25', page='Submit Downgrade', sessionId=1718),\n",
       " Row(userId='30', page='Submit Downgrade', sessionId=532),\n",
       " Row(userId='300002', page='Submit Downgrade', sessionId=220),\n",
       " Row(userId='300004', page='Submit Downgrade', sessionId=267),\n",
       " Row(userId='300011', page='Submit Downgrade', sessionId=362),\n",
       " Row(userId='300015', page='Submit Downgrade', sessionId=69),\n",
       " Row(userId='300021', page='Submit Downgrade', sessionId=144),\n",
       " Row(userId='300023', page='Submit Downgrade', sessionId=459),\n",
       " Row(userId='35', page='Submit Downgrade', sessionId=812),\n",
       " Row(userId='35', page='Submit Downgrade', sessionId=1704),\n",
       " Row(userId='38', page='Submit Downgrade', sessionId=313),\n",
       " Row(userId='39', page='Submit Downgrade', sessionId=1546),\n",
       " Row(userId='39', page='Submit Downgrade', sessionId=1609),\n",
       " Row(userId='39', page='Submit Downgrade', sessionId=1985),\n",
       " Row(userId='49', page='Submit Downgrade', sessionId=1744),\n",
       " Row(userId='54', page='Submit Downgrade', sessionId=859),\n",
       " Row(userId='59', page='Submit Downgrade', sessionId=510),\n",
       " Row(userId='61', page='Submit Downgrade', sessionId=529),\n",
       " Row(userId='61', page='Submit Downgrade', sessionId=2345),\n",
       " Row(userId='74', page='Submit Downgrade', sessionId=1101),\n",
       " Row(userId='77', page='Submit Downgrade', sessionId=688),\n",
       " Row(userId='81', page='Submit Downgrade', sessionId=725),\n",
       " Row(userId='85', page='Submit Downgrade', sessionId=734),\n",
       " Row(userId='85', page='Submit Downgrade', sessionId=1183),\n",
       " Row(userId='9', page='Submit Downgrade', sessionId=1276),\n",
       " Row(userId='92', page='Submit Downgrade', sessionId=2125),\n",
       " Row(userId='95', page='Submit Downgrade', sessionId=826),\n",
       " Row(userId='96', page='Submit Downgrade', sessionId=1689)]"
      ]
     },
     "execution_count": 25,
     "metadata": {},
     "output_type": "execute_result"
    }
   ],
   "source": [
    "df.select([\"userId\", \"page\",\"sessionId\"]).where(df.page==\"Submit Downgrade\").sort([\"userId\"]).collect()"
   ]
  },
  {
   "cell_type": "code",
   "execution_count": 26,
   "metadata": {
    "scrolled": false
   },
   "outputs": [
    {
     "data": {
      "text/plain": [
       "[Row(userId='100', page='Submit Upgrade', sessionId=1899),\n",
       " Row(userId='100004', page='Submit Upgrade', sessionId=108),\n",
       " Row(userId='100004', page='Submit Upgrade', sessionId=112),\n",
       " Row(userId='100004', page='Submit Upgrade', sessionId=208),\n",
       " Row(userId='100009', page='Submit Upgrade', sessionId=85),\n",
       " Row(userId='100012', page='Submit Upgrade', sessionId=59),\n",
       " Row(userId='100013', page='Submit Upgrade', sessionId=62),\n",
       " Row(userId='100015', page='Submit Upgrade', sessionId=79),\n",
       " Row(userId='100015', page='Submit Upgrade', sessionId=162),\n",
       " Row(userId='100018', page='Submit Upgrade', sessionId=67),\n",
       " Row(userId='100018', page='Submit Upgrade', sessionId=114),\n",
       " Row(userId='100023', page='Submit Upgrade', sessionId=61),\n",
       " Row(userId='101', page='Submit Upgrade', sessionId=312),\n",
       " Row(userId='103', page='Submit Upgrade', sessionId=865),\n",
       " Row(userId='103', page='Submit Upgrade', sessionId=916),\n",
       " Row(userId='104', page='Submit Upgrade', sessionId=1103),\n",
       " Row(userId='105', page='Submit Upgrade', sessionId=104),\n",
       " Row(userId='106', page='Submit Upgrade', sessionId=429),\n",
       " Row(userId='108', page='Submit Upgrade', sessionId=1228),\n",
       " Row(userId='109', page='Submit Upgrade', sessionId=108),\n",
       " Row(userId='11', page='Submit Upgrade', sessionId=487),\n",
       " Row(userId='11', page='Submit Upgrade', sessionId=1824),\n",
       " Row(userId='111', page='Submit Upgrade', sessionId=1416),\n",
       " Row(userId='113', page='Submit Upgrade', sessionId=366),\n",
       " Row(userId='114', page='Submit Upgrade', sessionId=1013),\n",
       " Row(userId='115', page='Submit Upgrade', sessionId=316),\n",
       " Row(userId='118', page='Submit Upgrade', sessionId=601),\n",
       " Row(userId='12', page='Submit Upgrade', sessionId=379),\n",
       " Row(userId='12', page='Submit Upgrade', sessionId=910),\n",
       " Row(userId='121', page='Submit Upgrade', sessionId=719),\n",
       " Row(userId='122', page='Submit Upgrade', sessionId=1029),\n",
       " Row(userId='126', page='Submit Upgrade', sessionId=988),\n",
       " Row(userId='128', page='Submit Upgrade', sessionId=834),\n",
       " Row(userId='129', page='Submit Upgrade', sessionId=536),\n",
       " Row(userId='13', page='Submit Upgrade', sessionId=1524),\n",
       " Row(userId='13', page='Submit Upgrade', sessionId=1695),\n",
       " Row(userId='131', page='Submit Upgrade', sessionId=249),\n",
       " Row(userId='132', page='Submit Upgrade', sessionId=131),\n",
       " Row(userId='136', page='Submit Upgrade', sessionId=855),\n",
       " Row(userId='137', page='Submit Upgrade', sessionId=408),\n",
       " Row(userId='138', page='Submit Upgrade', sessionId=1033),\n",
       " Row(userId='139', page='Submit Upgrade', sessionId=172),\n",
       " Row(userId='140', page='Submit Upgrade', sessionId=492),\n",
       " Row(userId='140', page='Submit Upgrade', sessionId=1056),\n",
       " Row(userId='140', page='Submit Upgrade', sessionId=1681),\n",
       " Row(userId='140', page='Submit Upgrade', sessionId=2097),\n",
       " Row(userId='141', page='Submit Upgrade', sessionId=479),\n",
       " Row(userId='142', page='Submit Upgrade', sessionId=141),\n",
       " Row(userId='147', page='Submit Upgrade', sessionId=1851),\n",
       " Row(userId='152', page='Submit Upgrade', sessionId=1919),\n",
       " Row(userId='153', page='Submit Upgrade', sessionId=1719),\n",
       " Row(userId='155', page='Submit Upgrade', sessionId=1562),\n",
       " Row(userId='16', page='Submit Upgrade', sessionId=185),\n",
       " Row(userId='17', page='Submit Upgrade', sessionId=563),\n",
       " Row(userId='20', page='Submit Upgrade', sessionId=947),\n",
       " Row(userId='20', page='Submit Upgrade', sessionId=1948),\n",
       " Row(userId='200002', page='Submit Upgrade', sessionId=163),\n",
       " Row(userId='200003', page='Submit Upgrade', sessionId=228),\n",
       " Row(userId='200005', page='Submit Upgrade', sessionId=277),\n",
       " Row(userId='200008', page='Submit Upgrade', sessionId=32),\n",
       " Row(userId='200009', page='Submit Upgrade', sessionId=183),\n",
       " Row(userId='200011', page='Submit Upgrade', sessionId=134),\n",
       " Row(userId='200014', page='Submit Upgrade', sessionId=361),\n",
       " Row(userId='200017', page='Submit Upgrade', sessionId=206),\n",
       " Row(userId='200019', page='Submit Upgrade', sessionId=19),\n",
       " Row(userId='200020', page='Submit Upgrade', sessionId=204),\n",
       " Row(userId='200021', page='Submit Upgrade', sessionId=137),\n",
       " Row(userId='200023', page='Submit Upgrade', sessionId=37),\n",
       " Row(userId='200023', page='Submit Upgrade', sessionId=216),\n",
       " Row(userId='200023', page='Submit Upgrade', sessionId=410),\n",
       " Row(userId='200024', page='Submit Upgrade', sessionId=197),\n",
       " Row(userId='200025', page='Submit Upgrade', sessionId=115),\n",
       " Row(userId='200025', page='Submit Upgrade', sessionId=282),\n",
       " Row(userId='23', page='Submit Upgrade', sessionId=2056),\n",
       " Row(userId='24', page='Submit Upgrade', sessionId=1149),\n",
       " Row(userId='25', page='Submit Upgrade', sessionId=2039),\n",
       " Row(userId='26', page='Submit Upgrade', sessionId=2395),\n",
       " Row(userId='28', page='Submit Upgrade', sessionId=1367),\n",
       " Row(userId='29', page='Submit Upgrade', sessionId=589),\n",
       " Row(userId='30', page='Submit Upgrade', sessionId=2244),\n",
       " Row(userId='300001', page='Submit Upgrade', sessionId=1),\n",
       " Row(userId='300002', page='Submit Upgrade', sessionId=43),\n",
       " Row(userId='300002', page='Submit Upgrade', sessionId=224),\n",
       " Row(userId='300004', page='Submit Upgrade', sessionId=27),\n",
       " Row(userId='300005', page='Submit Upgrade', sessionId=30),\n",
       " Row(userId='300006', page='Submit Upgrade', sessionId=410),\n",
       " Row(userId='300009', page='Submit Upgrade', sessionId=9),\n",
       " Row(userId='300011', page='Submit Upgrade', sessionId=54),\n",
       " Row(userId='300011', page='Submit Upgrade', sessionId=412),\n",
       " Row(userId='300012', page='Submit Upgrade', sessionId=74),\n",
       " Row(userId='300014', page='Submit Upgrade', sessionId=61),\n",
       " Row(userId='300015', page='Submit Upgrade', sessionId=15),\n",
       " Row(userId='300015', page='Submit Upgrade', sessionId=109),\n",
       " Row(userId='300016', page='Submit Upgrade', sessionId=16),\n",
       " Row(userId='300018', page='Submit Upgrade', sessionId=127),\n",
       " Row(userId='300019', page='Submit Upgrade', sessionId=42),\n",
       " Row(userId='300021', page='Submit Upgrade', sessionId=144),\n",
       " Row(userId='300023', page='Submit Upgrade', sessionId=479),\n",
       " Row(userId='300025', page='Submit Upgrade', sessionId=63),\n",
       " Row(userId='32', page='Submit Upgrade', sessionId=540),\n",
       " Row(userId='35', page='Submit Upgrade', sessionId=677),\n",
       " Row(userId='35', page='Submit Upgrade', sessionId=1181),\n",
       " Row(userId='36', page='Submit Upgrade', sessionId=1738),\n",
       " Row(userId='37', page='Submit Upgrade', sessionId=893),\n",
       " Row(userId='38', page='Submit Upgrade', sessionId=1196),\n",
       " Row(userId='39', page='Submit Upgrade', sessionId=619),\n",
       " Row(userId='39', page='Submit Upgrade', sessionId=1546),\n",
       " Row(userId='39', page='Submit Upgrade', sessionId=1634),\n",
       " Row(userId='39', page='Submit Upgrade', sessionId=2459),\n",
       " Row(userId='4', page='Submit Upgrade', sessionId=1094),\n",
       " Row(userId='40', page='Submit Upgrade', sessionId=744),\n",
       " Row(userId='42', page='Submit Upgrade', sessionId=543),\n",
       " Row(userId='44', page='Submit Upgrade', sessionId=183),\n",
       " Row(userId='45', page='Submit Upgrade', sessionId=1045),\n",
       " Row(userId='46', page='Submit Upgrade', sessionId=1008),\n",
       " Row(userId='49', page='Submit Upgrade', sessionId=2332),\n",
       " Row(userId='50', page='Submit Upgrade', sessionId=1578),\n",
       " Row(userId='52', page='Submit Upgrade', sessionId=1407),\n",
       " Row(userId='53', page='Submit Upgrade', sessionId=1174),\n",
       " Row(userId='54', page='Submit Upgrade', sessionId=1316),\n",
       " Row(userId='55', page='Submit Upgrade', sessionId=1830),\n",
       " Row(userId='56', page='Submit Upgrade', sessionId=1510),\n",
       " Row(userId='58', page='Submit Upgrade', sessionId=325),\n",
       " Row(userId='59', page='Submit Upgrade', sessionId=455),\n",
       " Row(userId='59', page='Submit Upgrade', sessionId=899),\n",
       " Row(userId='6', page='Submit Upgrade', sessionId=483),\n",
       " Row(userId='60', page='Submit Upgrade', sessionId=59),\n",
       " Row(userId='61', page='Submit Upgrade', sessionId=529),\n",
       " Row(userId='61', page='Submit Upgrade', sessionId=1441),\n",
       " Row(userId='65', page='Submit Upgrade', sessionId=526),\n",
       " Row(userId='66', page='Submit Upgrade', sessionId=1169),\n",
       " Row(userId='67', page='Submit Upgrade', sessionId=791),\n",
       " Row(userId='69', page='Submit Upgrade', sessionId=414),\n",
       " Row(userId='70', page='Submit Upgrade', sessionId=376),\n",
       " Row(userId='71', page='Submit Upgrade', sessionId=1142),\n",
       " Row(userId='73', page='Submit Upgrade', sessionId=72),\n",
       " Row(userId='74', page='Submit Upgrade', sessionId=924),\n",
       " Row(userId='74', page='Submit Upgrade', sessionId=1498),\n",
       " Row(userId='77', page='Submit Upgrade', sessionId=1057),\n",
       " Row(userId='79', page='Submit Upgrade', sessionId=1921),\n",
       " Row(userId='81', page='Submit Upgrade', sessionId=952),\n",
       " Row(userId='82', page='Submit Upgrade', sessionId=1322),\n",
       " Row(userId='83', page='Submit Upgrade', sessionId=1472),\n",
       " Row(userId='85', page='Submit Upgrade', sessionId=654),\n",
       " Row(userId='85', page='Submit Upgrade', sessionId=1098),\n",
       " Row(userId='85', page='Submit Upgrade', sessionId=1303),\n",
       " Row(userId='86', page='Submit Upgrade', sessionId=1855),\n",
       " Row(userId='87', page='Submit Upgrade', sessionId=1036),\n",
       " Row(userId='88', page='Submit Upgrade', sessionId=1065),\n",
       " Row(userId='89', page='Submit Upgrade', sessionId=636),\n",
       " Row(userId='9', page='Submit Upgrade', sessionId=367),\n",
       " Row(userId='9', page='Submit Upgrade', sessionId=1347),\n",
       " Row(userId='91', page='Submit Upgrade', sessionId=693),\n",
       " Row(userId='92', page='Submit Upgrade', sessionId=501),\n",
       " Row(userId='93', page='Submit Upgrade', sessionId=2329),\n",
       " Row(userId='96', page='Submit Upgrade', sessionId=2300),\n",
       " Row(userId='97', page='Submit Upgrade', sessionId=1359),\n",
       " Row(userId='98', page='Submit Upgrade', sessionId=1139),\n",
       " Row(userId='99', page='Submit Upgrade', sessionId=699)]"
      ]
     },
     "execution_count": 26,
     "metadata": {},
     "output_type": "execute_result"
    }
   ],
   "source": [
    "df.select([\"userId\", \"page\",\"sessionId\"]).where(df.page==\"Submit Upgrade\").sort([\"userId\"]).collect()"
   ]
  },
  {
   "cell_type": "markdown",
   "metadata": {},
   "source": [
    "## 观察用户使用最多的页面"
   ]
  },
  {
   "cell_type": "code",
   "execution_count": 27,
   "metadata": {
    "scrolled": true
   },
   "outputs": [
    {
     "name": "stdout",
     "output_type": "stream",
     "text": [
      "+--------------------+------+\n",
      "|                Page| count|\n",
      "+--------------------+------+\n",
      "|            NextSong|228108|\n",
      "|           Thumbs Up| 12551|\n",
      "|                Home| 10082|\n",
      "|     Add to Playlist|  6526|\n",
      "|          Add Friend|  4277|\n",
      "|         Roll Advert|  3933|\n",
      "|              Logout|  3226|\n",
      "|         Thumbs Down|  2546|\n",
      "|           Downgrade|  2055|\n",
      "|            Settings|  1514|\n",
      "|                Help|  1454|\n",
      "|             Upgrade|   499|\n",
      "|               About|   495|\n",
      "|       Save Settings|   310|\n",
      "|               Error|   252|\n",
      "|      Submit Upgrade|   159|\n",
      "|    Submit Downgrade|    63|\n",
      "|              Cancel|    52|\n",
      "|Cancellation Conf...|    52|\n",
      "+--------------------+------+\n",
      "\n"
     ]
    }
   ],
   "source": [
    "df.groupBy('Page').count().sort(\"count\", ascending=False).show()"
   ]
  },
  {
   "cell_type": "markdown",
   "metadata": {},
   "source": [
    "## 用户流失在不同性别的分布"
   ]
  },
  {
   "cell_type": "code",
   "execution_count": 28,
   "metadata": {},
   "outputs": [
    {
     "data": {
      "text/plain": [
       "<matplotlib.axes._subplots.AxesSubplot at 0x7f78b88d2e48>"
      ]
     },
     "execution_count": 28,
     "metadata": {},
     "output_type": "execute_result"
    },
    {
     "data": {
      "image/png": "[encoded data removed]",
      "text/plain": [
       "<matplotlib.figure.Figure at 0x7f78b88d97b8>"
      ]
     },
     "metadata": {
      "needs_background": "light"
     },
     "output_type": "display_data"
    }
   ],
   "source": [
    "df_pd=df.dropDuplicates([\"userId\", \"gender\"]).groupby([\"Churn\", \"gender\"]).count().sort(\"Churn\").toPandas()\n",
    "sns.barplot(x='Churn', y='count', hue='gender', data=df_pd)\n",
    "#1 male,paid 1,Churn 1"
   ]
  },
  {
   "cell_type": "markdown",
   "metadata": {},
   "source": [
    "## 用户流失在不同会员等级的分布"
   ]
  },
  {
   "cell_type": "code",
   "execution_count": 29,
   "metadata": {
    "scrolled": true
   },
   "outputs": [
    {
     "data": {
      "text/plain": [
       "<matplotlib.axes._subplots.AxesSubplot at 0x7f78b87c59e8>"
      ]
     },
     "execution_count": 29,
     "metadata": {},
     "output_type": "execute_result"
    },
    {
     "data": {
      "image/png": "[encoded data removed]",
      "text/plain": [
       "<matplotlib.figure.Figure at 0x7f78b87b6c88>"
      ]
     },
     "metadata": {
      "needs_background": "light"
     },
     "output_type": "display_data"
    }
   ],
   "source": [
    "df_pd=df.dropDuplicates([\"userId\", \"level\"]).groupby([\"Churn\", \"level\"]).count().sort(\"Churn\").toPandas()\n",
    "sns.barplot(x='Churn', y='count', hue='level', data=df_pd)"
   ]
  },
  {
   "cell_type": "markdown",
   "metadata": {},
   "source": [
    "## 用户流失最多的地区"
   ]
  },
  {
   "cell_type": "code",
   "execution_count": 30,
   "metadata": {},
   "outputs": [
    {
     "name": "stdout",
     "output_type": "stream",
     "text": [
      "+--------------------+-----+-----+\n",
      "|            location|Churn|count|\n",
      "+--------------------+-----+-----+\n",
      "|New York-Newark-J...|    1|    5|\n",
      "|Los Angeles-Long ...|    1|    3|\n",
      "|Philadelphia-Camd...|    1|    2|\n",
      "|Phoenix-Mesa-Scot...|    1|    2|\n",
      "|Spokane-Spokane V...|    1|    2|\n",
      "|Miami-Fort Lauder...|    1|    2|\n",
      "|           Flint, MI|    1|    2|\n",
      "|         Jackson, MS|    1|    2|\n",
      "|Greenville-Anders...|    1|    1|\n",
      "|Indianapolis-Carm...|    1|    1|\n",
      "+--------------------+-----+-----+\n",
      "only showing top 10 rows\n",
      "\n"
     ]
    }
   ],
   "source": [
    "df.select(\"userId\",\"Churn\",\"location\").dropDuplicates().groupby([\"location\",\"Churn\"]).count().sort([\"Churn\",\"count\"], ascending=False).show(10)"
   ]
  },
  {
   "cell_type": "markdown",
   "metadata": {},
   "source": [
    "## 流失用户的每次登陆页面操作数"
   ]
  },
  {
   "cell_type": "code",
   "execution_count": 31,
   "metadata": {},
   "outputs": [
    {
     "name": "stdout",
     "output_type": "stream",
     "text": [
      "+-----+-----------------------+\n",
      "|churn|avg(avg(itemInSession))|\n",
      "+-----+-----------------------+\n",
      "|    1|      72.39591226205863|\n",
      "|    0|      89.13463393625388|\n",
      "+-----+-----------------------+\n",
      "\n"
     ]
    }
   ],
   "source": [
    "df.groupBy(['userId','churn']).avg('itemInSession').groupBy('churn').avg('avg(itemInSession)').show()"
   ]
  },
  {
   "cell_type": "markdown",
   "metadata": {},
   "source": [
    "## 用户在线时段观察"
   ]
  },
  {
   "cell_type": "code",
   "execution_count": 32,
   "metadata": {},
   "outputs": [],
   "source": [
    "def plot_cnt_by_churn(time): \n",
    "    \"\"\"\n",
    "    此函数用来绘制频率分布的直方图\n",
    "    \"\"\"\n",
    "    df_pd = df.filter(df.page == \"NextSong\").groupby(\"churn\", time).count().orderBy(df[time].cast(\"float\")).toPandas()\n",
    "    df_pd[time] = pd.to_numeric(df_pd[time])\n",
    "    df_pd[df_pd.churn==0].plot.bar(x=time, y='count', color='burlywood',label='Not churn')\n",
    "    df_pd[df_pd.churn==1].plot.bar(x=time, y='count', color='lightseagreen', label='Churn')"
   ]
  },
  {
   "cell_type": "code",
   "execution_count": 33,
   "metadata": {},
   "outputs": [
    {
     "data": {
      "image/png": "[encoded data removed]",
      "text/plain": [
       "<matplotlib.figure.Figure at 0x7f78b87cb898>"
      ]
     },
     "metadata": {
      "needs_background": "light"
     },
     "output_type": "display_data"
    },
    {
     "data": {
      "image/png": "[encoded data removed]",
      "text/plain": [
       "<matplotlib.figure.Figure at 0x7f78b8678710>"
      ]
     },
     "metadata": {
      "needs_background": "light"
     },
     "output_type": "display_data"
    }
   ],
   "source": [
    "plot_cnt_by_churn(\"hour\")"
   ]
  },
  {
   "cell_type": "code",
   "execution_count": 34,
   "metadata": {},
   "outputs": [
    {
     "data": {
      "image/png": "[encoded data removed]",
      "text/plain": [
       "<matplotlib.figure.Figure at 0x7f78b85e0198>"
      ]
     },
     "metadata": {
      "needs_background": "light"
     },
     "output_type": "display_data"
    },
    {
     "data": {
      "image/png": "[encoded data removed]",
      "text/plain": [
       "<matplotlib.figure.Figure at 0x7f78b8578a20>"
      ]
     },
     "metadata": {
      "needs_background": "light"
     },
     "output_type": "display_data"
    }
   ],
   "source": [
    "plot_cnt_by_churn(\"weekday\")"
   ]
  },
  {
   "cell_type": "code",
   "execution_count": 35,
   "metadata": {},
   "outputs": [
    {
     "data": {
      "image/png": "[encoded data removed]",
      "text/plain": [
       "<matplotlib.figure.Figure at 0x7f78b8560748>"
      ]
     },
     "metadata": {
      "needs_background": "light"
     },
     "output_type": "display_data"
    },
    {
     "data": {
      "image/png": "[encoded data removed]",
      "text/plain": [
       "<matplotlib.figure.Figure at 0x7f78b84115c0>"
      ]
     },
     "metadata": {
      "needs_background": "light"
     },
     "output_type": "display_data"
    }
   ],
   "source": [
    "plot_cnt_by_churn(\"day\")"
   ]
  },
  {
   "cell_type": "markdown",
   "metadata": {},
   "source": [
    "# 特征工程"
   ]
  },
  {
   "cell_type": "markdown",
   "metadata": {},
   "source": [
    "## 每个用户相关关键页面操作累计和"
   ]
  },
  {
   "cell_type": "code",
   "execution_count": 36,
   "metadata": {},
   "outputs": [],
   "source": [
    "# for thepage in [\"Help\",\"Error\",\"Upgrade\",\"SubmitUpgrade\",\"Downgrade\",\"SubmitDowngrade\",\"Cancel\"]:\n",
    "df_Help=df.select('userID','page')\\\n",
    ".where(df.page == 'Help')\\\n",
    ".groupBy('userID')\\\n",
    ".agg({'page':'count'})\\\n",
    ".withColumnRenamed('count(page)', 'num_Help')\n",
    "\n",
    "df_Error=df.select('userID','page')\\\n",
    ".where(df.page == 'Error')\\\n",
    ".groupBy('userID')\\\n",
    ".agg({'page':'count'})\\\n",
    ".withColumnRenamed('count(page)', 'num_Error')\n",
    "\n",
    "df_Upgrade=df.select('userID','page')\\\n",
    ".where(df.page == 'Upgrade')\\\n",
    ".groupBy('userID')\\\n",
    ".agg({'page':'count'})\\\n",
    ".withColumnRenamed('count(page)', 'num_Upgrade')\n",
    "\n",
    "df_SubmitUpgrade=df.select('userID','page')\\\n",
    ".where(df.page == 'Submit Upgrade')\\\n",
    ".groupBy('userID')\\\n",
    ".agg({'page':'count'})\\\n",
    ".withColumnRenamed('count(page)', 'num_SubmitUpgrade')\n",
    "\n",
    "df_Downgrade=df.select('userID','page')\\\n",
    ".where(df.page == 'Downgrade')\\\n",
    ".groupBy('userID')\\\n",
    ".agg({'page':'count'})\\\n",
    ".withColumnRenamed('count(page)', 'num_Downgrade')\n",
    "\n",
    "df_SubmitDowngrade=df.select('userID','page')\\\n",
    ".where(df.page == 'Submit Downgrade')\\\n",
    ".groupBy('userID')\\\n",
    ".agg({'page':'count'})\\\n",
    ".withColumnRenamed('count(page)', 'SubmitDowngrade')\n",
    "\n",
    "df_Cancel=df.select('userID','page')\\\n",
    ".where(df.page == 'Cancel')\\\n",
    ".groupBy('userID')\\\n",
    ".agg({'page':'count'})\\\n",
    ".withColumnRenamed('count(page)', 'num_Cancel')"
   ]
  },
  {
   "cell_type": "code",
   "execution_count": 37,
   "metadata": {},
   "outputs": [
    {
     "name": "stdout",
     "output_type": "stream",
     "text": [
      "+------+----------+\n",
      "|userID|num_Cancel|\n",
      "+------+----------+\n",
      "|   125|         1|\n",
      "|    51|         1|\n",
      "|    54|         1|\n",
      "|100014|         1|\n",
      "|   101|         1|\n",
      "|    29|         1|\n",
      "|100021|         1|\n",
      "|    87|         1|\n",
      "|    73|         1|\n",
      "|     3|         1|\n",
      "|    28|         1|\n",
      "|100022|         1|\n",
      "|100025|         1|\n",
      "|300007|         1|\n",
      "|100006|         1|\n",
      "|    18|         1|\n",
      "|    70|         1|\n",
      "|100005|         1|\n",
      "|    17|         1|\n",
      "|100007|         1|\n",
      "+------+----------+\n",
      "only showing top 20 rows\n",
      "\n"
     ]
    }
   ],
   "source": [
    "df_Cancel.show()"
   ]
  },
  {
   "cell_type": "markdown",
   "metadata": {},
   "source": [
    "## 用户累计参与度"
   ]
  },
  {
   "cell_type": "code",
   "execution_count": 38,
   "metadata": {},
   "outputs": [],
   "source": [
    "df_Add_to_Playlist=df.select('userID','page')\\\n",
    ".where(df.page == 'Add to Playlist')\\\n",
    ".groupBy('userID')\\\n",
    ".agg({'page':'count'})\\\n",
    ".withColumnRenamed('count(page)', 'num_Add_to_Playlist')\n",
    "\n",
    "df_Add_Friend=df.select('userID','page')\\\n",
    ".where(df.page == 'Add Friend')\\\n",
    ".groupBy('userID')\\\n",
    ".agg({'page':'count'})\\\n",
    ".withColumnRenamed('count(page)', 'num_Add_Friend')\n"
   ]
  },
  {
   "cell_type": "code",
   "execution_count": 39,
   "metadata": {},
   "outputs": [
    {
     "name": "stdout",
     "output_type": "stream",
     "text": [
      "+------+--------------+\n",
      "|userID|num_Add_Friend|\n",
      "+------+--------------+\n",
      "|100010|             4|\n",
      "|200002|             4|\n",
      "|    51|            28|\n",
      "|   124|            74|\n",
      "|     7|             1|\n",
      "|    54|            33|\n",
      "|    15|            31|\n",
      "|   155|            11|\n",
      "|   132|            41|\n",
      "|   154|             3|\n",
      "|100014|             6|\n",
      "|   101|            29|\n",
      "|    11|             6|\n",
      "|   138|            41|\n",
      "|300017|            63|\n",
      "|    29|            47|\n",
      "|    69|            12|\n",
      "|100021|             7|\n",
      "|    42|            52|\n",
      "|   112|             7|\n",
      "+------+--------------+\n",
      "only showing top 20 rows\n",
      "\n"
     ]
    }
   ],
   "source": [
    "df_Add_Friend.show()"
   ]
  },
  {
   "cell_type": "code",
   "execution_count": 40,
   "metadata": {},
   "outputs": [
    {
     "name": "stdout",
     "output_type": "stream",
     "text": [
      "+------+-------------------+\n",
      "|userID|num_Add_to_Playlist|\n",
      "+------+-------------------+\n",
      "|100010|                  7|\n",
      "|200002|                  8|\n",
      "|    51|                 52|\n",
      "|   124|                118|\n",
      "|     7|                  5|\n",
      "|    15|                 59|\n",
      "|    54|                 72|\n",
      "|   155|                 24|\n",
      "|   132|                 38|\n",
      "|   154|                  1|\n",
      "|100014|                  7|\n",
      "|   101|                 61|\n",
      "|    11|                 20|\n",
      "|   138|                 67|\n",
      "|300017|                113|\n",
      "|    29|                 89|\n",
      "|    69|                 33|\n",
      "|100021|                  7|\n",
      "|    42|                104|\n",
      "|   112|                  7|\n",
      "+------+-------------------+\n",
      "only showing top 20 rows\n",
      "\n"
     ]
    }
   ],
   "source": [
    "df_Add_to_Playlist.show()"
   ]
  },
  {
   "cell_type": "markdown",
   "metadata": {},
   "source": [
    "## 每个SessionId的统计指标"
   ]
  },
  {
   "cell_type": "markdown",
   "metadata": {},
   "source": [
    "查看用户平均每个session的统计数据，包括平均所用时间、最多时间、最少时间"
   ]
  },
  {
   "cell_type": "code",
   "execution_count": 41,
   "metadata": {},
   "outputs": [],
   "source": [
    "user_session_time = df.select(\"userId\",\"sessionId\",\"ts\").groupby(\"userId\", \"sessionId\").agg(((max(df.ts)-min(df.ts))/(1000*60)).alias(\"sessionTime\"))\n",
    "user_session_time_stat = user_session_time.groupby(\"userId\").agg(avg(user_session_time.sessionTime).alias(\"avgSessionTime\"), min(user_session_time.sessionTime).alias(\"minSessionTime\"), max(user_session_time.sessionTime).alias(\"maxSessionTime\")).sort(\"userId\")"
   ]
  },
  {
   "cell_type": "code",
   "execution_count": 42,
   "metadata": {},
   "outputs": [
    {
     "name": "stdout",
     "output_type": "stream",
     "text": [
      "+------+------------------+-------------------+------------------+\n",
      "|userId|    avgSessionTime|     minSessionTime|    maxSessionTime|\n",
      "+------+------------------+-------------------+------------------+\n",
      "|    10|459.74722222222226|  91.41666666666667|1547.9166666666667|\n",
      "|   100| 316.5190476190476|                0.0|1019.5833333333334|\n",
      "|100001|148.15833333333333|               63.0|215.28333333333333|\n",
      "|100002|201.18333333333334|                0.0| 730.4666666666667|\n",
      "|100003| 99.11666666666667|  3.216666666666667|195.01666666666668|\n",
      "|100004|185.98650793650793|                0.0| 940.2166666666667|\n",
      "|100005|120.18666666666668|                0.0|209.21666666666667|\n",
      "|100006| 93.43333333333334|  93.43333333333334| 93.43333333333334|\n",
      "|100007|189.41111111111113|                8.9| 675.6333333333333|\n",
      "|100008| 528.2527777777779|              57.05|            2024.4|\n",
      "|100009|211.96166666666667|  4.516666666666667| 666.3333333333334|\n",
      "|100010|154.48333333333332|              22.55|             323.0|\n",
      "|100011| 44.38333333333333|  44.38333333333333| 44.38333333333333|\n",
      "|100012|271.43809523809523|                0.0| 729.4166666666666|\n",
      "|100013|329.99880952380954|                0.0| 858.8166666666667|\n",
      "|100014| 184.8138888888889|               3.45|            281.75|\n",
      "|100015|278.59444444444443| 1.4833333333333334| 570.9333333333333|\n",
      "|100016|265.40416666666664|               53.1|1049.4833333333333|\n",
      "|100017|199.26666666666668| 199.26666666666668|199.26666666666668|\n",
      "|100018|193.18730158730162|0.03333333333333333| 940.1666666666666|\n",
      "+------+------------------+-------------------+------------------+\n",
      "only showing top 20 rows\n",
      "\n"
     ]
    }
   ],
   "source": [
    "user_session_time_stat.show()"
   ]
  },
  {
   "cell_type": "code",
   "execution_count": 43,
   "metadata": {},
   "outputs": [],
   "source": [
    "user_session_song = df.select(\"userId\",\"sessionId\",\"song\",\"page\").filter(df.page==\"NextSong\").groupby(\"userId\", \"sessionId\").agg(count(df.song).alias(\"sessionSong\"))\n",
    "user_session_song_stat = user_session_song.groupby(\"userId\").agg(avg(user_session_song.sessionSong).alias(\"avgSessionSong\")).sort(\"userId\")"
   ]
  },
  {
   "cell_type": "markdown",
   "metadata": {},
   "source": [
    "查看用户平均每个session的统计数据，包括平均歌曲数"
   ]
  },
  {
   "cell_type": "code",
   "execution_count": 44,
   "metadata": {
    "scrolled": true
   },
   "outputs": [
    {
     "name": "stdout",
     "output_type": "stream",
     "text": [
      "+------+------------------+\n",
      "|userId|    avgSessionSong|\n",
      "+------+------------------+\n",
      "|    10|112.16666666666667|\n",
      "|   100| 78.88235294117646|\n",
      "|100001|             33.25|\n",
      "|100002|             48.75|\n",
      "|100003|              25.5|\n",
      "|100004|              47.1|\n",
      "|100005|              38.5|\n",
      "|100006|              26.0|\n",
      "|100007|              47.0|\n",
      "|100008|128.66666666666666|\n",
      "|100009|              51.8|\n",
      "|100010|39.285714285714285|\n",
      "|100011|              11.0|\n",
      "|100012| 79.33333333333333|\n",
      "|100013|              87.0|\n",
      "|100014|42.833333333333336|\n",
      "|100015| 66.66666666666667|\n",
      "|100016|             66.25|\n",
      "|100017|              52.0|\n",
      "|100018|              50.1|\n",
      "+------+------------------+\n",
      "only showing top 20 rows\n",
      "\n"
     ]
    }
   ],
   "source": [
    "user_session_song_stat.show()"
   ]
  },
  {
   "cell_type": "markdown",
   "metadata": {},
   "source": [
    "查看用户平均每个session的统计数据，包括平均点赞数、平均倒赞数"
   ]
  },
  {
   "cell_type": "code",
   "execution_count": 45,
   "metadata": {},
   "outputs": [],
   "source": [
    "user_session_Thumbs_Up = df.select(\"userId\",\"sessionId\",\"page\").filter(df.page==\"Thumbs Up\").groupby(\"userId\", \"sessionId\").agg(count(df.page).alias(\"sessionThumbs_Up\"))\n",
    "user_session_Thumbs_Up_stat = user_session_Thumbs_Up.groupby(\"userId\").agg(avg(user_session_Thumbs_Up.sessionThumbs_Up).alias(\"avgSessionThumbs_Up\")).sort(\"userId\")"
   ]
  },
  {
   "cell_type": "code",
   "execution_count": 46,
   "metadata": {},
   "outputs": [
    {
     "name": "stdout",
     "output_type": "stream",
     "text": [
      "+------+-------------------+\n",
      "|userId|avgSessionThumbs_Up|\n",
      "+------+-------------------+\n",
      "|    10|  6.166666666666667|\n",
      "|   100|  4.933333333333334|\n",
      "|100001| 2.6666666666666665|\n",
      "|100002|                2.5|\n",
      "|100003|                3.0|\n",
      "|100004| 2.6923076923076925|\n",
      "|100005| 2.3333333333333335|\n",
      "|100006|                2.0|\n",
      "|100007| 3.1666666666666665|\n",
      "|100008|                7.4|\n",
      "|100009|              2.875|\n",
      "|100010| 2.8333333333333335|\n",
      "|100012|                3.6|\n",
      "|100013| 3.5454545454545454|\n",
      "|100014|                3.4|\n",
      "|100015|                3.5|\n",
      "|100016| 3.5714285714285716|\n",
      "|100017|                2.0|\n",
      "|100018| 3.5384615384615383|\n",
      "|100019|                1.0|\n",
      "+------+-------------------+\n",
      "only showing top 20 rows\n",
      "\n"
     ]
    }
   ],
   "source": [
    "user_session_Thumbs_Up_stat.show()"
   ]
  },
  {
   "cell_type": "code",
   "execution_count": 47,
   "metadata": {},
   "outputs": [],
   "source": [
    "user_session_Thumbs_Down = df.select(\"userId\",\"sessionId\",\"page\").filter(df.page==\"Thumbs Down\").groupby(\"userId\", \"sessionId\").agg(count(df.page).alias(\"sessionThumbs_Down\"))\n",
    "user_session_Thumbs_Down_stat = user_session_Thumbs_Down.groupby(\"userId\").agg(avg(user_session_Thumbs_Down.sessionThumbs_Down).alias(\"avgSessionThumbs_Down\")).sort(\"userId\")"
   ]
  },
  {
   "cell_type": "code",
   "execution_count": 48,
   "metadata": {
    "scrolled": true
   },
   "outputs": [
    {
     "name": "stdout",
     "output_type": "stream",
     "text": [
      "+------+---------------------+\n",
      "|userId|avgSessionThumbs_Down|\n",
      "+------+---------------------+\n",
      "|    10|                  4.0|\n",
      "|   100|   2.4545454545454546|\n",
      "|100001|                  1.0|\n",
      "|100004|   1.5714285714285714|\n",
      "|100005|                  1.5|\n",
      "|100006|                  2.0|\n",
      "|100007|                  2.0|\n",
      "|100008|                  2.0|\n",
      "|100009|                  2.0|\n",
      "|100010|                 1.25|\n",
      "|100011|                  1.0|\n",
      "|100012|                 2.25|\n",
      "|100013|                  2.5|\n",
      "|100014|                  1.0|\n",
      "|100015|                  1.6|\n",
      "|100016|                 1.25|\n",
      "|100017|                  1.0|\n",
      "|100018|                  1.5|\n",
      "|100019|                  1.0|\n",
      "|100021|   1.6666666666666667|\n",
      "+------+---------------------+\n",
      "only showing top 20 rows\n",
      "\n"
     ]
    }
   ],
   "source": [
    "user_session_Thumbs_Down_stat.show()"
   ]
  },
  {
   "cell_type": "markdown",
   "metadata": {},
   "source": [
    "查看用户平均每个session的统计数据，包括平均广告播放次数"
   ]
  },
  {
   "cell_type": "code",
   "execution_count": 49,
   "metadata": {},
   "outputs": [],
   "source": [
    "user_session_Roll_Advert = df.select(\"userId\",\"sessionId\",\"page\").filter(df.page==\"Roll Advert\").groupby(\"userId\", \"sessionId\").agg(count(df.page).alias(\"sessionRoll_Advert\"))\n",
    "user_session_Roll_Advert_stat = user_session_Roll_Advert.groupby(\"userId\").agg(avg(user_session_Roll_Advert.sessionRoll_Advert).alias(\"avgSessionRoll_Advert\")).sort(\"userId\")"
   ]
  },
  {
   "cell_type": "code",
   "execution_count": 50,
   "metadata": {},
   "outputs": [
    {
     "name": "stdout",
     "output_type": "stream",
     "text": [
      "+------+---------------------+\n",
      "|userId|avgSessionRoll_Advert|\n",
      "+------+---------------------+\n",
      "|    10|                  1.0|\n",
      "|   100|   3.5714285714285716|\n",
      "|100001|                  3.5|\n",
      "|100002|                  1.5|\n",
      "|100003|                  9.0|\n",
      "|100004|    6.615384615384615|\n",
      "|100005|                  4.5|\n",
      "|100006|                  3.0|\n",
      "|100007|                  1.0|\n",
      "|100008|    6.666666666666667|\n",
      "|100009|                 5.25|\n",
      "|100010|    8.666666666666666|\n",
      "|100011|                  2.0|\n",
      "|100012|    6.333333333333333|\n",
      "|100013|                4.875|\n",
      "|100014|                  1.0|\n",
      "|100015|                  6.9|\n",
      "|100016|                  4.0|\n",
      "|100017|                 14.0|\n",
      "|100018|     8.88888888888889|\n",
      "+------+---------------------+\n",
      "only showing top 20 rows\n",
      "\n"
     ]
    }
   ],
   "source": [
    "user_session_Roll_Advert_stat.show()"
   ]
  },
  {
   "cell_type": "markdown",
   "metadata": {},
   "source": [
    "## 用户听歌曲的丰富度"
   ]
  },
  {
   "cell_type": "markdown",
   "metadata": {},
   "source": [
    "用户累计听了多少不同的歌曲，累计听过多少不同的艺术家"
   ]
  },
  {
   "cell_type": "code",
   "execution_count": 51,
   "metadata": {},
   "outputs": [],
   "source": [
    "user_song_count=df.select(\"userId\", \"song\").dropDuplicates().groupby(\"userId\").agg(count(df.song).alias(\"userSongCount\")).sort(\"userId\")"
   ]
  },
  {
   "cell_type": "code",
   "execution_count": 52,
   "metadata": {},
   "outputs": [],
   "source": [
    "user_artist_count=df.select(\"userId\", \"artist\").dropDuplicates().groupby(\"userId\").agg(count(df.artist).alias(\"userArtistCount\")).sort(\"userId\")"
   ]
  },
  {
   "cell_type": "code",
   "execution_count": 53,
   "metadata": {},
   "outputs": [
    {
     "name": "stdout",
     "output_type": "stream",
     "text": [
      "+------+-------------+\n",
      "|userId|userSongCount|\n",
      "+------+-------------+\n",
      "|    10|          629|\n",
      "|   100|         2302|\n",
      "|100001|          129|\n",
      "|100002|          193|\n",
      "|100003|           51|\n",
      "|100004|          881|\n",
      "|100005|          153|\n",
      "|100006|           26|\n",
      "|100007|          408|\n",
      "|100008|          723|\n",
      "|100009|          501|\n",
      "|100010|          269|\n",
      "|100011|           11|\n",
      "|100012|          453|\n",
      "|100013|         1041|\n",
      "|100014|          248|\n",
      "|100015|          755|\n",
      "|100016|          493|\n",
      "|100017|           51|\n",
      "|100018|          942|\n",
      "+------+-------------+\n",
      "only showing top 20 rows\n",
      "\n"
     ]
    }
   ],
   "source": [
    "user_song_count.show(20)"
   ]
  },
  {
   "cell_type": "code",
   "execution_count": 54,
   "metadata": {},
   "outputs": [
    {
     "name": "stdout",
     "output_type": "stream",
     "text": [
      "+------+---------------+\n",
      "|userId|userArtistCount|\n",
      "+------+---------------+\n",
      "|    10|            565|\n",
      "|   100|           1705|\n",
      "|100001|            125|\n",
      "|100002|            184|\n",
      "|100003|             50|\n",
      "|100004|            733|\n",
      "|100005|            149|\n",
      "|100006|             26|\n",
      "|100007|            357|\n",
      "|100008|            623|\n",
      "|100009|            442|\n",
      "|100010|            252|\n",
      "|100011|             11|\n",
      "|100012|            397|\n",
      "|100013|            826|\n",
      "|100014|            233|\n",
      "|100015|            627|\n",
      "|100016|            431|\n",
      "|100017|             51|\n",
      "|100018|            780|\n",
      "+------+---------------+\n",
      "only showing top 20 rows\n",
      "\n"
     ]
    }
   ],
   "source": [
    "user_artist_count.show(20)"
   ]
  },
  {
   "cell_type": "markdown",
   "metadata": {},
   "source": [
    "## 用户付费周期的特征分布（付费天数、免费天数）"
   ]
  },
  {
   "cell_type": "code",
   "execution_count": 55,
   "metadata": {},
   "outputs": [],
   "source": [
    "user_max_ts = df.groupby(\"userId\").max(\"ts\").sort(\"userId\")\n",
    "user_reg_ts = df.select(\"userId\", \"registration\").dropDuplicates().sort(\"userId\")\n",
    "user_reg_days = user_reg_ts.join(user_max_ts, user_reg_ts.userId == user_max_ts.userId).select(user_reg_ts[\"userId\"], ((user_max_ts[\"max(ts)\"]-user_reg_ts[\"registration\"])/(1000*60*60*24)).alias(\"regDay\"))"
   ]
  },
  {
   "cell_type": "code",
   "execution_count": 56,
   "metadata": {},
   "outputs": [
    {
     "name": "stdout",
     "output_type": "stream",
     "text": [
      "+------+------------------+\n",
      "|userId|            regDay|\n",
      "+------+------------------+\n",
      "|100010| 55.64365740740741|\n",
      "|200002| 70.07462962962963|\n",
      "|   125| 71.31688657407408|\n",
      "|   124|131.55591435185184|\n",
      "|    51|19.455844907407407|\n",
      "|     7| 72.77818287037037|\n",
      "|    15|56.513576388888886|\n",
      "|    54|110.75168981481481|\n",
      "|   155|23.556018518518517|\n",
      "|100014| 85.08340277777778|\n",
      "|   132|  66.8891087962963|\n",
      "|   154|23.872037037037035|\n",
      "|   101|        53.9659375|\n",
      "|    11|124.47825231481481|\n",
      "|   138| 66.62668981481481|\n",
      "|300017| 74.35851851851852|\n",
      "|100021| 64.73886574074074|\n",
      "|    29|60.104050925925925|\n",
      "|    69| 71.42444444444445|\n",
      "|   112| 87.46262731481481|\n",
      "+------+------------------+\n",
      "only showing top 20 rows\n",
      "\n"
     ]
    }
   ],
   "source": [
    "user_reg_days.show()"
   ]
  },
  {
   "cell_type": "code",
   "execution_count": 57,
   "metadata": {},
   "outputs": [
    {
     "name": "stdout",
     "output_type": "stream",
     "text": [
      "+------+-------------------+\n",
      "|userID|         user_paied|\n",
      "+------+-------------------+\n",
      "|100010|                0.0|\n",
      "|200002| 0.7468354430379747|\n",
      "|   125|                0.0|\n",
      "|    51|                1.0|\n",
      "|   124|                1.0|\n",
      "|     7|                0.0|\n",
      "|    54| 0.8318300843759092|\n",
      "|    15|                1.0|\n",
      "|   155| 0.8562874251497006|\n",
      "|   132| 0.9852430555555556|\n",
      "|   154|                0.0|\n",
      "|100014|                1.0|\n",
      "|   101| 0.9646347138203816|\n",
      "|    11|0.27004716981132076|\n",
      "|   138| 0.8938841636289996|\n",
      "|300017|                1.0|\n",
      "|    29| 0.8917568692756037|\n",
      "|    69| 0.9709388971684053|\n",
      "|100021|                0.0|\n",
      "|    42| 0.9696969696969697|\n",
      "+------+-------------------+\n",
      "only showing top 20 rows\n",
      "\n"
     ]
    }
   ],
   "source": [
    "df.createOrReplaceTempView(\"df_view\")\n",
    "user_paied_day = spark.sql(\"SELECT userID, SUM(level)/count(level) AS user_paied FROM df_view GROUP BY userID\")\n",
    "user_paied_day.show()"
   ]
  },
  {
   "cell_type": "markdown",
   "metadata": {},
   "source": [
    "## 用户平均每日登陆次数"
   ]
  },
  {
   "cell_type": "code",
   "execution_count": 58,
   "metadata": {},
   "outputs": [],
   "source": [
    "user_session_count = df.select(\"userId\", \"sessionId\").dropDuplicates().groupby(\"userId\").count()\n",
    "user_session_count = user_session_count.withColumnRenamed(\"count\", \"sessionCount\")\n",
    "user_session_count=user_session_count.join(user_reg_days,user_session_count.userId==user_reg_days.userId).select(user_session_count[\"userId\"], (user_reg_days[\"regDay\"]/user_session_count[\"sessionCount\"]).alias(\"SessionOfday\"))"
   ]
  },
  {
   "cell_type": "code",
   "execution_count": 59,
   "metadata": {},
   "outputs": [
    {
     "name": "stdout",
     "output_type": "stream",
     "text": [
      "+------+------------------+\n",
      "|userId|      SessionOfday|\n",
      "+------+------------------+\n",
      "|100010| 7.949093915343916|\n",
      "|200002|11.679104938271605|\n",
      "|   125| 71.31688657407408|\n",
      "|   124| 4.536410839719029|\n",
      "|    51|1.9455844907407407|\n",
      "|     7|10.396883267195767|\n",
      "|    15|3.7675717592592592|\n",
      "|    54|2.9932889139139136|\n",
      "|   155| 3.926003086419753|\n",
      "|100014| 14.18056712962963|\n",
      "|   132| 4.180569299768519|\n",
      "|   154| 7.957345679012345|\n",
      "|   101|        5.39659375|\n",
      "|    11| 7.779890769675926|\n",
      "|   138| 4.441779320987654|\n",
      "|300017|1.1802939447383893|\n",
      "|100021|12.947773148148148|\n",
      "|    29|1.7677662037037036|\n",
      "|    69|  7.93604938271605|\n",
      "|   112| 8.746262731481481|\n",
      "+------+------------------+\n",
      "only showing top 20 rows\n",
      "\n"
     ]
    }
   ],
   "source": [
    "user_session_count.show()"
   ]
  },
  {
   "cell_type": "markdown",
   "metadata": {},
   "source": [
    "## 目前的level"
   ]
  },
  {
   "cell_type": "code",
   "execution_count": 60,
   "metadata": {},
   "outputs": [],
   "source": [
    "user_login = df.select(\"userId\",\"ts\",\"level\").groupby(\"userId\").agg(max(df.ts).alias(\"finalTime\")).sort(\"userId\")\n",
    "user_recent_level_time =df.select(\"userId\",\"ts\",\"level\")\n",
    "user_recent_level = user_recent_level_time.join(user_login, [user_login.userId == user_recent_level_time.userId, user_recent_level_time.ts == user_login.finalTime]).select(user_login.userId, \"level\").sort(\"userId\")"
   ]
  },
  {
   "cell_type": "code",
   "execution_count": 61,
   "metadata": {},
   "outputs": [
    {
     "name": "stdout",
     "output_type": "stream",
     "text": [
      "+------+-------------+\n",
      "|userId|    finalTime|\n",
      "+------+-------------+\n",
      "|    10|1542631788000|\n",
      "|   100|1543587349000|\n",
      "|100001|1538498205000|\n",
      "|100002|1543799476000|\n",
      "|100003|1539274781000|\n",
      "|100004|1543459065000|\n",
      "|100005|1539971825000|\n",
      "|100006|1538753070000|\n",
      "|100007|1543491909000|\n",
      "|100008|1543335219000|\n",
      "|100009|1540611104000|\n",
      "|100010|1542823952000|\n",
      "|100011|1538417085000|\n",
      "|100012|1541100900000|\n",
      "|100013|1541184816000|\n",
      "|100014|1542740649000|\n",
      "|100015|1543073753000|\n",
      "|100016|1543335647000|\n",
      "|100017|1540062847000|\n",
      "|100018|1543378360000|\n",
      "+------+-------------+\n",
      "only showing top 20 rows\n",
      "\n"
     ]
    }
   ],
   "source": [
    "user_login.show()"
   ]
  },
  {
   "cell_type": "code",
   "execution_count": 62,
   "metadata": {},
   "outputs": [
    {
     "name": "stdout",
     "output_type": "stream",
     "text": [
      "+------+-------------+-----+\n",
      "|userId|           ts|level|\n",
      "+------+-------------+-----+\n",
      "|    30|1538352117000|    1|\n",
      "|     9|1538352180000|    0|\n",
      "|    30|1538352394000|    1|\n",
      "|     9|1538352416000|    0|\n",
      "|    30|1538352676000|    1|\n",
      "|     9|1538352678000|    0|\n",
      "|     9|1538352886000|    0|\n",
      "|    30|1538352899000|    1|\n",
      "|    30|1538352905000|    1|\n",
      "|    30|1538353084000|    1|\n",
      "|     9|1538353146000|    0|\n",
      "|     9|1538353150000|    0|\n",
      "|    30|1538353218000|    1|\n",
      "|     9|1538353375000|    0|\n",
      "|     9|1538353376000|    0|\n",
      "|    30|1538353441000|    1|\n",
      "|     9|1538353576000|    0|\n",
      "|    74|1538353668000|    0|\n",
      "|    30|1538353687000|    1|\n",
      "|     9|1538353744000|    0|\n",
      "+------+-------------+-----+\n",
      "only showing top 20 rows\n",
      "\n"
     ]
    }
   ],
   "source": [
    "user_recent_level_time.show()"
   ]
  },
  {
   "cell_type": "code",
   "execution_count": 63,
   "metadata": {},
   "outputs": [
    {
     "name": "stdout",
     "output_type": "stream",
     "text": [
      "+------+-----+\n",
      "|userId|level|\n",
      "+------+-----+\n",
      "|    10|    1|\n",
      "|   100|    1|\n",
      "|100001|    0|\n",
      "|100002|    1|\n",
      "|100003|    0|\n",
      "|100004|    1|\n",
      "|100005|    0|\n",
      "|100006|    0|\n",
      "|100007|    1|\n",
      "|100008|    0|\n",
      "|100009|    0|\n",
      "|100010|    0|\n",
      "|100011|    0|\n",
      "|100012|    0|\n",
      "|100013|    1|\n",
      "|100014|    1|\n",
      "|100015|    1|\n",
      "|100016|    0|\n",
      "|100017|    0|\n",
      "|100018|    0|\n",
      "+------+-----+\n",
      "only showing top 20 rows\n",
      "\n"
     ]
    }
   ],
   "source": [
    "user_recent_level.show()"
   ]
  },
  {
   "cell_type": "markdown",
   "metadata": {},
   "source": [
    "## 沉默时间"
   ]
  },
  {
   "cell_type": "markdown",
   "metadata": {},
   "source": [
    "用户有多久没有登录过了"
   ]
  },
  {
   "cell_type": "code",
   "execution_count": 64,
   "metadata": {},
   "outputs": [
    {
     "data": {
      "text/plain": [
       "[Row(max(ts)=1543799476000)]"
      ]
     },
     "execution_count": 64,
     "metadata": {},
     "output_type": "execute_result"
    }
   ],
   "source": [
    "final_time_df=df.select(max(df.ts))\n",
    "final_time_df.collect()"
   ]
  },
  {
   "cell_type": "code",
   "execution_count": 65,
   "metadata": {},
   "outputs": [
    {
     "name": "stdout",
     "output_type": "stream",
     "text": [
      "+------+------------+\n",
      "|userID|user_silence|\n",
      "+------+------------+\n",
      "|    10|   990678000|\n",
      "|   100|    35117000|\n",
      "|100001|  5124261000|\n",
      "|100002|  -177010000|\n",
      "|100003|  4347685000|\n",
      "|100004|   163401000|\n",
      "|100005|  3650641000|\n",
      "|100006|  4869396000|\n",
      "|100007|   130557000|\n",
      "|100008|   287247000|\n",
      "|100009|  3011362000|\n",
      "|100010|   798514000|\n",
      "|100011|  5205381000|\n",
      "|100012|  2521566000|\n",
      "|100013|  2437650000|\n",
      "|100014|   881817000|\n",
      "|100015|   548713000|\n",
      "|100016|   286819000|\n",
      "|100017|  3559619000|\n",
      "|100018|   244106000|\n",
      "+------+------------+\n",
      "only showing top 20 rows\n",
      "\n"
     ]
    }
   ],
   "source": [
    "user_login.createOrReplaceTempView(\"user_login_view\")\n",
    "user_silence = spark.sql(\"SELECT userID, 1543622466000-finalTime AS user_silence FROM user_login_view \")\n",
    "user_silence.show()"
   ]
  },
  {
   "cell_type": "markdown",
   "metadata": {},
   "source": [
    "## 构造训练数据集"
   ]
  },
  {
   "cell_type": "code",
   "execution_count": 66,
   "metadata": {},
   "outputs": [],
   "source": [
    "df_final=df.select(\"userId\",\"gender\",\"Churn\").dropDuplicates().sort(\"userId\")"
   ]
  },
  {
   "cell_type": "code",
   "execution_count": 67,
   "metadata": {},
   "outputs": [
    {
     "name": "stdout",
     "output_type": "stream",
     "text": [
      "+------+------+-----+\n",
      "|userId|gender|Churn|\n",
      "+------+------+-----+\n",
      "|    10|     1|    0|\n",
      "|   100|     1|    0|\n",
      "|100001|     0|    1|\n",
      "|100002|     0|    0|\n",
      "|100003|     0|    1|\n",
      "|100004|     0|    0|\n",
      "|100005|     1|    1|\n",
      "|100006|     0|    1|\n",
      "|100007|     0|    1|\n",
      "|100008|     0|    0|\n",
      "|100009|     1|    1|\n",
      "|100010|     0|    0|\n",
      "|100011|     1|    1|\n",
      "|100012|     1|    1|\n",
      "|100013|     0|    1|\n",
      "|100014|     1|    1|\n",
      "|100015|     0|    1|\n",
      "|100016|     1|    0|\n",
      "|100017|     1|    1|\n",
      "|100018|     1|    0|\n",
      "+------+------+-----+\n",
      "only showing top 20 rows\n",
      "\n"
     ]
    }
   ],
   "source": [
    "df_final.show()"
   ]
  },
  {
   "cell_type": "code",
   "execution_count": 68,
   "metadata": {},
   "outputs": [
    {
     "data": {
      "text/plain": [
       "225"
      ]
     },
     "execution_count": 68,
     "metadata": {},
     "output_type": "execute_result"
    }
   ],
   "source": [
    "df_final.count()"
   ]
  },
  {
   "cell_type": "markdown",
   "metadata": {},
   "source": [
    "采用连接的方式将用户特征结合，形成新的数据集"
   ]
  },
  {
   "cell_type": "code",
   "execution_count": 69,
   "metadata": {},
   "outputs": [],
   "source": [
    "final_data = df_final.join(df_Help, 'userId','left').join(df_Error, 'userId','left').join(df_Upgrade, 'userId','left')\\\n",
    "             .join(df_SubmitUpgrade, 'userId','left').join(df_Downgrade, 'userId','left').join(df_SubmitDowngrade, 'userId','left')\\\n",
    "             .join(df_Cancel, 'userId','left')\n",
    "final_data = final_data.join(df_Add_to_Playlist, 'userId','left').join(df_Add_Friend, 'userId','left')\n",
    "final_data = final_data.join(user_session_time_stat, 'userId','left').join(user_session_song_stat, 'userId','left')\\\n",
    "    .join(user_session_Thumbs_Up_stat, 'userId','left').join(user_session_Thumbs_Down_stat, 'userId','left')\\\n",
    "    .join(user_session_Roll_Advert_stat, 'userId','left')\n",
    "final_data = final_data.join(user_song_count, 'userId','left').join(user_artist_count, 'userId','left')\n",
    "final_data = final_data.join(user_reg_days, 'userId','left').join(user_paied_day, 'userId','left')\n",
    "final_data = final_data.join(user_session_count, 'userId','left').join(user_recent_level, 'userId','left')\\\n",
    "    .join(user_silence, 'userId','left')"
   ]
  },
  {
   "cell_type": "code",
   "execution_count": 70,
   "metadata": {},
   "outputs": [],
   "source": [
    "final_data=final_data.fillna(0)"
   ]
  },
  {
   "cell_type": "code",
   "execution_count": 71,
   "metadata": {},
   "outputs": [],
   "source": [
    "final_data=final_data.dropDuplicates()"
   ]
  },
  {
   "cell_type": "code",
   "execution_count": 72,
   "metadata": {},
   "outputs": [
    {
     "name": "stdout",
     "output_type": "stream",
     "text": [
      "+------+------+-----+--------+---------+-----------+-----------------+-------------+---------------+----------+-------------------+--------------+------------------+------------------+------------------+------------------+-------------------+---------------------+---------------------+-------------+---------------+------------------+-------------------+------------------+-----+------------+\n",
      "|userId|gender|Churn|num_Help|num_Error|num_Upgrade|num_SubmitUpgrade|num_Downgrade|SubmitDowngrade|num_Cancel|num_Add_to_Playlist|num_Add_Friend|    avgSessionTime|    minSessionTime|    maxSessionTime|    avgSessionSong|avgSessionThumbs_Up|avgSessionThumbs_Down|avgSessionRoll_Advert|userSongCount|userArtistCount|            regDay|         user_paied|      SessionOfday|level|user_silence|\n",
      "+------+------+-----+--------+---------+-----------+-----------------+-------------+---------------+----------+-------------------+--------------+------------------+------------------+------------------+------------------+-------------------+---------------------+---------------------+-------------+---------------+------------------+-------------------+------------------+-----+------------+\n",
      "|100010|     0|    0|       2|        0|          2|                0|            0|              0|         0|                  7|             4|154.48333333333332|             22.55|             323.0|39.285714285714285| 2.8333333333333335|                 1.25|    8.666666666666666|          269|            252| 55.64365740740741|                0.0| 7.949093915343916|    0|   798514000|\n",
      "|200002|     1|    0|       2|        0|          2|                1|            5|              0|         0|                  8|             4|266.40000000000003|              12.1|            497.45|              64.5|                3.5|                  3.0|                 1.75|          378|            339| 70.07462962962963| 0.7468354430379747|11.679104938271605|    1|  1298112000|\n",
      "|   125|     1|    1|       0|        0|          0|                0|            0|              0|         1|                  0|             0|29.566666666666666|29.566666666666666|29.566666666666666|               8.0|                0.0|                  0.0|                  1.0|            8|              8| 71.31688657407408|                0.0| 71.31688657407408|    0|  4303548000|\n",
      "|   124|     0|    0|      23|        6|          0|                0|           41|              0|         0|                118|            74| 578.9942528735633|               0.0|1770.6166666666666|145.67857142857142|              7.125|   2.1578947368421053|   1.3333333333333333|         3339|           2232|131.55591435185184|                1.0| 4.536410839719029|    1|    31700000|\n",
      "|    51|     1|    1|      12|        1|          0|                0|           23|              0|         1|                 52|            28| 872.3566666666666| 67.06666666666666| 2069.383333333333|             211.1|  11.11111111111111|                2.625|                  0.0|         1854|           1385|19.455844907407407|                1.0|1.9455844907407407|    1|  3860494000|\n",
      "|     7|     1|    0|       1|        1|          2|                0|            0|              0|         0|                  5|             1| 87.64047619047619| 4.066666666666666|             311.3|21.428571428571427|               1.75|                  1.0|                  3.2|          148|            142| 72.77818287037037|                0.0|10.396883267195767|    0|   666855000|\n",
      "|    15|     1|    0|       8|        2|          0|                0|           28|              0|         0|                 59|            31| 528.2833333333333|               0.0|1455.5666666666666|136.71428571428572|               6.75|   1.5555555555555556|                  1.0|         1707|           1302|56.513576388888886|                1.0|3.7675717592592592|    1|   500648000|\n",
      "|    54|     0|    1|      17|        1|          1|                1|           39|              1|         1|                 72|            33|322.28963963963963|               0.0|            2043.2| 81.17142857142858|  5.258064516129032|   1.7058823529411764|    3.357142857142857|         2414|           1744|110.75168981481481| 0.8318300843759092|2.9932889139139136|    1|  1570858000|\n",
      "|   155|     0|    0|       9|        3|          2|                1|           12|              0|         0|                 24|            11| 548.5722222222222|127.63333333333334|1100.0833333333333|136.66666666666666|  9.666666666666666|                  1.0|                  4.0|          759|            643|23.556018518518517| 0.8562874251497006| 3.926003086419753|    1|   216756000|\n",
      "|100014|     1|    1|       2|        0|          0|                0|            3|              0|         1|                  7|             6| 184.8138888888889|              3.45|            281.75|42.833333333333336|                3.4|                  1.0|                  1.0|          248|            233| 85.08340277777778|                1.0| 14.18056712962963|    1|   881817000|\n",
      "|   132|     0|    0|      16|        3|          1|                1|           19|              0|         0|                 38|            41|498.95104166666675| 8.533333333333333|1896.8833333333334|             120.5|  6.857142857142857|   1.8888888888888888|                  1.0|         1718|           1299|  66.8891087962963| 0.9852430555555556| 4.180569299768519|    1|   788694000|\n",
      "|   154|     0|    0|       1|        0|          0|                0|            0|              0|         0|                  1|             3|110.68333333333332|             68.55|             168.1|              28.0| 3.6666666666666665|                  0.0|   3.3333333333333335|           83|             78|23.872037037037035|                0.0| 7.957345679012345|    0|   291901000|\n",
      "|   101|     1|    1|      12|        3|          1|                1|           22|              0|         1|                 61|            29| 817.5800000000002|             23.85| 3300.016666666667|             179.7|              10.75|                  4.0|   2.6666666666666665|         1608|           1241|        53.9659375| 0.9646347138203816|        5.39659375|    1|  3893429000|\n",
      "|    11|     0|    0|       3|        1|          9|                2|            5|              1|         0|                 20|             6|161.37708333333333|             19.55|             688.5|           40.4375|  3.076923076923077|   1.2857142857142858|                  3.0|          616|            534|124.47825231481481|0.27004716981132076| 7.779890769675926|    1|   312764000|\n",
      "|   138|     1|    0|      13|        1|          1|                1|           21|              0|         0|                 67|            41| 564.2266666666667|21.716666666666665|2386.4166666666665|             138.0|  6.785714285714286|                  4.0|   2.4285714285714284|         1791|           1332| 66.62668981481481| 0.8938841636289996| 4.441779320987654|    1|      101000|\n",
      "|300017|     0|    0|      27|        5|          0|                0|           25|              0|         0|                113|            63|233.32407407407405|               0.0| 987.1666666666666|59.540983606557376|  5.826923076923077|   1.5555555555555556|                  1.1|         3013|           2070| 74.35851851851852|                1.0|1.1802939447383893|    1|   115379000|\n",
      "|100021|     1|    1|       0|        2|          2|                0|            0|              0|         1|                  7|             7| 215.2266666666667|              30.4| 605.1833333333333|              46.0|               2.75|   1.6666666666666667|                  6.0|          226|            207| 64.73886574074074|                0.0|12.947773148148148|    0|   478684000|\n",
      "|    29|     1|    1|      28|        0|          5|                1|           18|              0|         1|                 89|            47| 365.7568627450981|               8.1|2167.7833333333333| 89.05882352941177|  5.703703703703703|   1.8333333333333333|   1.8333333333333333|         2562|           1804|60.104050925925925| 0.8917568692756037|1.7677662037037036|    1|  1441435000|\n",
      "|    69|     0|    0|       7|        4|          1|                1|            9|              0|         0|                 33|            12| 526.6851851851852|11.483333333333333|1263.7833333333333|             125.0|                8.0|                  1.8|                  1.5|         1036|            865| 71.42444444444445| 0.9709388971684053|  7.93604938271605|    1|   627235000|\n",
      "|   112|     1|    0|       1|        0|          2|                0|            0|              0|         0|                  7|             7| 84.45166666666667|               0.0|319.68333333333334| 23.88888888888889|                1.5|                  1.5|                2.625|          211|            195| 87.46262731481481|                0.0| 8.746262731481481|    0|    33014000|\n",
      "+------+------+-----+--------+---------+-----------+-----------------+-------------+---------------+----------+-------------------+--------------+------------------+------------------+------------------+------------------+-------------------+---------------------+---------------------+-------------+---------------+------------------+-------------------+------------------+-----+------------+\n",
      "only showing top 20 rows\n",
      "\n"
     ]
    }
   ],
   "source": [
    "final_data.show(20)"
   ]
  },
  {
   "cell_type": "code",
   "execution_count": 73,
   "metadata": {},
   "outputs": [
    {
     "data": {
      "text/plain": [
       "225"
      ]
     },
     "execution_count": 73,
     "metadata": {},
     "output_type": "execute_result"
    }
   ],
   "source": [
    "final_data.count()"
   ]
  },
  {
   "cell_type": "code",
   "execution_count": 74,
   "metadata": {},
   "outputs": [
    {
     "name": "stdout",
     "output_type": "stream",
     "text": [
      "+-------+------------------+-------------------+------------------+------------------+------------------+------------------+------------------+------------------+------------------+------------------+-------------------+------------------+------------------+-----------------+-----------------+-----------------+-------------------+---------------------+---------------------+-----------------+-----------------+-------------------+------------------+-------------------+------------------+--------------------+\n",
      "|summary|            userId|             gender|             Churn|          num_Help|         num_Error|       num_Upgrade| num_SubmitUpgrade|     num_Downgrade|   SubmitDowngrade|        num_Cancel|num_Add_to_Playlist|    num_Add_Friend|    avgSessionTime|   minSessionTime|   maxSessionTime|   avgSessionSong|avgSessionThumbs_Up|avgSessionThumbs_Down|avgSessionRoll_Advert|    userSongCount|  userArtistCount|             regDay|        user_paied|       SessionOfday|             level|        user_silence|\n",
      "+-------+------------------+-------------------+------------------+------------------+------------------+------------------+------------------+------------------+------------------+------------------+-------------------+------------------+------------------+-----------------+-----------------+-----------------+-------------------+---------------------+---------------------+-----------------+-----------------+-------------------+------------------+-------------------+------------------+--------------------+\n",
      "|  count|               225|                225|               225|               225|               225|               225|               225|               225|               225|               225|                225|               225|               225|              225|              225|              225|                225|                  225|                  225|              225|              225|                225|               225|                225|               225|                 225|\n",
      "|   mean|65391.013333333336| 0.5377777777777778|0.2311111111111111|6.4622222222222225|              1.12|2.2177777777777776|0.7066666666666667| 9.133333333333333|              0.28|0.2311111111111111| 29.004444444444445| 19.00888888888889| 288.1659840733499|36.13177777777776|968.0325185185188|70.78971233958933|  4.659001296544653|   1.6517472058249647|   2.9905099013219067|897.7911111111111|696.3777777777777|  79.84568348765428|0.5822655122895655| 11.828952608818401|0.6444444444444445|1.1222788133333333E9|\n",
      "| stddev|105396.47791907164|0.49968243883744773|0.4224832108996327|7.2425851519011974|1.4726070176973318|2.5585369082956606|0.7338742593737899|11.734412152785014|0.5876709477736184|0.4224832108996327| 32.716653931055426|20.581716728496275|176.84244472357116|90.64909420429706| 723.317736950286| 42.6153697543817| 2.4223461004090705|   0.9260391713518761|   2.2934186342927476|896.3876044550344|603.9518698630802|  37.66147001861254| 0.407810466090919|  15.11686186391195|0.4797486114192829|1.4392218908526242E9|\n",
      "|    min|                10|                  0|                 0|                 0|                 0|                 0|                 0|                 0|                 0|                 0|                  0|                 0|               7.0|              0.0|              7.0|              3.0|                0.0|                  0.0|                  0.0|                3|                3|0.31372685185185184|               0.0|0.31372685185185184|                 0|          -177010000|\n",
      "|    max|                99|                  1|                 1|                46|                 7|                15|                 4|                73|                 3|                 1|                240|               143|            1179.9|904.8666666666667|4455.083333333333|286.6666666666667| 13.777777777777779|                  6.0|                 15.0|             5946|             3544|  256.3776736111111|               1.0| 124.55060185185185|                 1|          5205381000|\n",
      "+-------+------------------+-------------------+------------------+------------------+------------------+------------------+------------------+------------------+------------------+------------------+-------------------+------------------+------------------+-----------------+-----------------+-----------------+-------------------+---------------------+---------------------+-----------------+-----------------+-------------------+------------------+-------------------+------------------+--------------------+\n",
      "\n"
     ]
    }
   ],
   "source": [
    "final_data.describe().show()"
   ]
  },
  {
   "cell_type": "markdown",
   "metadata": {},
   "source": [
    "# 建模、训练、评估"
   ]
  },
  {
   "cell_type": "code",
   "execution_count": 75,
   "metadata": {},
   "outputs": [
    {
     "data": {
      "text/plain": [
       "['userId',\n",
       " 'gender',\n",
       " 'Churn',\n",
       " 'num_Help',\n",
       " 'num_Error',\n",
       " 'num_Upgrade',\n",
       " 'num_SubmitUpgrade',\n",
       " 'num_Downgrade',\n",
       " 'SubmitDowngrade',\n",
       " 'num_Cancel',\n",
       " 'num_Add_to_Playlist',\n",
       " 'num_Add_Friend',\n",
       " 'avgSessionTime',\n",
       " 'minSessionTime',\n",
       " 'maxSessionTime',\n",
       " 'avgSessionSong',\n",
       " 'avgSessionThumbs_Up',\n",
       " 'avgSessionThumbs_Down',\n",
       " 'avgSessionRoll_Advert',\n",
       " 'userSongCount',\n",
       " 'userArtistCount',\n",
       " 'regDay',\n",
       " 'user_paied',\n",
       " 'SessionOfday',\n",
       " 'level',\n",
       " 'user_silence']"
      ]
     },
     "execution_count": 75,
     "metadata": {},
     "output_type": "execute_result"
    }
   ],
   "source": [
    "final_data.columns"
   ]
  },
  {
   "cell_type": "code",
   "execution_count": 76,
   "metadata": {},
   "outputs": [],
   "source": [
    "inputcols=['gender',\n",
    " 'num_Help',\n",
    " 'num_Error',\n",
    " 'num_Upgrade',\n",
    " 'num_SubmitUpgrade',\n",
    " 'num_Downgrade',\n",
    " 'SubmitDowngrade',\n",
    " 'num_Cancel',\n",
    " 'num_Add_to_Playlist',\n",
    " 'num_Add_Friend',\n",
    " 'avgSessionTime',\n",
    " 'minSessionTime',\n",
    " 'maxSessionTime',\n",
    " 'avgSessionSong',\n",
    " 'avgSessionThumbs_Up',\n",
    " 'avgSessionThumbs_Down',\n",
    " 'avgSessionRoll_Advert',\n",
    " 'userSongCount',\n",
    " 'userArtistCount',\n",
    " 'regDay',\n",
    " 'user_paied',\n",
    " 'SessionOfday',\n",
    " 'level',\n",
    " 'user_silence']"
   ]
  },
  {
   "cell_type": "code",
   "execution_count": 77,
   "metadata": {},
   "outputs": [],
   "source": [
    "assembler = VectorAssembler(inputCols=inputcols, outputCol=\"NumFeatures\")\n",
    "dataset=assembler.transform(final_data)"
   ]
  },
  {
   "cell_type": "code",
   "execution_count": 78,
   "metadata": {},
   "outputs": [],
   "source": [
    "scaler = StandardScaler(inputCol=\"NumFeatures\", outputCol=\"ScaledNumFeatures\", withStd=True)\n",
    "scalerModel = scaler.fit(dataset)\n",
    "dataset= scalerModel.transform(dataset)"
   ]
  },
  {
   "cell_type": "code",
   "execution_count": 79,
   "metadata": {},
   "outputs": [],
   "source": [
    "# dataset = dataset.withColumn('label', dataset['churn'].cast('float')).drop('churn') \n",
    "\n",
    "# feature_cols = dataset.drop('label').drop('userId').columns\n",
    "\n",
    "dataset=dataset.select(col('Churn').alias('label'),col('ScaledNumFeatures').alias('features'))"
   ]
  },
  {
   "cell_type": "code",
   "execution_count": 80,
   "metadata": {},
   "outputs": [
    {
     "data": {
      "text/plain": [
       "[Row(label=0, features=DenseVector([0.0, 0.2761, 0.0, 0.7817, 0.0, 0.0, 0.0, 0.0, 0.214, 0.1943, 0.8736, 0.2488, 0.4466, 0.9219, 1.1697, 1.3498, 3.7789, 0.3001, 0.4173, 1.4775, 0.0, 0.5258, 0.0, 0.5548])),\n",
       " Row(label=0, features=DenseVector([2.0013, 0.2761, 0.0, 0.7817, 1.3626, 0.4261, 0.0, 0.0, 0.2445, 0.1943, 1.5064, 0.1335, 0.6877, 1.5135, 1.4449, 3.2396, 0.7631, 0.4217, 0.5613, 1.8606, 1.8313, 0.7726, 2.0844, 0.902])),\n",
       " Row(label=1, features=SparseVector(24, {0: 2.0013, 7: 2.367, 10: 0.1672, 11: 0.3262, 12: 0.0409, 13: 0.1877, 16: 0.436, 17: 0.0089, 18: 0.0132, 19: 1.8936, 21: 4.7177, 23: 2.9902})),\n",
       " Row(label=0, features=DenseVector([0.0, 3.1757, 4.0744, 0.0, 0.0, 3.494, 0.0, 0.0, 3.6067, 3.5954, 3.2741, 0.0, 2.4479, 3.4185, 2.9414, 2.3302, 0.5814, 3.725, 3.6957, 3.4931, 2.4521, 0.3001, 2.0844, 0.022])),\n",
       " Row(label=1, features=DenseVector([2.0013, 1.6569, 0.6791, 0.0, 0.0, 1.96, 0.0, 2.367, 1.5894, 1.3604, 4.933, 0.7398, 2.861, 4.9536, 4.5869, 2.8347, 0.0, 2.0683, 2.2932, 0.5166, 2.4521, 0.1287, 2.0844, 2.6823]))]"
      ]
     },
     "execution_count": 80,
     "metadata": {},
     "output_type": "execute_result"
    }
   ],
   "source": [
    "dataset.take(5)"
   ]
  },
  {
   "cell_type": "code",
   "execution_count": 81,
   "metadata": {},
   "outputs": [
    {
     "data": {
      "text/plain": [
       "225"
      ]
     },
     "execution_count": 81,
     "metadata": {},
     "output_type": "execute_result"
    }
   ],
   "source": [
    "dataset.count()"
   ]
  },
  {
   "cell_type": "code",
   "execution_count": 82,
   "metadata": {},
   "outputs": [],
   "source": [
    "train,test = dataset.randomSplit([0.8, 0.2], seed=77)"
   ]
  },
  {
   "cell_type": "code",
   "execution_count": 83,
   "metadata": {},
   "outputs": [
    {
     "data": {
      "text/plain": [
       "174"
      ]
     },
     "execution_count": 83,
     "metadata": {},
     "output_type": "execute_result"
    }
   ],
   "source": [
    "train.count()"
   ]
  },
  {
   "cell_type": "markdown",
   "metadata": {},
   "source": [
    "## 逻辑回归"
   ]
  },
  {
   "cell_type": "code",
   "execution_count": 84,
   "metadata": {},
   "outputs": [],
   "source": [
    "lr= LogisticRegression(maxIter=10,regParam=0.1)\n",
    "# rf= RandomForestClassifier(labelCol=\"label\", featuresCol=\"ScaledNumFeatures\",maxDepth=5,seed=17)\n",
    "# svm=LinearSVC(labelCol=\"label\", featuresCol=\"ScaledNumFeatures\",maxIter=10,regParam=0.1)"
   ]
  },
  {
   "cell_type": "code",
   "execution_count": 85,
   "metadata": {},
   "outputs": [],
   "source": [
    "paramGrid = ParamGridBuilder().addGrid(lr.regParam,[0.01,0.05,0.1]).build()\n",
    "crossval = CrossValidator(estimator=lr,\n",
    "                          estimatorParamMaps=paramGrid,\n",
    "                          evaluator= MulticlassClassificationEvaluator(metricName='f1'),\n",
    "                          numFolds=2)\n",
    "cvModel_lr = crossval.fit(train)"
   ]
  },
  {
   "cell_type": "code",
   "execution_count": 86,
   "metadata": {},
   "outputs": [
    {
     "name": "stdout",
     "output_type": "stream",
     "text": [
      "The metrics for our Logistic Regression Classifier are as follows :\n",
      "The F-1 Score is 0.9803921568627451\n",
      "The accuracy is 0.9799307958477508\n"
     ]
    }
   ],
   "source": [
    "cvModel_lr.avgMetrics\n",
    "\n",
    "res_lr = cvModel_lr.transform(test)\n",
    "evaluator = MulticlassClassificationEvaluator(predictionCol = \"prediction\")\n",
    "print(\"The metrics for our Logistic Regression Classifier are as follows :\")\n",
    "print(\"The F-1 Score is {}\".format(evaluator.evaluate(res_lr, {evaluator.metricName : \"accuracy\"})))\n",
    "print(\"The accuracy is {}\".format(evaluator.evaluate(res_lr, {evaluator.metricName : \"f1\"})))\n",
    "cvModel_lr.save('cvModel_lr.model')"
   ]
  },
  {
   "cell_type": "markdown",
   "metadata": {},
   "source": [
    "## 随机森林"
   ]
  },
  {
   "cell_type": "code",
   "execution_count": 87,
   "metadata": {
    "scrolled": true
   },
   "outputs": [
    {
     "name": "stdout",
     "output_type": "stream",
     "text": [
      "The metrics for our RandomForest Classifier are as follows :\n",
      "The F-1 Score is 0.9803921568627451\n",
      "The accuracy is 0.9799307958477508\n"
     ]
    }
   ],
   "source": [
    "rf= RandomForestClassifier(maxDepth=5,seed=17)\n",
    "paramGrid = ParamGridBuilder().addGrid(rf.maxDepth, [3,5]).build()\n",
    "crossval = CrossValidator(estimator=rf,\n",
    "                          estimatorParamMaps=paramGrid,\n",
    "                          evaluator= MulticlassClassificationEvaluator(metricName='f1'),\n",
    "                          numFolds=2)\n",
    "cvModel_rf = crossval.fit(train)\n",
    "cvModel_rf.avgMetrics\n",
    "\n",
    "res_rf = cvModel_rf.transform(test)\n",
    "evaluator = MulticlassClassificationEvaluator(predictionCol = \"prediction\")\n",
    "print(\"The metrics for our RandomForest Classifier are as follows :\")\n",
    "print(\"The F-1 Score is {}\".format(evaluator.evaluate(res_rf, {evaluator.metricName : \"accuracy\"})))\n",
    "print(\"The accuracy is {}\".format(evaluator.evaluate(res_rf, {evaluator.metricName : \"f1\"})))\n",
    "cvModel_rf.save('cvModel_rf.model')"
   ]
  },
  {
   "cell_type": "markdown",
   "metadata": {},
   "source": [
    "# 总结"
   ]
  },
  {
   "cell_type": "markdown",
   "metadata": {},
   "source": [
    "**通过数据清洗、观察、探索、新建特征等步骤，我们重新整理了行记录以USER为单位的数据集。在此基础上，没有经过复杂的调参，逻辑回归与随机森林表现都很好，说明我们的特征非常有效提供了训练信息。可以尝试在更大的数据集上去进行测试。由于训练时间较短，逻辑回归将是首选。**"
   ]
  }
 ],
 "metadata": {
  "hide_input": false,
  "kernelspec": {
   "display_name": "Python 3",
   "language": "python",
   "name": "python3"
  },
  "latex_envs": {
   "LaTeX_envs_menu_present": true,
   "autoclose": false,
   "autocomplete": true,
   "bibliofile": "biblio.bib",
   "cite_by": "apalike",
   "current_citInitial": 1,
   "eqLabelWithNumbers": true,
   "eqNumInitial": 1,
   "hotkeys": {
    "equation": "Ctrl-E",
    "itemize": "Ctrl-I"
   },
   "labels_anchors": false,
   "latex_user_defs": false,
   "report_style_numbering": false,
   "user_envs_cfg": false
  },
  "toc": {
   "base_numbering": 1,
   "nav_menu": {},
   "number_sections": true,
   "sideBar": true,
   "skip_h1_title": false,
   "title_cell": "Table of Contents",
   "title_sidebar": "Contents",
   "toc_cell": true,
   "toc_position": {},
   "toc_section_display": true,
   "toc_window_display": false
  },
  "varInspector": {
   "cols": {
    "lenName": 16,
    "lenType": 16,
    "lenVar": 40
   },
   "kernels_config": {
    "python": {
     "delete_cmd_postfix": "",
     "delete_cmd_prefix": "del ",
     "library": "var_list.py",
     "varRefreshCmd": "print(var_dic_list())"
    },
    "r": {
     "delete_cmd_postfix": ") ",
     "delete_cmd_prefix": "rm(",
     "library": "var_list.r",
     "varRefreshCmd": "cat(var_dic_list()) "
    }
   },
   "types_to_exclude": [
    "module",
    "function",
    "builtin_function_or_method",
    "instance",
    "_Feature"
   ],
   "window_display": false
  }
 },
 "nbformat": 4,
 "nbformat_minor": 1
}
