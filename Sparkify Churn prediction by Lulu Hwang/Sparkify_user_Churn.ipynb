{
 "cells": [
  {
   "cell_type": "markdown",
   "metadata": {
    "toc": true
   },
   "source": [
    "<h1>Table of Contents<span class=\"tocSkip\"></span></h1>\n",
    "<div class=\"toc\"><ul class=\"toc-item\"><li><span><a href=\"#导入需要的库\" data-toc-modified-id=\"导入需要的库-1\"><span class=\"toc-item-num\">1&nbsp;&nbsp;</span>导入需要的库</a></span></li><li><span><a href=\"#数据洞察和清洗\" data-toc-modified-id=\"数据洞察和清洗-2\"><span class=\"toc-item-num\">2&nbsp;&nbsp;</span>数据洞察和清洗</a></span><ul class=\"toc-item\"><li><span><a href=\"#数据概览\" data-toc-modified-id=\"数据概览-2.1\"><span class=\"toc-item-num\">2.1&nbsp;&nbsp;</span>数据概览</a></span></li><li><span><a href=\"#过滤掉未注册用户\" data-toc-modified-id=\"过滤掉未注册用户-2.2\"><span class=\"toc-item-num\">2.2&nbsp;&nbsp;</span>过滤掉未注册用户</a></span></li><li><span><a href=\"#转换时间字段\" data-toc-modified-id=\"转换时间字段-2.3\"><span class=\"toc-item-num\">2.3&nbsp;&nbsp;</span>转换时间字段</a></span></li><li><span><a href=\"#转换性别、级别为数值\" data-toc-modified-id=\"转换性别、级别为数值-2.4\"><span class=\"toc-item-num\">2.4&nbsp;&nbsp;</span>转换性别、级别为数值</a></span></li></ul></li><li><span><a href=\"#数据探索\" data-toc-modified-id=\"数据探索-3\"><span class=\"toc-item-num\">3&nbsp;&nbsp;</span>数据探索</a></span><ul class=\"toc-item\"><li><span><a href=\"#定义流失客户\" data-toc-modified-id=\"定义流失客户-3.1\"><span class=\"toc-item-num\">3.1&nbsp;&nbsp;</span>定义流失客户</a></span></li><li><span><a href=\"#查看用户关键行为：升级、降级\" data-toc-modified-id=\"查看用户关键行为：升级、降级-3.2\"><span class=\"toc-item-num\">3.2&nbsp;&nbsp;</span>查看用户关键行为：升级、降级</a></span></li><li><span><a href=\"#观察用户使用最多的页面\" data-toc-modified-id=\"观察用户使用最多的页面-3.3\"><span class=\"toc-item-num\">3.3&nbsp;&nbsp;</span>观察用户使用最多的页面</a></span></li><li><span><a href=\"#用户流失在不同性别的分布\" data-toc-modified-id=\"用户流失在不同性别的分布-3.4\"><span class=\"toc-item-num\">3.4&nbsp;&nbsp;</span>用户流失在不同性别的分布</a></span></li><li><span><a href=\"#用户流失在不同会员等级的分布\" data-toc-modified-id=\"用户流失在不同会员等级的分布-3.5\"><span class=\"toc-item-num\">3.5&nbsp;&nbsp;</span>用户流失在不同会员等级的分布</a></span></li><li><span><a href=\"#用户流失最多的地区\" data-toc-modified-id=\"用户流失最多的地区-3.6\"><span class=\"toc-item-num\">3.6&nbsp;&nbsp;</span>用户流失最多的地区</a></span></li><li><span><a href=\"#流失用户的每次登陆页面操作数\" data-toc-modified-id=\"流失用户的每次登陆页面操作数-3.7\"><span class=\"toc-item-num\">3.7&nbsp;&nbsp;</span>流失用户的每次登陆页面操作数</a></span></li><li><span><a href=\"#用户在线时段观察\" data-toc-modified-id=\"用户在线时段观察-3.8\"><span class=\"toc-item-num\">3.8&nbsp;&nbsp;</span>用户在线时段观察</a></span></li></ul></li><li><span><a href=\"#特征工程\" data-toc-modified-id=\"特征工程-4\"><span class=\"toc-item-num\">4&nbsp;&nbsp;</span>特征工程</a></span><ul class=\"toc-item\"><li><span><a href=\"#每个用户相关关键页面操作累计和\" data-toc-modified-id=\"每个用户相关关键页面操作累计和-4.1\"><span class=\"toc-item-num\">4.1&nbsp;&nbsp;</span>每个用户相关关键页面操作累计和</a></span></li><li><span><a href=\"#用户累计参与度\" data-toc-modified-id=\"用户累计参与度-4.2\"><span class=\"toc-item-num\">4.2&nbsp;&nbsp;</span>用户累计参与度</a></span></li><li><span><a href=\"#每个SessionId的统计指标\" data-toc-modified-id=\"每个SessionId的统计指标-4.3\"><span class=\"toc-item-num\">4.3&nbsp;&nbsp;</span>每个SessionId的统计指标</a></span></li><li><span><a href=\"#用户听歌曲的丰富度\" data-toc-modified-id=\"用户听歌曲的丰富度-4.4\"><span class=\"toc-item-num\">4.4&nbsp;&nbsp;</span>用户听歌曲的丰富度</a></span></li><li><span><a href=\"#用户付费周期的特征分布（付费天数、免费天数）\" data-toc-modified-id=\"用户付费周期的特征分布（付费天数、免费天数）-4.5\"><span class=\"toc-item-num\">4.5&nbsp;&nbsp;</span>用户付费周期的特征分布（付费天数、免费天数）</a></span></li><li><span><a href=\"#用户平均每日登陆次数\" data-toc-modified-id=\"用户平均每日登陆次数-4.6\"><span class=\"toc-item-num\">4.6&nbsp;&nbsp;</span>用户平均每日登陆次数</a></span></li><li><span><a href=\"#目前的level\" data-toc-modified-id=\"目前的level-4.7\"><span class=\"toc-item-num\">4.7&nbsp;&nbsp;</span>目前的level</a></span></li><li><span><a href=\"#沉默时间\" data-toc-modified-id=\"沉默时间-4.8\"><span class=\"toc-item-num\">4.8&nbsp;&nbsp;</span>沉默时间</a></span></li><li><span><a href=\"#构造训练数据集\" data-toc-modified-id=\"构造训练数据集-4.9\"><span class=\"toc-item-num\">4.9&nbsp;&nbsp;</span>构造训练数据集</a></span></li></ul></li><li><span><a href=\"#建模、训练、评估\" data-toc-modified-id=\"建模、训练、评估-5\"><span class=\"toc-item-num\">5&nbsp;&nbsp;</span>建模、训练、评估</a></span><ul class=\"toc-item\"><li><span><a href=\"#数据准备\" data-toc-modified-id=\"数据准备-5.1\"><span class=\"toc-item-num\">5.1&nbsp;&nbsp;</span>数据准备</a></span></li><li><span><a href=\"#划分训练集、测试集\" data-toc-modified-id=\"划分训练集、测试集-5.2\"><span class=\"toc-item-num\">5.2&nbsp;&nbsp;</span>划分训练集、测试集</a></span></li><li><span><a href=\"#模型训练\" data-toc-modified-id=\"模型训练-5.3\"><span class=\"toc-item-num\">5.3&nbsp;&nbsp;</span>模型训练</a></span><ul class=\"toc-item\"><li><span><a href=\"#逻辑回归\" data-toc-modified-id=\"逻辑回归-5.3.1\"><span class=\"toc-item-num\">5.3.1&nbsp;&nbsp;</span>逻辑回归</a></span></li><li><span><a href=\"#决策树\" data-toc-modified-id=\"决策树-5.3.2\"><span class=\"toc-item-num\">5.3.2&nbsp;&nbsp;</span>决策树</a></span></li><li><span><a href=\"#随机森林\" data-toc-modified-id=\"随机森林-5.3.3\"><span class=\"toc-item-num\">5.3.3&nbsp;&nbsp;</span>随机森林</a></span></li><li><span><a href=\"#如何确定评估指标？\" data-toc-modified-id=\"如何确定评估指标？-5.3.4\"><span class=\"toc-item-num\">5.3.4&nbsp;&nbsp;</span>如何确定评估指标？</a></span></li><li><span><a href=\"#确定评估指标\" data-toc-modified-id=\"确定评估指标-5.3.5\"><span class=\"toc-item-num\">5.3.5&nbsp;&nbsp;</span>确定评估指标</a></span></li></ul></li><li><span><a href=\"#网格搜索、调参\" data-toc-modified-id=\"网格搜索、调参-5.4\"><span class=\"toc-item-num\">5.4&nbsp;&nbsp;</span>网格搜索、调参</a></span></li><li><span><a href=\"#查看各因子的重要度\" data-toc-modified-id=\"查看各因子的重要度-5.5\"><span class=\"toc-item-num\">5.5&nbsp;&nbsp;</span>查看各因子的重要度</a></span></li></ul></li><li><span><a href=\"#总结\" data-toc-modified-id=\"总结-6\"><span class=\"toc-item-num\">6&nbsp;&nbsp;</span>总结</a></span></li></ul></div>"
   ]
  },
  {
   "cell_type": "markdown",
   "metadata": {},
   "source": [
    "# 导入需要的库"
   ]
  },
  {
   "cell_type": "code",
   "execution_count": 1,
   "metadata": {},
   "outputs": [],
   "source": [
    "# import libraries\n",
    "from pyspark.sql import SparkSession, Window\n",
    "from pyspark.ml.feature import RegexTokenizer, VectorAssembler, Normalizer, StandardScaler\n",
    "from pyspark.sql.functions import avg, col, concat, desc, explode, lit, min, max, count, split, udf, isnull, weekofyear"
   ]
  },
  {
   "cell_type": "code",
   "execution_count": 2,
   "metadata": {},
   "outputs": [],
   "source": [
    "from pyspark.ml import Pipeline\n",
    "from pyspark.ml.classification import LogisticRegression,DecisionTreeClassifier,\\\n",
    "    LogisticRegressionModel, RandomForestClassifier,RandomForestClassificationModel\n",
    "\n",
    "from pyspark.ml.evaluation import MulticlassClassificationEvaluator\n",
    "from pyspark.mllib.evaluation import MulticlassMetrics\n",
    "\n",
    "from pyspark.ml.feature import CountVectorizer, IDF, Normalizer, \\\n",
    "    PCA, RegexTokenizer, Tokenizer, StandardScaler, StopWordsRemover, \\\n",
    "    StringIndexer, VectorAssembler, MaxAbsScaler\n",
    "from pyspark.ml.regression import LinearRegression\n",
    "from pyspark.ml.clustering import KMeans\n",
    "from pyspark.ml.tuning import CrossValidator, ParamGridBuilder"
   ]
  },
  {
   "cell_type": "code",
   "execution_count": 3,
   "metadata": {},
   "outputs": [],
   "source": [
    "from pyspark.sql.functions import udf\n",
    "from pyspark.sql.types import StringType\n",
    "from pyspark.sql.types import IntegerType, FloatType\n",
    "from pyspark.sql.functions import desc\n",
    "from pyspark.sql.functions import asc\n",
    "from pyspark.sql.functions import sum as Fsum"
   ]
  },
  {
   "cell_type": "code",
   "execution_count": 4,
   "metadata": {},
   "outputs": [],
   "source": [
    "from time import time\n",
    "import re\n",
    "import numpy as np\n",
    "import scipy\n",
    "import pandas as pd\n",
    "import datetime\n",
    "import matplotlib.pyplot as plt\n",
    "from pandas.plotting import scatter_matrix\n",
    "import seaborn as sns\n",
    "import random\n",
    "%matplotlib inline"
   ]
  },
  {
   "cell_type": "code",
   "execution_count": 5,
   "metadata": {},
   "outputs": [],
   "source": [
    "spark = SparkSession.builder \\\n",
    "    .master(\"local\") \\\n",
    "    .appName(\"Music App\") \\\n",
    "    .getOrCreate()\n",
    "stack_overflow_data = 'mini_sparkify_event_data.json'\n",
    "df = spark.read.json(stack_overflow_data)"
   ]
  },
  {
   "cell_type": "markdown",
   "metadata": {},
   "source": [
    "# 数据洞察和清洗"
   ]
  },
  {
   "cell_type": "markdown",
   "metadata": {},
   "source": [
    "## 数据概览"
   ]
  },
  {
   "cell_type": "code",
   "execution_count": 6,
   "metadata": {},
   "outputs": [
    {
     "data": {
      "text/plain": [
       "Row(artist='Martha Tilston', auth='Logged In', firstName='Colin', gender='M', itemInSession=50, lastName='Freeman', length=277.89016, level='paid', location='Bakersfield, CA', method='PUT', page='NextSong', registration=1538173362000, sessionId=29, song='Rockpools', status=200, ts=1538352117000, userAgent='Mozilla/5.0 (Windows NT 6.1; WOW64; rv:31.0) Gecko/20100101 Firefox/31.0', userId='30')"
      ]
     },
     "execution_count": 6,
     "metadata": {},
     "output_type": "execute_result"
    }
   ],
   "source": [
    "df.head()"
   ]
  },
  {
   "cell_type": "code",
   "execution_count": 7,
   "metadata": {},
   "outputs": [
    {
     "data": {
      "text/plain": [
       "286500"
      ]
     },
     "execution_count": 7,
     "metadata": {},
     "output_type": "execute_result"
    }
   ],
   "source": [
    "df.count()"
   ]
  },
  {
   "cell_type": "code",
   "execution_count": 8,
   "metadata": {},
   "outputs": [
    {
     "data": {
      "text/plain": [
       "226"
      ]
     },
     "execution_count": 8,
     "metadata": {},
     "output_type": "execute_result"
    }
   ],
   "source": [
    "df.select(\"userId\").dropDuplicates().count()"
   ]
  },
  {
   "cell_type": "code",
   "execution_count": 9,
   "metadata": {},
   "outputs": [
    {
     "name": "stdout",
     "output_type": "stream",
     "text": [
      "root\n",
      " |-- artist: string (nullable = true)\n",
      " |-- auth: string (nullable = true)\n",
      " |-- firstName: string (nullable = true)\n",
      " |-- gender: string (nullable = true)\n",
      " |-- itemInSession: long (nullable = true)\n",
      " |-- lastName: string (nullable = true)\n",
      " |-- length: double (nullable = true)\n",
      " |-- level: string (nullable = true)\n",
      " |-- location: string (nullable = true)\n",
      " |-- method: string (nullable = true)\n",
      " |-- page: string (nullable = true)\n",
      " |-- registration: long (nullable = true)\n",
      " |-- sessionId: long (nullable = true)\n",
      " |-- song: string (nullable = true)\n",
      " |-- status: long (nullable = true)\n",
      " |-- ts: long (nullable = true)\n",
      " |-- userAgent: string (nullable = true)\n",
      " |-- userId: string (nullable = true)\n",
      "\n"
     ]
    }
   ],
   "source": [
    "df.printSchema()  #充分理解数据各个字段的含义，数据类型，大致分布，才可以进一步探索数据"
   ]
  },
  {
   "cell_type": "code",
   "execution_count": 10,
   "metadata": {},
   "outputs": [
    {
     "name": "stdout",
     "output_type": "stream",
     "text": [
      "+-------+------------------+----------+---------+------+------------------+--------+-----------------+------+-----------------+------+-------+--------------------+-----------------+--------------------+------------------+--------------------+--------------------+-----------------+\n",
      "|summary|            artist|      auth|firstName|gender|     itemInSession|lastName|           length| level|         location|method|   page|        registration|        sessionId|                song|            status|                  ts|           userAgent|           userId|\n",
      "+-------+------------------+----------+---------+------+------------------+--------+-----------------+------+-----------------+------+-------+--------------------+-----------------+--------------------+------------------+--------------------+--------------------+-----------------+\n",
      "|  count|            228108|    286500|   278154|278154|            286500|  278154|           228108|286500|           278154|286500| 286500|              278154|           286500|              228108|            286500|              286500|              278154|           286500|\n",
      "|   mean| 551.0852017937219|      null|     null|  null|114.41421291448516|    null|249.1171819778458|  null|             null|  null|   null|1.535358834084427...|1041.526554973822|            Infinity|210.05459685863875|1.540956889810483...|                null|59682.02278593872|\n",
      "| stddev|1217.7693079161374|      null|     null|  null|129.76726201140994|    null|99.23517921058361|  null|             null|  null|   null| 3.291321616327586E9|726.7762634630741|                 NaN| 31.50507848842214|1.5075439608226302E9|                null|109091.9499991047|\n",
      "|    min|               !!!| Cancelled| Adelaida|     F|                 0|   Adams|          0.78322|  free|       Albany, OR|   GET|  About|       1521380675000|                1|\u001c",
      "ÃÂg ÃÂtti Gr...|               200|       1538352117000|\"Mozilla/5.0 (Mac...|                 |\n",
      "|    max| ÃÂlafur Arnalds|Logged Out|   Zyonna|     M|              1321|  Wright|       3024.66567|  paid|Winston-Salem, NC|   PUT|Upgrade|       1543247354000|             2474|ÃÂau hafa slopp...|               404|       1543799476000|Mozilla/5.0 (comp...|               99|\n",
      "+-------+------------------+----------+---------+------+------------------+--------+-----------------+------+-----------------+------+-------+--------------------+-----------------+--------------------+------------------+--------------------+--------------------+-----------------+\n",
      "\n"
     ]
    }
   ],
   "source": [
    "df.describe().show()"
   ]
  },
  {
   "cell_type": "markdown",
   "metadata": {},
   "source": [
    "## 过滤掉未注册用户"
   ]
  },
  {
   "cell_type": "code",
   "execution_count": 11,
   "metadata": {},
   "outputs": [
    {
     "name": "stdout",
     "output_type": "stream",
     "text": [
      "+------+\n",
      "|userID|\n",
      "+------+\n",
      "|    30|\n",
      "|     9|\n",
      "|    30|\n",
      "|     9|\n",
      "|    30|\n",
      "|     9|\n",
      "|     9|\n",
      "|    30|\n",
      "|    30|\n",
      "|    30|\n",
      "|     9|\n",
      "|     9|\n",
      "|    30|\n",
      "|     9|\n",
      "|     9|\n",
      "|    30|\n",
      "|     9|\n",
      "|    74|\n",
      "|    30|\n",
      "|     9|\n",
      "+------+\n",
      "only showing top 20 rows\n",
      "\n"
     ]
    }
   ],
   "source": [
    "df.select(\"userID\").show()  #存在空值，说明有些客户没有登录"
   ]
  },
  {
   "cell_type": "code",
   "execution_count": 12,
   "metadata": {},
   "outputs": [
    {
     "name": "stdout",
     "output_type": "stream",
     "text": [
      "+------+----------+---------+------+-------------+--------+------+-----+--------+------+-----+------------+---------+----+------+-------------+---------+------+\n",
      "|artist|      auth|firstName|gender|itemInSession|lastName|length|level|location|method| page|registration|sessionId|song|status|           ts|userAgent|userId|\n",
      "+------+----------+---------+------+-------------+--------+------+-----+--------+------+-----+------------+---------+----+------+-------------+---------+------+\n",
      "|  null|Logged Out|     null|  null|          100|    null|  null| free|    null|   GET| Home|        null|        8|null|   200|1538355745000|     null|      |\n",
      "|  null|Logged Out|     null|  null|          101|    null|  null| free|    null|   GET| Help|        null|        8|null|   200|1538355807000|     null|      |\n",
      "|  null|Logged Out|     null|  null|          102|    null|  null| free|    null|   GET| Home|        null|        8|null|   200|1538355841000|     null|      |\n",
      "|  null|Logged Out|     null|  null|          103|    null|  null| free|    null|   PUT|Login|        null|        8|null|   307|1538355842000|     null|      |\n",
      "|  null|Logged Out|     null|  null|            2|    null|  null| free|    null|   GET| Home|        null|      240|null|   200|1538356678000|     null|      |\n",
      "|  null|Logged Out|     null|  null|            3|    null|  null| free|    null|   PUT|Login|        null|      240|null|   307|1538356679000|     null|      |\n",
      "|  null|Logged Out|     null|  null|            0|    null|  null| free|    null|   PUT|Login|        null|      100|null|   307|1538358102000|     null|      |\n",
      "|  null|Logged Out|     null|  null|            0|    null|  null| free|    null|   PUT|Login|        null|      241|null|   307|1538360117000|     null|      |\n",
      "|  null|Logged Out|     null|  null|           14|    null|  null| free|    null|   GET| Home|        null|      187|null|   200|1538361527000|     null|      |\n",
      "|  null|Logged Out|     null|  null|           15|    null|  null| free|    null|   PUT|Login|        null|      187|null|   307|1538361528000|     null|      |\n",
      "|  null|Logged Out|     null|  null|           21|    null|  null| free|    null|   GET| Home|        null|      187|null|   200|1538362007000|     null|      |\n",
      "|  null|Logged Out|     null|  null|           22|    null|  null| free|    null|   GET| Home|        null|      187|null|   200|1538362095000|     null|      |\n",
      "|  null|Logged Out|     null|  null|           23|    null|  null| free|    null|   PUT|Login|        null|      187|null|   307|1538362096000|     null|      |\n",
      "|  null|Logged Out|     null|  null|            0|    null|  null| free|    null|   GET| Home|        null|       27|null|   200|1538363488000|     null|      |\n",
      "|  null|Logged Out|     null|  null|            1|    null|  null| free|    null|   GET|About|        null|       27|null|   200|1538363494000|     null|      |\n",
      "|  null|Logged Out|     null|  null|            2|    null|  null| free|    null|   GET| Home|        null|       27|null|   200|1538363503000|     null|      |\n",
      "|  null|Logged Out|     null|  null|           38|    null|  null| free|    null|   GET| Home|        null|      187|null|   200|1538364254000|     null|      |\n",
      "|  null|Logged Out|     null|  null|           39|    null|  null| free|    null|   PUT|Login|        null|      187|null|   307|1538364255000|     null|      |\n",
      "|  null|Logged Out|     null|  null|            0|    null|  null| free|    null|   GET| Home|        null|      257|null|   200|1538364750000|     null|      |\n",
      "|  null|Logged Out|     null|  null|           47|    null|  null| free|    null|   GET| Home|        null|      100|null|   200|1538370681000|     null|      |\n",
      "+------+----------+---------+------+-------------+--------+------+-----+--------+------+-----+------------+---------+----+------+-------------+---------+------+\n",
      "only showing top 20 rows\n",
      "\n"
     ]
    }
   ],
   "source": [
    "df.where(df.userId == \"\").show()"
   ]
  },
  {
   "cell_type": "code",
   "execution_count": 13,
   "metadata": {},
   "outputs": [],
   "source": [
    "df = df.filter(col('userId') != '')"
   ]
  },
  {
   "cell_type": "code",
   "execution_count": 14,
   "metadata": {},
   "outputs": [
    {
     "data": {
      "text/plain": [
       "278154"
      ]
     },
     "execution_count": 14,
     "metadata": {},
     "output_type": "execute_result"
    }
   ],
   "source": [
    "df.count()"
   ]
  },
  {
   "cell_type": "code",
   "execution_count": 15,
   "metadata": {},
   "outputs": [
    {
     "data": {
      "text/plain": [
       "225"
      ]
     },
     "execution_count": 15,
     "metadata": {},
     "output_type": "execute_result"
    }
   ],
   "source": [
    "df.select(\"userId\").dropDuplicates().count()"
   ]
  },
  {
   "cell_type": "code",
   "execution_count": 16,
   "metadata": {},
   "outputs": [
    {
     "name": "stdout",
     "output_type": "stream",
     "text": [
      "+--------------------+\n",
      "|              artist|\n",
      "+--------------------+\n",
      "|      Martha Tilston|\n",
      "|    Five Iron Frenzy|\n",
      "|        Adam Lambert|\n",
      "|              Enigma|\n",
      "|           Daft Punk|\n",
      "|The All-American ...|\n",
      "|The Velvet Underg...|\n",
      "|        Starflyer 59|\n",
      "|                null|\n",
      "|            Frumpies|\n",
      "|        Britt Nicole|\n",
      "|                null|\n",
      "|Edward Sharpe & T...|\n",
      "|               Tesla|\n",
      "|                null|\n",
      "|         Stan Mosley|\n",
      "|Florence + The Ma...|\n",
      "|   Tokyo Police Club|\n",
      "|             Orishas|\n",
      "|             Ratatat|\n",
      "+--------------------+\n",
      "only showing top 20 rows\n",
      "\n"
     ]
    }
   ],
   "source": [
    "df.select(\"artist\").show()  #查看到歌曲、艺术家首字母均是大写"
   ]
  },
  {
   "cell_type": "markdown",
   "metadata": {},
   "source": [
    "## 转换时间字段"
   ]
  },
  {
   "cell_type": "code",
   "execution_count": 17,
   "metadata": {},
   "outputs": [],
   "source": [
    "#转换时间格式\n",
    "get_time = udf(lambda x: datetime.datetime.fromtimestamp(x / 1000.0).strftime(\n",
    "    \"%Y-%m-%d %H:%M:%S\"))\n",
    "df = df.withColumn(\"time\", get_time(df.ts))"
   ]
  },
  {
   "cell_type": "code",
   "execution_count": 18,
   "metadata": {},
   "outputs": [],
   "source": [
    "#便于查看小时、周几、几号的流失、非流失听歌频率的分布\n",
    "get_hour = udf(lambda x: datetime.datetime.fromtimestamp(x / 1000.0).hour)\n",
    "df = df.withColumn(\"hour\", get_hour(df.ts))\n",
    "\n",
    "get_weekday = udf(\n",
    "    lambda x: datetime.datetime.fromtimestamp(x / 1000.0).strftime(\"%w\"))\n",
    "df = df.withColumn(\"weekday\", get_weekday(df.ts))\n",
    "\n",
    "get_day = udf(lambda x: datetime.datetime.fromtimestamp(x / 1000.0).day)\n",
    "df = df.withColumn(\"day\", get_day(df.ts))"
   ]
  },
  {
   "cell_type": "code",
   "execution_count": 19,
   "metadata": {},
   "outputs": [
    {
     "data": {
      "text/plain": [
       "[Row(artist='Martha Tilston', auth='Logged In', firstName='Colin', gender='M', itemInSession=50, lastName='Freeman', length=277.89016, level='paid', location='Bakersfield, CA', method='PUT', page='NextSong', registration=1538173362000, sessionId=29, song='Rockpools', status=200, ts=1538352117000, userAgent='Mozilla/5.0 (Windows NT 6.1; WOW64; rv:31.0) Gecko/20100101 Firefox/31.0', userId='30', time='2018-10-01 00:01:57', hour='0', weekday='1', day='1'),\n",
       " Row(artist='Five Iron Frenzy', auth='Logged In', firstName='Micah', gender='M', itemInSession=79, lastName='Long', length=236.09424, level='free', location='Boston-Cambridge-Newton, MA-NH', method='PUT', page='NextSong', registration=1538331630000, sessionId=8, song='Canada', status=200, ts=1538352180000, userAgent='\"Mozilla/5.0 (Windows NT 6.1; WOW64) AppleWebKit/537.36 (KHTML, like Gecko) Chrome/37.0.2062.103 Safari/537.36\"', userId='9', time='2018-10-01 00:03:00', hour='0', weekday='1', day='1'),\n",
       " Row(artist='Adam Lambert', auth='Logged In', firstName='Colin', gender='M', itemInSession=51, lastName='Freeman', length=282.8273, level='paid', location='Bakersfield, CA', method='PUT', page='NextSong', registration=1538173362000, sessionId=29, song='Time For Miracles', status=200, ts=1538352394000, userAgent='Mozilla/5.0 (Windows NT 6.1; WOW64; rv:31.0) Gecko/20100101 Firefox/31.0', userId='30', time='2018-10-01 00:06:34', hour='0', weekday='1', day='1'),\n",
       " Row(artist='Enigma', auth='Logged In', firstName='Micah', gender='M', itemInSession=80, lastName='Long', length=262.71302, level='free', location='Boston-Cambridge-Newton, MA-NH', method='PUT', page='NextSong', registration=1538331630000, sessionId=8, song='Knocking On Forbidden Doors', status=200, ts=1538352416000, userAgent='\"Mozilla/5.0 (Windows NT 6.1; WOW64) AppleWebKit/537.36 (KHTML, like Gecko) Chrome/37.0.2062.103 Safari/537.36\"', userId='9', time='2018-10-01 00:06:56', hour='0', weekday='1', day='1'),\n",
       " Row(artist='Daft Punk', auth='Logged In', firstName='Colin', gender='M', itemInSession=52, lastName='Freeman', length=223.60771, level='paid', location='Bakersfield, CA', method='PUT', page='NextSong', registration=1538173362000, sessionId=29, song='Harder Better Faster Stronger', status=200, ts=1538352676000, userAgent='Mozilla/5.0 (Windows NT 6.1; WOW64; rv:31.0) Gecko/20100101 Firefox/31.0', userId='30', time='2018-10-01 00:11:16', hour='0', weekday='1', day='1')]"
      ]
     },
     "execution_count": 19,
     "metadata": {},
     "output_type": "execute_result"
    }
   ],
   "source": [
    "df.take(5)"
   ]
  },
  {
   "cell_type": "markdown",
   "metadata": {},
   "source": [
    "## 转换性别、级别为数值"
   ]
  },
  {
   "cell_type": "code",
   "execution_count": 20,
   "metadata": {},
   "outputs": [],
   "source": [
    "tran_gender = udf(lambda x: 1 if x == \"M\" else 0, IntegerType())\n",
    "df = df.withColumn(\"gender\", tran_gender(\"gender\"))\n",
    "tran_level = udf(lambda x: 1 if x == \"paid\" else 0, IntegerType())\n",
    "df = df.withColumn(\"level\", tran_level(\"level\"))"
   ]
  },
  {
   "cell_type": "markdown",
   "metadata": {},
   "source": [
    "# 数据探索"
   ]
  },
  {
   "cell_type": "markdown",
   "metadata": {},
   "source": [
    "## 定义流失客户"
   ]
  },
  {
   "cell_type": "code",
   "execution_count": 21,
   "metadata": {
    "scrolled": true
   },
   "outputs": [
    {
     "name": "stdout",
     "output_type": "stream",
     "text": [
      "+------+---------+---------+------+-------------+---------+------+-----+--------------------+------+--------------------+-------------+---------+----+------+-------------+--------------------+------+-------------------+----+-------+---+\n",
      "|artist|     auth|firstName|gender|itemInSession| lastName|length|level|            location|method|                page| registration|sessionId|song|status|           ts|           userAgent|userId|               time|hour|weekday|day|\n",
      "+------+---------+---------+------+-------------+---------+------+-----+--------------------+------+--------------------+-------------+---------+----+------+-------------+--------------------+------+-------------------+----+-------+---+\n",
      "|  null|Cancelled|   Adriel|     1|          104|  Mendoza|  null|    1|  Kansas City, MO-KS|   GET|Cancellation Conf...|1535623466000|      514|null|   200|1538943990000|\"Mozilla/5.0 (Mac...|    18|2018-10-07 20:26:30|  20|      0|  7|\n",
      "|  null|Cancelled|    Diego|     1|           56|    Mckee|  null|    1|Phoenix-Mesa-Scot...|   GET|Cancellation Conf...|1537167593000|      540|null|   200|1539033046000|\"Mozilla/5.0 (iPh...|    32|2018-10-08 21:10:46|  21|      1|  8|\n",
      "|  null|Cancelled|    Mason|     1|           10|     Hart|  null|    0|  Corpus Christi, TX|   GET|Cancellation Conf...|1533157139000|      174|null|   200|1539318918000|\"Mozilla/5.0 (Mac...|   125|2018-10-12 04:35:18|   4|      5| 12|\n",
      "|  null|Cancelled|Alexander|     1|          332|   Garcia|  null|    1|Indianapolis-Carm...|   GET|Cancellation Conf...|1536817381000|      508|null|   200|1539375441000|Mozilla/5.0 (Wind...|   105|2018-10-12 20:17:21|  20|      5| 12|\n",
      "|  null|Cancelled|    Kayla|     0|          273|  Johnson|  null|    1|Philadelphia-Camd...|   GET|Cancellation Conf...|1538333829000|      797|null|   200|1539465584000|Mozilla/5.0 (Wind...|    17|2018-10-13 21:19:44|  21|      6| 13|\n",
      "|  null|Cancelled|    Molly|     0|           29| Harrison|  null|    0|Virginia Beach-No...|   GET|Cancellation Conf...|1534255113000|      843|null|   200|1539588854000|\"Mozilla/5.0 (Mac...|   143|2018-10-15 07:34:14|   7|      1| 15|\n",
      "|  null|Cancelled|     Alex|     1|          145|    Hogan|  null|    1|Denver-Aurora-Lak...|   GET|Cancellation Conf...|1535066380000|      842|null|   200|1539729037000|Mozilla/5.0 (Wind...|   101|2018-10-16 22:30:37|  22|      2| 16|\n",
      "|  null|Cancelled|    Davis|     1|           34|     Wang|  null|    1|           Flint, MI|   GET|Cancellation Conf...|1538289776000|      802|null|   200|1539736161000|\"Mozilla/5.0 (Win...|   129|2018-10-17 00:29:21|   0|      3| 17|\n",
      "|  null|Cancelled|  Nikolas|     1|          287|    Olsen|  null|    1|Oxnard-Thousand O...|   GET|Cancellation Conf...|1528403713000|      881|null|   200|1539759749000|Mozilla/5.0 (X11;...|   121|2018-10-17 07:02:29|   7|      3| 17|\n",
      "|  null|Cancelled|    Ethan|     1|          176|  Johnson|  null|    1|Lexington-Fayette...|   GET|Cancellation Conf...|1538080987000|      934|null|   200|1539761972000|\"Mozilla/5.0 (Win...|    51|2018-10-17 07:39:32|   7|      3| 17|\n",
      "|  null|Cancelled|Christian|     1|          100| Robinson|  null|    1|       Quincy, IL-MO|   GET|Cancellation Conf...|1534942082000|     1092|null|   200|1540050556000|\"Mozilla/5.0 (Win...|    87|2018-10-20 15:49:16|  15|      6| 20|\n",
      "|  null|Cancelled|    Molly|     0|           43|Patterson|  null|    1|   Memphis, TN-MS-AR|   GET|Cancellation Conf...|1535498705000|     1029|null|   200|1540062068000|Mozilla/5.0 (X11;...|   122|2018-10-20 19:01:08|  19|      6| 20|\n",
      "|  null|Cancelled|   Sophia|     0|           72|    Perry|  null|    1|Los Angeles-Long ...|   GET|Cancellation Conf...|1533885783000|     1072|null|   200|1540193374000|Mozilla/5.0 (Wind...|    12|2018-10-22 07:29:34|   7|      1| 22|\n",
      "|  null|Cancelled|    Erick|     1|           48|   Brooks|  null|    1|           Selma, AL|   GET|Cancellation Conf...|1537956751000|     1112|null|   200|1540223006000|\"Mozilla/5.0 (Win...|    58|2018-10-22 15:43:26|  15|      1| 22|\n",
      "|  null|Cancelled|   Rachel|     0|           11|   Bailey|  null|    1|Albany-Schenectad...|   GET|Cancellation Conf...|1536102943000|     1059|null|   200|1540402387000|Mozilla/5.0 (Wind...|    73|2018-10-24 17:33:07|  17|      3| 24|\n",
      "|  null|Cancelled|  Jeffery|     1|           46|  Wheeler|  null|    1|         Bozeman, MT|   GET|Cancellation Conf...|1533886191000|     1324|null|   200|1540875543000|\"Mozilla/5.0 (Win...|     3|2018-10-30 04:59:03|   4|      2| 30|\n",
      "|  null|Cancelled|   Sophia|     0|           18|      Key|  null|    1|Los Angeles-Long ...|   GET|Cancellation Conf...|1537679535000|     1383|null|   200|1541166424000|\"Mozilla/5.0 (Mac...|   106|2018-11-02 13:47:04|  13|      5|  2|\n",
      "|  null|Cancelled|    Piper|     0|            8|  Nielsen|  null|    1|New York-Newark-J...|   GET|Cancellation Conf...|1537699856000|     1583|null|   200|1541340091000|\"Mozilla/5.0 (Mac...|   103|2018-11-04 14:01:31|  14|      0|  4|\n",
      "|  null|Cancelled|   Teagan|     0|          306|  Roberts|  null|    1|New Philadelphia-...|   GET|Cancellation Conf...|1537634865000|     1519|null|   200|1541463632000|Mozilla/5.0 (Wind...|    28|2018-11-06 00:20:32|   0|      2|  6|\n",
      "|  null|Cancelled|    Alexi|     0|           42|   Warren|  null|    1|Spokane-Spokane V...|   GET|Cancellation Conf...|1532482662000|     1819|null|   200|1542051608000|Mozilla/5.0 (Wind...|    54|2018-11-12 19:40:08|  19|      1| 12|\n",
      "+------+---------+---------+------+-------------+---------+------+-----+--------------------+------+--------------------+-------------+---------+----+------+-------------+--------------------+------+-------------------+----+-------+---+\n",
      "only showing top 20 rows\n",
      "\n"
     ]
    }
   ],
   "source": [
    "df.filter(\"page = 'Cancellation Confirmation'\").show()  #查看流失用户，具体流失用户的详细日志"
   ]
  },
  {
   "cell_type": "code",
   "execution_count": 22,
   "metadata": {
    "scrolled": false
   },
   "outputs": [
    {
     "data": {
      "text/plain": [
       "[Row(userId='28', firstname='Teagan', page='NextSong', level=1, song='Songs That Make A Difference', sessionId=1519, itemInSession=205, day='5'),\n",
       " Row(userId='28', firstname='Teagan', page='Thumbs Down', level=1, song=None, sessionId=1519, itemInSession=206, day='5'),\n",
       " Row(userId='28', firstname='Teagan', page='NextSong', level=1, song='Pages In Blood', sessionId=1519, itemInSession=207, day='5'),\n",
       " Row(userId='28', firstname='Teagan', page='NextSong', level=1, song='Capitol City', sessionId=1519, itemInSession=208, day='5'),\n",
       " Row(userId='28', firstname='Teagan', page='NextSong', level=1, song='Dressed To Digress', sessionId=1519, itemInSession=209, day='5'),\n",
       " Row(userId='28', firstname='Teagan', page='Thumbs Down', level=1, song=None, sessionId=1519, itemInSession=210, day='5'),\n",
       " Row(userId='28', firstname='Teagan', page='NextSong', level=1, song='Agua', sessionId=1519, itemInSession=211, day='5'),\n",
       " Row(userId='28', firstname='Teagan', page='NextSong', level=1, song='Bohemian Forest', sessionId=1519, itemInSession=212, day='5'),\n",
       " Row(userId='28', firstname='Teagan', page='NextSong', level=1, song='Not Exactly', sessionId=1519, itemInSession=213, day='5'),\n",
       " Row(userId='28', firstname='Teagan', page='NextSong', level=1, song='Me And You Blues', sessionId=1519, itemInSession=214, day='5'),\n",
       " Row(userId='28', firstname='Teagan', page='NextSong', level=1, song='By Your Side', sessionId=1519, itemInSession=215, day='5'),\n",
       " Row(userId='28', firstname='Teagan', page='NextSong', level=1, song='Tears Of The Dragon', sessionId=1519, itemInSession=216, day='5'),\n",
       " Row(userId='28', firstname='Teagan', page='Thumbs Up', level=1, song=None, sessionId=1519, itemInSession=217, day='5'),\n",
       " Row(userId='28', firstname='Teagan', page='NextSong', level=1, song='El Salvador', sessionId=1519, itemInSession=218, day='5'),\n",
       " Row(userId='28', firstname='Teagan', page='NextSong', level=1, song='Volcan', sessionId=1519, itemInSession=219, day='5'),\n",
       " Row(userId='28', firstname='Teagan', page='NextSong', level=1, song='A Dustland Fairytale', sessionId=1519, itemInSession=220, day='5'),\n",
       " Row(userId='28', firstname='Teagan', page='NextSong', level=1, song='Tulinesangala', sessionId=1519, itemInSession=221, day='5'),\n",
       " Row(userId='28', firstname='Teagan', page='NextSong', level=1, song='So Jersey', sessionId=1519, itemInSession=222, day='5'),\n",
       " Row(userId='28', firstname='Teagan', page='NextSong', level=1, song='Sala De RecepÃ\\x83Â§Ã\\x83Â£o', sessionId=1519, itemInSession=223, day='5'),\n",
       " Row(userId='28', firstname='Teagan', page='NextSong', level=1, song=\"You Know You're Right\", sessionId=1519, itemInSession=224, day='5'),\n",
       " Row(userId='28', firstname='Teagan', page='NextSong', level=1, song='Some Swedish Trees', sessionId=1519, itemInSession=225, day='5'),\n",
       " Row(userId='28', firstname='Teagan', page='NextSong', level=1, song='Bewildered', sessionId=1519, itemInSession=226, day='5'),\n",
       " Row(userId='28', firstname='Teagan', page='NextSong', level=1, song='Tudo De Voce', sessionId=1519, itemInSession=227, day='5'),\n",
       " Row(userId='28', firstname='Teagan', page='NextSong', level=1, song='The Cross [Live Audio]', sessionId=1519, itemInSession=228, day='5'),\n",
       " Row(userId='28', firstname='Teagan', page='NextSong', level=1, song='Peculiar', sessionId=1519, itemInSession=229, day='5'),\n",
       " Row(userId='28', firstname='Teagan', page='NextSong', level=1, song='Berlin', sessionId=1519, itemInSession=230, day='5'),\n",
       " Row(userId='28', firstname='Teagan', page='NextSong', level=1, song='Walls Of Huntsville', sessionId=1519, itemInSession=231, day='5'),\n",
       " Row(userId='28', firstname='Teagan', page='Thumbs Up', level=1, song=None, sessionId=1519, itemInSession=232, day='5'),\n",
       " Row(userId='28', firstname='Teagan', page='NextSong', level=1, song='Prefab', sessionId=1519, itemInSession=233, day='5'),\n",
       " Row(userId='28', firstname='Teagan', page='NextSong', level=1, song='The Life', sessionId=1519, itemInSession=234, day='5'),\n",
       " Row(userId='28', firstname='Teagan', page='NextSong', level=1, song='Gears', sessionId=1519, itemInSession=235, day='5'),\n",
       " Row(userId='28', firstname='Teagan', page='Downgrade', level=1, song=None, sessionId=1519, itemInSession=236, day='5'),\n",
       " Row(userId='28', firstname='Teagan', page='NextSong', level=1, song='Habalim', sessionId=1519, itemInSession=237, day='5'),\n",
       " Row(userId='28', firstname='Teagan', page='NextSong', level=1, song='Too Young', sessionId=1519, itemInSession=238, day='5'),\n",
       " Row(userId='28', firstname='Teagan', page='Home', level=1, song=None, sessionId=1519, itemInSession=239, day='5'),\n",
       " Row(userId='28', firstname='Teagan', page='NextSong', level=1, song='Blood Bank', sessionId=1519, itemInSession=240, day='5'),\n",
       " Row(userId='28', firstname='Teagan', page='NextSong', level=1, song='Revelry', sessionId=1519, itemInSession=241, day='5'),\n",
       " Row(userId='28', firstname='Teagan', page='NextSong', level=1, song='Take A Walk Around The Table', sessionId=1519, itemInSession=242, day='5'),\n",
       " Row(userId='28', firstname='Teagan', page='NextSong', level=1, song='Picture', sessionId=1519, itemInSession=243, day='5'),\n",
       " Row(userId='28', firstname='Teagan', page='Thumbs Up', level=1, song=None, sessionId=1519, itemInSession=244, day='5'),\n",
       " Row(userId='28', firstname='Teagan', page='NextSong', level=1, song='Easier Said Than Done (Let It Happen Album Version)', sessionId=1519, itemInSession=245, day='5'),\n",
       " Row(userId='28', firstname='Teagan', page='NextSong', level=1, song='Walking On A Dream', sessionId=1519, itemInSession=246, day='5'),\n",
       " Row(userId='28', firstname='Teagan', page='NextSong', level=1, song='Living Proof', sessionId=1519, itemInSession=247, day='5'),\n",
       " Row(userId='28', firstname='Teagan', page='NextSong', level=1, song='Every Little Thing (Album Version)', sessionId=1519, itemInSession=248, day='5'),\n",
       " Row(userId='28', firstname='Teagan', page='NextSong', level=1, song='Mykonos', sessionId=1519, itemInSession=249, day='5'),\n",
       " Row(userId='28', firstname='Teagan', page='Downgrade', level=1, song=None, sessionId=1519, itemInSession=250, day='5'),\n",
       " Row(userId='28', firstname='Teagan', page='NextSong', level=1, song='FrÃ\\x83Â¡gil', sessionId=1519, itemInSession=251, day='5'),\n",
       " Row(userId='28', firstname='Teagan', page='NextSong', level=1, song='Innocent Bones (Album)', sessionId=1519, itemInSession=252, day='5'),\n",
       " Row(userId='28', firstname='Teagan', page='Downgrade', level=1, song=None, sessionId=1519, itemInSession=253, day='5'),\n",
       " Row(userId='28', firstname='Teagan', page='NextSong', level=1, song='The God I Know', sessionId=1519, itemInSession=254, day='5'),\n",
       " Row(userId='28', firstname='Teagan', page='NextSong', level=1, song='Clones', sessionId=1519, itemInSession=255, day='5'),\n",
       " Row(userId='28', firstname='Teagan', page='NextSong', level=1, song=\"You'll Be In My Heart\", sessionId=1519, itemInSession=256, day='5'),\n",
       " Row(userId='28', firstname='Teagan', page='NextSong', level=1, song=\"You're The One\", sessionId=1519, itemInSession=257, day='5'),\n",
       " Row(userId='28', firstname='Teagan', page='NextSong', level=1, song='ReprÃ\\x83Â©sente', sessionId=1519, itemInSession=258, day='5'),\n",
       " Row(userId='28', firstname='Teagan', page='NextSong', level=1, song=\"All These Things That I've Done\", sessionId=1519, itemInSession=259, day='5'),\n",
       " Row(userId='28', firstname='Teagan', page='NextSong', level=1, song='Rosemary', sessionId=1519, itemInSession=260, day='5'),\n",
       " Row(userId='28', firstname='Teagan', page='NextSong', level=1, song=\"Le vol d'un ange\", sessionId=1519, itemInSession=261, day='5'),\n",
       " Row(userId='28', firstname='Teagan', page='NextSong', level=1, song='End Of The World', sessionId=1519, itemInSession=262, day='5'),\n",
       " Row(userId='28', firstname='Teagan', page='NextSong', level=1, song='Mr. Weatherman', sessionId=1519, itemInSession=263, day='5'),\n",
       " Row(userId='28', firstname='Teagan', page='NextSong', level=1, song='Open All Night', sessionId=1519, itemInSession=264, day='5'),\n",
       " Row(userId='28', firstname='Teagan', page='Downgrade', level=1, song=None, sessionId=1519, itemInSession=265, day='5'),\n",
       " Row(userId='28', firstname='Teagan', page='NextSong', level=1, song='Ruska', sessionId=1519, itemInSession=266, day='5'),\n",
       " Row(userId='28', firstname='Teagan', page='NextSong', level=1, song='Fools', sessionId=1519, itemInSession=267, day='5'),\n",
       " Row(userId='28', firstname='Teagan', page='Thumbs Up', level=1, song=None, sessionId=1519, itemInSession=268, day='5'),\n",
       " Row(userId='28', firstname='Teagan', page='NextSong', level=1, song='Almaz', sessionId=1519, itemInSession=269, day='5'),\n",
       " Row(userId='28', firstname='Teagan', page='Logout', level=1, song=None, sessionId=1519, itemInSession=270, day='5'),\n",
       " Row(userId='28', firstname='Teagan', page='Home', level=1, song=None, sessionId=1519, itemInSession=273, day='5'),\n",
       " Row(userId='28', firstname='Teagan', page='NextSong', level=1, song='Hey_ Soul Sister', sessionId=1519, itemInSession=274, day='5'),\n",
       " Row(userId='28', firstname='Teagan', page='NextSong', level=1, song='Till The Sky Falls Down', sessionId=1519, itemInSession=275, day='5'),\n",
       " Row(userId='28', firstname='Teagan', page='NextSong', level=1, song='Our Song', sessionId=1519, itemInSession=276, day='5'),\n",
       " Row(userId='28', firstname='Teagan', page='NextSong', level=1, song='Friday (Instrumental Album Version)', sessionId=1519, itemInSession=277, day='5'),\n",
       " Row(userId='28', firstname='Teagan', page='NextSong', level=1, song='Blues In G', sessionId=1519, itemInSession=278, day='5'),\n",
       " Row(userId='28', firstname='Teagan', page='NextSong', level=1, song='Sense_ Sensibility', sessionId=1519, itemInSession=279, day='5'),\n",
       " Row(userId='28', firstname='Teagan', page='NextSong', level=1, song='Sleep In The Garden', sessionId=1519, itemInSession=280, day='5'),\n",
       " Row(userId='28', firstname='Teagan', page='NextSong', level=1, song='We All Die One Day', sessionId=1519, itemInSession=281, day='5'),\n",
       " Row(userId='28', firstname='Teagan', page='Thumbs Down', level=1, song=None, sessionId=1519, itemInSession=282, day='5'),\n",
       " Row(userId='28', firstname='Teagan', page='NextSong', level=1, song='Mr. Jones', sessionId=1519, itemInSession=283, day='5'),\n",
       " Row(userId='28', firstname='Teagan', page='Thumbs Up', level=1, song=None, sessionId=1519, itemInSession=284, day='5'),\n",
       " Row(userId='28', firstname='Teagan', page='NextSong', level=1, song='Nah Let Go', sessionId=1519, itemInSession=285, day='5'),\n",
       " Row(userId='28', firstname='Teagan', page='NextSong', level=1, song='No Rest For The Wicked', sessionId=1519, itemInSession=286, day='5'),\n",
       " Row(userId='28', firstname='Teagan', page='NextSong', level=1, song='Cherry Blossom Girl (Radio Mix)', sessionId=1519, itemInSession=287, day='5'),\n",
       " Row(userId='28', firstname='Teagan', page='NextSong', level=1, song='Milk', sessionId=1519, itemInSession=288, day='5'),\n",
       " Row(userId='28', firstname='Teagan', page='NextSong', level=1, song='Broken Open', sessionId=1519, itemInSession=289, day='5'),\n",
       " Row(userId='28', firstname='Teagan', page='NextSong', level=1, song='Sound And Vision (1999 Digital Remaster)', sessionId=1519, itemInSession=290, day='5'),\n",
       " Row(userId='28', firstname='Teagan', page='NextSong', level=1, song=\"Ain't Misbehavin\", sessionId=1519, itemInSession=291, day='5'),\n",
       " Row(userId='28', firstname='Teagan', page='NextSong', level=1, song='Love Of My Life (1993 Digital Remaster)', sessionId=1519, itemInSession=292, day='5'),\n",
       " Row(userId='28', firstname='Teagan', page='NextSong', level=1, song='Home', sessionId=1519, itemInSession=293, day='5'),\n",
       " Row(userId='28', firstname='Teagan', page='NextSong', level=1, song=\"I Keep Going Back To Joe's\", sessionId=1519, itemInSession=294, day='5'),\n",
       " Row(userId='28', firstname='Teagan', page='NextSong', level=1, song='Le Million', sessionId=1519, itemInSession=295, day='5'),\n",
       " Row(userId='28', firstname='Teagan', page='NextSong', level=1, song='Free Style (feat. Kevo_ Mussilini & Lyrical 187)', sessionId=1519, itemInSession=296, day='6'),\n",
       " Row(userId='28', firstname='Teagan', page='NextSong', level=1, song='Drive Slow', sessionId=1519, itemInSession=297, day='6'),\n",
       " Row(userId='28', firstname='Teagan', page='NextSong', level=1, song='Stupid Girl', sessionId=1519, itemInSession=298, day='6'),\n",
       " Row(userId='28', firstname='Teagan', page='NextSong', level=1, song='Abstract Art (feat. NO)', sessionId=1519, itemInSession=299, day='6'),\n",
       " Row(userId='28', firstname='Teagan', page='NextSong', level=1, song='Como Duele (Album)', sessionId=1519, itemInSession=300, day='6'),\n",
       " Row(userId='28', firstname='Teagan', page='Home', level=1, song=None, sessionId=1519, itemInSession=301, day='6'),\n",
       " Row(userId='28', firstname='Teagan', page='NextSong', level=1, song='Back In The Day', sessionId=1519, itemInSession=302, day='6'),\n",
       " Row(userId='28', firstname='Teagan', page='Downgrade', level=1, song=None, sessionId=1519, itemInSession=303, day='6'),\n",
       " Row(userId='28', firstname='Teagan', page='Downgrade', level=1, song=None, sessionId=1519, itemInSession=304, day='6'),\n",
       " Row(userId='28', firstname='Teagan', page='Cancel', level=1, song=None, sessionId=1519, itemInSession=305, day='6'),\n",
       " Row(userId='28', firstname='Teagan', page='Cancellation Confirmation', level=1, song=None, sessionId=1519, itemInSession=306, day='6')]"
      ]
     },
     "execution_count": 22,
     "metadata": {},
     "output_type": "execute_result"
    }
   ],
   "source": [
    "df.select([\n",
    "    \"userId\", \"firstname\", \"page\", \"level\", \"song\", \"sessionId\",\n",
    "    \"itemInSession\", \"day\"\n",
    "]).where(df.userId == \"28\").collect()[-100:]"
   ]
  },
  {
   "cell_type": "code",
   "execution_count": 23,
   "metadata": {},
   "outputs": [],
   "source": [
    "churn_users = df.filter(\n",
    "    df.page == \"Cancellation Confirmation\").select(\"userId\").dropDuplicates()\n",
    "churn_users_list = [(row['userId']) for row in churn_users.collect()]"
   ]
  },
  {
   "cell_type": "code",
   "execution_count": 24,
   "metadata": {},
   "outputs": [
    {
     "data": {
      "text/plain": [
       "['125',\n",
       " '51',\n",
       " '54',\n",
       " '100014',\n",
       " '101',\n",
       " '29',\n",
       " '100021',\n",
       " '87',\n",
       " '73',\n",
       " '3',\n",
       " '28',\n",
       " '100022',\n",
       " '100025',\n",
       " '300007',\n",
       " '100006',\n",
       " '18',\n",
       " '70',\n",
       " '100005',\n",
       " '17',\n",
       " '100007',\n",
       " '300001',\n",
       " '100009',\n",
       " '100015',\n",
       " '200024',\n",
       " '100003',\n",
       " '103',\n",
       " '100024',\n",
       " '53',\n",
       " '122',\n",
       " '200017',\n",
       " '58',\n",
       " '100011',\n",
       " '100019',\n",
       " '100012',\n",
       " '200018',\n",
       " '200016',\n",
       " '200020',\n",
       " '106',\n",
       " '143',\n",
       " '32',\n",
       " '200001',\n",
       " '105',\n",
       " '200011',\n",
       " '100023',\n",
       " '100013',\n",
       " '100017',\n",
       " '121',\n",
       " '12',\n",
       " '200015',\n",
       " '129',\n",
       " '200021',\n",
       " '100001']"
      ]
     },
     "execution_count": 24,
     "metadata": {},
     "output_type": "execute_result"
    }
   ],
   "source": [
    "churn_users_list"
   ]
  },
  {
   "cell_type": "code",
   "execution_count": 25,
   "metadata": {},
   "outputs": [
    {
     "data": {
      "text/plain": [
       "[Row(artist='Martha Tilston', auth='Logged In', firstName='Colin', gender=1, itemInSession=50, lastName='Freeman', length=277.89016, level=1, location='Bakersfield, CA', method='PUT', page='NextSong', registration=1538173362000, sessionId=29, song='Rockpools', status=200, ts=1538352117000, userAgent='Mozilla/5.0 (Windows NT 6.1; WOW64; rv:31.0) Gecko/20100101 Firefox/31.0', userId='30', time='2018-10-01 00:01:57', hour='0', weekday='1', day='1', Churn=0),\n",
       " Row(artist='Five Iron Frenzy', auth='Logged In', firstName='Micah', gender=1, itemInSession=79, lastName='Long', length=236.09424, level=0, location='Boston-Cambridge-Newton, MA-NH', method='PUT', page='NextSong', registration=1538331630000, sessionId=8, song='Canada', status=200, ts=1538352180000, userAgent='\"Mozilla/5.0 (Windows NT 6.1; WOW64) AppleWebKit/537.36 (KHTML, like Gecko) Chrome/37.0.2062.103 Safari/537.36\"', userId='9', time='2018-10-01 00:03:00', hour='0', weekday='1', day='1', Churn=0),\n",
       " Row(artist='Adam Lambert', auth='Logged In', firstName='Colin', gender=1, itemInSession=51, lastName='Freeman', length=282.8273, level=1, location='Bakersfield, CA', method='PUT', page='NextSong', registration=1538173362000, sessionId=29, song='Time For Miracles', status=200, ts=1538352394000, userAgent='Mozilla/5.0 (Windows NT 6.1; WOW64; rv:31.0) Gecko/20100101 Firefox/31.0', userId='30', time='2018-10-01 00:06:34', hour='0', weekday='1', day='1', Churn=0),\n",
       " Row(artist='Enigma', auth='Logged In', firstName='Micah', gender=1, itemInSession=80, lastName='Long', length=262.71302, level=0, location='Boston-Cambridge-Newton, MA-NH', method='PUT', page='NextSong', registration=1538331630000, sessionId=8, song='Knocking On Forbidden Doors', status=200, ts=1538352416000, userAgent='\"Mozilla/5.0 (Windows NT 6.1; WOW64) AppleWebKit/537.36 (KHTML, like Gecko) Chrome/37.0.2062.103 Safari/537.36\"', userId='9', time='2018-10-01 00:06:56', hour='0', weekday='1', day='1', Churn=0),\n",
       " Row(artist='Daft Punk', auth='Logged In', firstName='Colin', gender=1, itemInSession=52, lastName='Freeman', length=223.60771, level=1, location='Bakersfield, CA', method='PUT', page='NextSong', registration=1538173362000, sessionId=29, song='Harder Better Faster Stronger', status=200, ts=1538352676000, userAgent='Mozilla/5.0 (Windows NT 6.1; WOW64; rv:31.0) Gecko/20100101 Firefox/31.0', userId='30', time='2018-10-01 00:11:16', hour='0', weekday='1', day='1', Churn=0)]"
      ]
     },
     "execution_count": 25,
     "metadata": {},
     "output_type": "execute_result"
    }
   ],
   "source": [
    "# 创建Churn列，用来标记后期证实流失的客户\n",
    "flag_CancellationConfirmation_event = udf(\n",
    "    lambda x: 1 if x in churn_users_list else 0, IntegerType())\n",
    "df = df.withColumn(\"Churn\", flag_CancellationConfirmation_event(\"userId\"))\n",
    "\n",
    "df.take(5)"
   ]
  },
  {
   "cell_type": "code",
   "execution_count": 26,
   "metadata": {},
   "outputs": [
    {
     "name": "stdout",
     "output_type": "stream",
     "text": [
      "+-----+\n",
      "|Churn|\n",
      "+-----+\n",
      "|    0|\n",
      "|    0|\n",
      "|    0|\n",
      "|    0|\n",
      "|    0|\n",
      "|    0|\n",
      "|    0|\n",
      "|    0|\n",
      "|    0|\n",
      "|    0|\n",
      "|    0|\n",
      "|    0|\n",
      "|    0|\n",
      "|    0|\n",
      "|    0|\n",
      "|    0|\n",
      "|    0|\n",
      "|    0|\n",
      "|    0|\n",
      "|    0|\n",
      "|    0|\n",
      "|    0|\n",
      "|    1|\n",
      "|    0|\n",
      "|    0|\n",
      "|    0|\n",
      "|    1|\n",
      "|    0|\n",
      "|    0|\n",
      "|    0|\n",
      "|    1|\n",
      "|    0|\n",
      "|    0|\n",
      "|    0|\n",
      "|    1|\n",
      "|    1|\n",
      "|    0|\n",
      "|    0|\n",
      "|    0|\n",
      "|    1|\n",
      "|    0|\n",
      "|    0|\n",
      "|    0|\n",
      "|    1|\n",
      "|    1|\n",
      "|    0|\n",
      "|    0|\n",
      "|    0|\n",
      "|    0|\n",
      "|    0|\n",
      "|    0|\n",
      "|    0|\n",
      "|    0|\n",
      "|    0|\n",
      "|    0|\n",
      "|    0|\n",
      "|    0|\n",
      "|    0|\n",
      "|    0|\n",
      "|    0|\n",
      "|    0|\n",
      "|    0|\n",
      "|    0|\n",
      "|    0|\n",
      "|    0|\n",
      "|    0|\n",
      "|    0|\n",
      "|    0|\n",
      "|    0|\n",
      "|    0|\n",
      "|    0|\n",
      "|    0|\n",
      "|    0|\n",
      "|    0|\n",
      "|    0|\n",
      "|    0|\n",
      "|    0|\n",
      "|    0|\n",
      "|    0|\n",
      "|    0|\n",
      "|    0|\n",
      "|    0|\n",
      "|    0|\n",
      "|    0|\n",
      "|    0|\n",
      "|    0|\n",
      "|    0|\n",
      "|    0|\n",
      "|    0|\n",
      "|    0|\n",
      "|    0|\n",
      "|    0|\n",
      "|    0|\n",
      "|    0|\n",
      "|    0|\n",
      "|    0|\n",
      "|    0|\n",
      "|    0|\n",
      "|    0|\n",
      "|    0|\n",
      "+-----+\n",
      "only showing top 100 rows\n",
      "\n"
     ]
    }
   ],
   "source": [
    "df.select(\"Churn\").show(100)  #大部分是没有取消服务的"
   ]
  },
  {
   "cell_type": "code",
   "execution_count": 116,
   "metadata": {},
   "outputs": [
    {
     "name": "stdout",
     "output_type": "stream",
     "text": [
      "+-----+------+\n",
      "|Churn| count|\n",
      "+-----+------+\n",
      "|    1| 44864|\n",
      "|    0|233290|\n",
      "+-----+------+\n",
      "\n"
     ]
    }
   ],
   "source": [
    "df.groupby(\"Churn\").count().show()"
   ]
  },
  {
   "cell_type": "code",
   "execution_count": 27,
   "metadata": {},
   "outputs": [
    {
     "name": "stdout",
     "output_type": "stream",
     "text": [
      "+-------+------------------+\n",
      "|summary|     itemInSession|\n",
      "+-------+------------------+\n",
      "|  count|            278154|\n",
      "|   mean|114.89918174824018|\n",
      "| stddev|  129.851729399489|\n",
      "|    min|                 0|\n",
      "|    max|              1321|\n",
      "+-------+------------------+\n",
      "\n"
     ]
    }
   ],
   "source": [
    "df.describe(\"itemInSession\").show()"
   ]
  },
  {
   "cell_type": "markdown",
   "metadata": {},
   "source": [
    "## 查看用户关键行为：升级、降级"
   ]
  },
  {
   "cell_type": "code",
   "execution_count": 28,
   "metadata": {},
   "outputs": [
    {
     "data": {
      "text/plain": [
       "[Row(userId='100', page='Submit Downgrade', sessionId=1590),\n",
       " Row(userId='100004', page='Submit Downgrade', sessionId=112),\n",
       " Row(userId='100004', page='Submit Downgrade', sessionId=147),\n",
       " Row(userId='100008', page='Submit Downgrade', sessionId=132),\n",
       " Row(userId='100009', page='Submit Downgrade', sessionId=126),\n",
       " Row(userId='100012', page='Submit Downgrade', sessionId=94),\n",
       " Row(userId='100015', page='Submit Downgrade', sessionId=121),\n",
       " Row(userId='100016', page='Submit Downgrade', sessionId=190),\n",
       " Row(userId='100018', page='Submit Downgrade', sessionId=67),\n",
       " Row(userId='100018', page='Submit Downgrade', sessionId=202),\n",
       " Row(userId='100025', page='Submit Downgrade', sessionId=123),\n",
       " Row(userId='103', page='Submit Downgrade', sessionId=865),\n",
       " Row(userId='109', page='Submit Downgrade', sessionId=1705),\n",
       " Row(userId='11', page='Submit Downgrade', sessionId=487),\n",
       " Row(userId='12', page='Submit Downgrade', sessionId=632),\n",
       " Row(userId='13', page='Submit Downgrade', sessionId=1695),\n",
       " Row(userId='13', page='Submit Downgrade', sessionId=1695),\n",
       " Row(userId='131', page='Submit Downgrade', sessionId=249),\n",
       " Row(userId='131', page='Submit Downgrade', sessionId=2041),\n",
       " Row(userId='140', page='Submit Downgrade', sessionId=753),\n",
       " Row(userId='140', page='Submit Downgrade', sessionId=1643),\n",
       " Row(userId='140', page='Submit Downgrade', sessionId=1918),\n",
       " Row(userId='141', page='Submit Downgrade', sessionId=479),\n",
       " Row(userId='20', page='Submit Downgrade', sessionId=378),\n",
       " Row(userId='20', page='Submit Downgrade', sessionId=1875),\n",
       " Row(userId='200003', page='Submit Downgrade', sessionId=28),\n",
       " Row(userId='200003', page='Submit Downgrade', sessionId=283),\n",
       " Row(userId='200009', page='Submit Downgrade', sessionId=251),\n",
       " Row(userId='200011', page='Submit Downgrade', sessionId=238),\n",
       " Row(userId='200019', page='Submit Downgrade', sessionId=148),\n",
       " Row(userId='200020', page='Submit Downgrade', sessionId=222),\n",
       " Row(userId='200023', page='Submit Downgrade', sessionId=69),\n",
       " Row(userId='200023', page='Submit Downgrade', sessionId=295),\n",
       " Row(userId='200025', page='Submit Downgrade', sessionId=115),\n",
       " Row(userId='24', page='Submit Downgrade', sessionId=1317),\n",
       " Row(userId='25', page='Submit Downgrade', sessionId=1718),\n",
       " Row(userId='30', page='Submit Downgrade', sessionId=532),\n",
       " Row(userId='300002', page='Submit Downgrade', sessionId=220),\n",
       " Row(userId='300004', page='Submit Downgrade', sessionId=267),\n",
       " Row(userId='300011', page='Submit Downgrade', sessionId=362),\n",
       " Row(userId='300015', page='Submit Downgrade', sessionId=69),\n",
       " Row(userId='300021', page='Submit Downgrade', sessionId=144),\n",
       " Row(userId='300023', page='Submit Downgrade', sessionId=459),\n",
       " Row(userId='35', page='Submit Downgrade', sessionId=812),\n",
       " Row(userId='35', page='Submit Downgrade', sessionId=1704),\n",
       " Row(userId='38', page='Submit Downgrade', sessionId=313),\n",
       " Row(userId='39', page='Submit Downgrade', sessionId=1546),\n",
       " Row(userId='39', page='Submit Downgrade', sessionId=1609),\n",
       " Row(userId='39', page='Submit Downgrade', sessionId=1985),\n",
       " Row(userId='49', page='Submit Downgrade', sessionId=1744),\n",
       " Row(userId='54', page='Submit Downgrade', sessionId=859),\n",
       " Row(userId='59', page='Submit Downgrade', sessionId=510),\n",
       " Row(userId='61', page='Submit Downgrade', sessionId=529),\n",
       " Row(userId='61', page='Submit Downgrade', sessionId=2345),\n",
       " Row(userId='74', page='Submit Downgrade', sessionId=1101),\n",
       " Row(userId='77', page='Submit Downgrade', sessionId=688),\n",
       " Row(userId='81', page='Submit Downgrade', sessionId=725),\n",
       " Row(userId='85', page='Submit Downgrade', sessionId=734),\n",
       " Row(userId='85', page='Submit Downgrade', sessionId=1183),\n",
       " Row(userId='9', page='Submit Downgrade', sessionId=1276),\n",
       " Row(userId='92', page='Submit Downgrade', sessionId=2125),\n",
       " Row(userId='95', page='Submit Downgrade', sessionId=826),\n",
       " Row(userId='96', page='Submit Downgrade', sessionId=1689)]"
      ]
     },
     "execution_count": 28,
     "metadata": {},
     "output_type": "execute_result"
    }
   ],
   "source": [
    "df.select([\"userId\", \"page\", \"sessionId\"\n",
    "           ]).where(df.page == \"Submit Downgrade\").sort([\"userId\"]).collect()"
   ]
  },
  {
   "cell_type": "code",
   "execution_count": 29,
   "metadata": {
    "scrolled": false
   },
   "outputs": [
    {
     "data": {
      "text/plain": [
       "[Row(userId='100', page='Submit Upgrade', sessionId=1899),\n",
       " Row(userId='100004', page='Submit Upgrade', sessionId=108),\n",
       " Row(userId='100004', page='Submit Upgrade', sessionId=112),\n",
       " Row(userId='100004', page='Submit Upgrade', sessionId=208),\n",
       " Row(userId='100009', page='Submit Upgrade', sessionId=85),\n",
       " Row(userId='100012', page='Submit Upgrade', sessionId=59),\n",
       " Row(userId='100013', page='Submit Upgrade', sessionId=62),\n",
       " Row(userId='100015', page='Submit Upgrade', sessionId=79),\n",
       " Row(userId='100015', page='Submit Upgrade', sessionId=162),\n",
       " Row(userId='100018', page='Submit Upgrade', sessionId=67),\n",
       " Row(userId='100018', page='Submit Upgrade', sessionId=114),\n",
       " Row(userId='100023', page='Submit Upgrade', sessionId=61),\n",
       " Row(userId='101', page='Submit Upgrade', sessionId=312),\n",
       " Row(userId='103', page='Submit Upgrade', sessionId=865),\n",
       " Row(userId='103', page='Submit Upgrade', sessionId=916),\n",
       " Row(userId='104', page='Submit Upgrade', sessionId=1103),\n",
       " Row(userId='105', page='Submit Upgrade', sessionId=104),\n",
       " Row(userId='106', page='Submit Upgrade', sessionId=429),\n",
       " Row(userId='108', page='Submit Upgrade', sessionId=1228),\n",
       " Row(userId='109', page='Submit Upgrade', sessionId=108),\n",
       " Row(userId='11', page='Submit Upgrade', sessionId=487),\n",
       " Row(userId='11', page='Submit Upgrade', sessionId=1824),\n",
       " Row(userId='111', page='Submit Upgrade', sessionId=1416),\n",
       " Row(userId='113', page='Submit Upgrade', sessionId=366),\n",
       " Row(userId='114', page='Submit Upgrade', sessionId=1013),\n",
       " Row(userId='115', page='Submit Upgrade', sessionId=316),\n",
       " Row(userId='118', page='Submit Upgrade', sessionId=601),\n",
       " Row(userId='12', page='Submit Upgrade', sessionId=379),\n",
       " Row(userId='12', page='Submit Upgrade', sessionId=910),\n",
       " Row(userId='121', page='Submit Upgrade', sessionId=719),\n",
       " Row(userId='122', page='Submit Upgrade', sessionId=1029),\n",
       " Row(userId='126', page='Submit Upgrade', sessionId=988),\n",
       " Row(userId='128', page='Submit Upgrade', sessionId=834),\n",
       " Row(userId='129', page='Submit Upgrade', sessionId=536),\n",
       " Row(userId='13', page='Submit Upgrade', sessionId=1524),\n",
       " Row(userId='13', page='Submit Upgrade', sessionId=1695),\n",
       " Row(userId='131', page='Submit Upgrade', sessionId=249),\n",
       " Row(userId='132', page='Submit Upgrade', sessionId=131),\n",
       " Row(userId='136', page='Submit Upgrade', sessionId=855),\n",
       " Row(userId='137', page='Submit Upgrade', sessionId=408),\n",
       " Row(userId='138', page='Submit Upgrade', sessionId=1033),\n",
       " Row(userId='139', page='Submit Upgrade', sessionId=172),\n",
       " Row(userId='140', page='Submit Upgrade', sessionId=492),\n",
       " Row(userId='140', page='Submit Upgrade', sessionId=1056),\n",
       " Row(userId='140', page='Submit Upgrade', sessionId=1681),\n",
       " Row(userId='140', page='Submit Upgrade', sessionId=2097),\n",
       " Row(userId='141', page='Submit Upgrade', sessionId=479),\n",
       " Row(userId='142', page='Submit Upgrade', sessionId=141),\n",
       " Row(userId='147', page='Submit Upgrade', sessionId=1851),\n",
       " Row(userId='152', page='Submit Upgrade', sessionId=1919),\n",
       " Row(userId='153', page='Submit Upgrade', sessionId=1719),\n",
       " Row(userId='155', page='Submit Upgrade', sessionId=1562),\n",
       " Row(userId='16', page='Submit Upgrade', sessionId=185),\n",
       " Row(userId='17', page='Submit Upgrade', sessionId=563),\n",
       " Row(userId='20', page='Submit Upgrade', sessionId=947),\n",
       " Row(userId='20', page='Submit Upgrade', sessionId=1948),\n",
       " Row(userId='200002', page='Submit Upgrade', sessionId=163),\n",
       " Row(userId='200003', page='Submit Upgrade', sessionId=228),\n",
       " Row(userId='200005', page='Submit Upgrade', sessionId=277),\n",
       " Row(userId='200008', page='Submit Upgrade', sessionId=32),\n",
       " Row(userId='200009', page='Submit Upgrade', sessionId=183),\n",
       " Row(userId='200011', page='Submit Upgrade', sessionId=134),\n",
       " Row(userId='200014', page='Submit Upgrade', sessionId=361),\n",
       " Row(userId='200017', page='Submit Upgrade', sessionId=206),\n",
       " Row(userId='200019', page='Submit Upgrade', sessionId=19),\n",
       " Row(userId='200020', page='Submit Upgrade', sessionId=204),\n",
       " Row(userId='200021', page='Submit Upgrade', sessionId=137),\n",
       " Row(userId='200023', page='Submit Upgrade', sessionId=37),\n",
       " Row(userId='200023', page='Submit Upgrade', sessionId=216),\n",
       " Row(userId='200023', page='Submit Upgrade', sessionId=410),\n",
       " Row(userId='200024', page='Submit Upgrade', sessionId=197),\n",
       " Row(userId='200025', page='Submit Upgrade', sessionId=115),\n",
       " Row(userId='200025', page='Submit Upgrade', sessionId=282),\n",
       " Row(userId='23', page='Submit Upgrade', sessionId=2056),\n",
       " Row(userId='24', page='Submit Upgrade', sessionId=1149),\n",
       " Row(userId='25', page='Submit Upgrade', sessionId=2039),\n",
       " Row(userId='26', page='Submit Upgrade', sessionId=2395),\n",
       " Row(userId='28', page='Submit Upgrade', sessionId=1367),\n",
       " Row(userId='29', page='Submit Upgrade', sessionId=589),\n",
       " Row(userId='30', page='Submit Upgrade', sessionId=2244),\n",
       " Row(userId='300001', page='Submit Upgrade', sessionId=1),\n",
       " Row(userId='300002', page='Submit Upgrade', sessionId=43),\n",
       " Row(userId='300002', page='Submit Upgrade', sessionId=224),\n",
       " Row(userId='300004', page='Submit Upgrade', sessionId=27),\n",
       " Row(userId='300005', page='Submit Upgrade', sessionId=30),\n",
       " Row(userId='300006', page='Submit Upgrade', sessionId=410),\n",
       " Row(userId='300009', page='Submit Upgrade', sessionId=9),\n",
       " Row(userId='300011', page='Submit Upgrade', sessionId=54),\n",
       " Row(userId='300011', page='Submit Upgrade', sessionId=412),\n",
       " Row(userId='300012', page='Submit Upgrade', sessionId=74),\n",
       " Row(userId='300014', page='Submit Upgrade', sessionId=61),\n",
       " Row(userId='300015', page='Submit Upgrade', sessionId=15),\n",
       " Row(userId='300015', page='Submit Upgrade', sessionId=109),\n",
       " Row(userId='300016', page='Submit Upgrade', sessionId=16),\n",
       " Row(userId='300018', page='Submit Upgrade', sessionId=127),\n",
       " Row(userId='300019', page='Submit Upgrade', sessionId=42),\n",
       " Row(userId='300021', page='Submit Upgrade', sessionId=144),\n",
       " Row(userId='300023', page='Submit Upgrade', sessionId=479),\n",
       " Row(userId='300025', page='Submit Upgrade', sessionId=63),\n",
       " Row(userId='32', page='Submit Upgrade', sessionId=540),\n",
       " Row(userId='35', page='Submit Upgrade', sessionId=677),\n",
       " Row(userId='35', page='Submit Upgrade', sessionId=1181),\n",
       " Row(userId='36', page='Submit Upgrade', sessionId=1738),\n",
       " Row(userId='37', page='Submit Upgrade', sessionId=893),\n",
       " Row(userId='38', page='Submit Upgrade', sessionId=1196),\n",
       " Row(userId='39', page='Submit Upgrade', sessionId=619),\n",
       " Row(userId='39', page='Submit Upgrade', sessionId=1546),\n",
       " Row(userId='39', page='Submit Upgrade', sessionId=1634),\n",
       " Row(userId='39', page='Submit Upgrade', sessionId=2459),\n",
       " Row(userId='4', page='Submit Upgrade', sessionId=1094),\n",
       " Row(userId='40', page='Submit Upgrade', sessionId=744),\n",
       " Row(userId='42', page='Submit Upgrade', sessionId=543),\n",
       " Row(userId='44', page='Submit Upgrade', sessionId=183),\n",
       " Row(userId='45', page='Submit Upgrade', sessionId=1045),\n",
       " Row(userId='46', page='Submit Upgrade', sessionId=1008),\n",
       " Row(userId='49', page='Submit Upgrade', sessionId=2332),\n",
       " Row(userId='50', page='Submit Upgrade', sessionId=1578),\n",
       " Row(userId='52', page='Submit Upgrade', sessionId=1407),\n",
       " Row(userId='53', page='Submit Upgrade', sessionId=1174),\n",
       " Row(userId='54', page='Submit Upgrade', sessionId=1316),\n",
       " Row(userId='55', page='Submit Upgrade', sessionId=1830),\n",
       " Row(userId='56', page='Submit Upgrade', sessionId=1510),\n",
       " Row(userId='58', page='Submit Upgrade', sessionId=325),\n",
       " Row(userId='59', page='Submit Upgrade', sessionId=455),\n",
       " Row(userId='59', page='Submit Upgrade', sessionId=899),\n",
       " Row(userId='6', page='Submit Upgrade', sessionId=483),\n",
       " Row(userId='60', page='Submit Upgrade', sessionId=59),\n",
       " Row(userId='61', page='Submit Upgrade', sessionId=529),\n",
       " Row(userId='61', page='Submit Upgrade', sessionId=1441),\n",
       " Row(userId='65', page='Submit Upgrade', sessionId=526),\n",
       " Row(userId='66', page='Submit Upgrade', sessionId=1169),\n",
       " Row(userId='67', page='Submit Upgrade', sessionId=791),\n",
       " Row(userId='69', page='Submit Upgrade', sessionId=414),\n",
       " Row(userId='70', page='Submit Upgrade', sessionId=376),\n",
       " Row(userId='71', page='Submit Upgrade', sessionId=1142),\n",
       " Row(userId='73', page='Submit Upgrade', sessionId=72),\n",
       " Row(userId='74', page='Submit Upgrade', sessionId=924),\n",
       " Row(userId='74', page='Submit Upgrade', sessionId=1498),\n",
       " Row(userId='77', page='Submit Upgrade', sessionId=1057),\n",
       " Row(userId='79', page='Submit Upgrade', sessionId=1921),\n",
       " Row(userId='81', page='Submit Upgrade', sessionId=952),\n",
       " Row(userId='82', page='Submit Upgrade', sessionId=1322),\n",
       " Row(userId='83', page='Submit Upgrade', sessionId=1472),\n",
       " Row(userId='85', page='Submit Upgrade', sessionId=654),\n",
       " Row(userId='85', page='Submit Upgrade', sessionId=1098),\n",
       " Row(userId='85', page='Submit Upgrade', sessionId=1303),\n",
       " Row(userId='86', page='Submit Upgrade', sessionId=1855),\n",
       " Row(userId='87', page='Submit Upgrade', sessionId=1036),\n",
       " Row(userId='88', page='Submit Upgrade', sessionId=1065),\n",
       " Row(userId='89', page='Submit Upgrade', sessionId=636),\n",
       " Row(userId='9', page='Submit Upgrade', sessionId=367),\n",
       " Row(userId='9', page='Submit Upgrade', sessionId=1347),\n",
       " Row(userId='91', page='Submit Upgrade', sessionId=693),\n",
       " Row(userId='92', page='Submit Upgrade', sessionId=501),\n",
       " Row(userId='93', page='Submit Upgrade', sessionId=2329),\n",
       " Row(userId='96', page='Submit Upgrade', sessionId=2300),\n",
       " Row(userId='97', page='Submit Upgrade', sessionId=1359),\n",
       " Row(userId='98', page='Submit Upgrade', sessionId=1139),\n",
       " Row(userId='99', page='Submit Upgrade', sessionId=699)]"
      ]
     },
     "execution_count": 29,
     "metadata": {},
     "output_type": "execute_result"
    }
   ],
   "source": [
    "df.select([\"userId\", \"page\", \"sessionId\"\n",
    "           ]).where(df.page == \"Submit Upgrade\").sort([\"userId\"]).collect()"
   ]
  },
  {
   "cell_type": "markdown",
   "metadata": {},
   "source": [
    "## 观察用户使用最多的页面"
   ]
  },
  {
   "cell_type": "code",
   "execution_count": 30,
   "metadata": {
    "scrolled": true
   },
   "outputs": [
    {
     "name": "stdout",
     "output_type": "stream",
     "text": [
      "+--------------------+------+\n",
      "|                Page| count|\n",
      "+--------------------+------+\n",
      "|            NextSong|228108|\n",
      "|           Thumbs Up| 12551|\n",
      "|                Home| 10082|\n",
      "|     Add to Playlist|  6526|\n",
      "|          Add Friend|  4277|\n",
      "|         Roll Advert|  3933|\n",
      "|              Logout|  3226|\n",
      "|         Thumbs Down|  2546|\n",
      "|           Downgrade|  2055|\n",
      "|            Settings|  1514|\n",
      "|                Help|  1454|\n",
      "|             Upgrade|   499|\n",
      "|               About|   495|\n",
      "|       Save Settings|   310|\n",
      "|               Error|   252|\n",
      "|      Submit Upgrade|   159|\n",
      "|    Submit Downgrade|    63|\n",
      "|              Cancel|    52|\n",
      "|Cancellation Conf...|    52|\n",
      "+--------------------+------+\n",
      "\n"
     ]
    }
   ],
   "source": [
    "df.groupBy('Page').count().sort(\"count\", ascending=False).show()"
   ]
  },
  {
   "cell_type": "markdown",
   "metadata": {},
   "source": [
    "## 用户流失在不同性别的分布"
   ]
  },
  {
   "cell_type": "code",
   "execution_count": 31,
   "metadata": {},
   "outputs": [
    {
     "data": {
      "text/plain": [
       "<matplotlib.axes._subplots.AxesSubplot at 0x7fd1d58f2710>"
      ]
     },
     "execution_count": 31,
     "metadata": {},
     "output_type": "execute_result"
    },
    {
     "data": {
      "image/png": "[encoded data removed]",
      "text/plain": [
       "<matplotlib.figure.Figure at 0x7fd1d58f2a90>"
      ]
     },
     "metadata": {
      "needs_background": "light"
     },
     "output_type": "display_data"
    }
   ],
   "source": [
    "df_pd = df.dropDuplicates([\"userId\", \"gender\"\n",
    "                           ]).groupby([\"Churn\", \"gender\"\n",
    "                                       ]).count().sort(\"Churn\").toPandas()\n",
    "sns.barplot(x='Churn', y='count', hue='gender', data=df_pd)\n",
    "#1 male,paid 1,Churn 1"
   ]
  },
  {
   "cell_type": "markdown",
   "metadata": {},
   "source": [
    "## 用户流失在不同会员等级的分布"
   ]
  },
  {
   "cell_type": "code",
   "execution_count": 32,
   "metadata": {
    "scrolled": true
   },
   "outputs": [
    {
     "data": {
      "text/plain": [
       "<matplotlib.axes._subplots.AxesSubplot at 0x7fd1d58add68>"
      ]
     },
     "execution_count": 32,
     "metadata": {},
     "output_type": "execute_result"
    },
    {
     "data": {
      "image/png": "[encoded data removed]",
      "text/plain": [
       "<matplotlib.figure.Figure at 0x7fd1d58936a0>"
      ]
     },
     "metadata": {
      "needs_background": "light"
     },
     "output_type": "display_data"
    }
   ],
   "source": [
    "df_pd = df.dropDuplicates([\"userId\", \"level\"\n",
    "                           ]).groupby([\"Churn\", \"level\"\n",
    "                                       ]).count().sort(\"Churn\").toPandas()\n",
    "sns.barplot(x='Churn', y='count', hue='level', data=df_pd)"
   ]
  },
  {
   "cell_type": "code",
   "execution_count": null,
   "metadata": {},
   "outputs": [],
   "source": [
    "df.groupBy(['churn', 'userAgent']).count().where(df['churn'] == 0).sort(\n",
    "    col('count').desc()).show(5)\n",
    "df.groupBy(['churn', 'userAgent']).count().where(df['churn'] == 1).sort(\n",
    "    col('count').desc()).show(5)"
   ]
  },
  {
   "cell_type": "markdown",
   "metadata": {},
   "source": [
    "## 用户流失最多的地区"
   ]
  },
  {
   "cell_type": "code",
   "execution_count": 33,
   "metadata": {},
   "outputs": [
    {
     "name": "stdout",
     "output_type": "stream",
     "text": [
      "+--------------------+-----+-----+\n",
      "|            location|Churn|count|\n",
      "+--------------------+-----+-----+\n",
      "|New York-Newark-J...|    1|    5|\n",
      "|Los Angeles-Long ...|    1|    3|\n",
      "|Philadelphia-Camd...|    1|    2|\n",
      "|Phoenix-Mesa-Scot...|    1|    2|\n",
      "|Spokane-Spokane V...|    1|    2|\n",
      "|Miami-Fort Lauder...|    1|    2|\n",
      "|           Flint, MI|    1|    2|\n",
      "|         Jackson, MS|    1|    2|\n",
      "|Greenville-Anders...|    1|    1|\n",
      "|Indianapolis-Carm...|    1|    1|\n",
      "+--------------------+-----+-----+\n",
      "only showing top 10 rows\n",
      "\n"
     ]
    }
   ],
   "source": [
    "df.select(\"userId\", \"Churn\", \"location\").dropDuplicates().groupby(\n",
    "    [\"location\", \"Churn\"]).count().sort([\"Churn\", \"count\"],\n",
    "                                        ascending=False).show(10)"
   ]
  },
  {
   "cell_type": "markdown",
   "metadata": {},
   "source": [
    "## 流失用户的每次登陆页面操作数"
   ]
  },
  {
   "cell_type": "code",
   "execution_count": 34,
   "metadata": {},
   "outputs": [
    {
     "name": "stdout",
     "output_type": "stream",
     "text": [
      "+-----+-----------------------+\n",
      "|churn|avg(avg(itemInSession))|\n",
      "+-----+-----------------------+\n",
      "|    1|      72.39591226205863|\n",
      "|    0|      89.13463393625388|\n",
      "+-----+-----------------------+\n",
      "\n"
     ]
    }
   ],
   "source": [
    "df.groupBy([\n",
    "    'userId', 'churn'\n",
    "]).avg('itemInSession').groupBy('churn').avg('avg(itemInSession)').show()"
   ]
  },
  {
   "cell_type": "markdown",
   "metadata": {},
   "source": [
    "## 用户在线时段观察"
   ]
  },
  {
   "cell_type": "code",
   "execution_count": 35,
   "metadata": {},
   "outputs": [],
   "source": [
    "def plot_cnt_by_churn(time):\n",
    "    \"\"\"\n",
    "    此函数用来绘制频率分布的直方图\n",
    "    \"\"\"\n",
    "    df_pd = df.filter(df.page == \"NextSong\").groupby(\n",
    "        \"churn\", time).count().orderBy(df[time].cast(\"float\")).toPandas()\n",
    "    df_pd[time] = pd.to_numeric(df_pd[time])\n",
    "    df_pd[df_pd.churn == 0].plot.bar(x=time,\n",
    "                                     y='count',\n",
    "                                     color='burlywood',\n",
    "                                     label='Not churn')\n",
    "    df_pd[df_pd.churn == 1].plot.bar(x=time,\n",
    "                                     y='count',\n",
    "                                     color='lightseagreen',\n",
    "                                     label='Churn')"
   ]
  },
  {
   "cell_type": "code",
   "execution_count": 36,
   "metadata": {},
   "outputs": [
    {
     "data": {
      "image/png": "[encoded data removed]",
      "text/plain": [
       "<matplotlib.figure.Figure at 0x7fd1d574e4a8>"
      ]
     },
     "metadata": {
      "needs_background": "light"
     },
     "output_type": "display_data"
    },
    {
     "data": {
      "image/png": "[encoded data removed]",
      "text/plain": [
       "<matplotlib.figure.Figure at 0x7fd1d56a78d0>"
      ]
     },
     "metadata": {
      "needs_background": "light"
     },
     "output_type": "display_data"
    }
   ],
   "source": [
    "plot_cnt_by_churn(\"hour\")"
   ]
  },
  {
   "cell_type": "code",
   "execution_count": 37,
   "metadata": {},
   "outputs": [
    {
     "data": {
      "image/png": "[encoded data removed]",
      "text/plain": [
       "<matplotlib.figure.Figure at 0x7fd1d57253c8>"
      ]
     },
     "metadata": {
      "needs_background": "light"
     },
     "output_type": "display_data"
    },
    {
     "data": {
      "image/png": "[encoded data removed]",
      "text/plain": [
       "<matplotlib.figure.Figure at 0x7fd1d55bf7b8>"
      ]
     },
     "metadata": {
      "needs_background": "light"
     },
     "output_type": "display_data"
    }
   ],
   "source": [
    "plot_cnt_by_churn(\"weekday\")"
   ]
  },
  {
   "cell_type": "code",
   "execution_count": 38,
   "metadata": {},
   "outputs": [
    {
     "data": {
      "image/png": "[encoded data removed]",
      "text/plain": [
       "<matplotlib.figure.Figure at 0x7fd1d550d0f0>"
      ]
     },
     "metadata": {
      "needs_background": "light"
     },
     "output_type": "display_data"
    },
    {
     "data": {
      "image/png": "[encoded data removed]",
      "text/plain": [
       "<matplotlib.figure.Figure at 0x7fd1d53cba20>"
      ]
     },
     "metadata": {
      "needs_background": "light"
     },
     "output_type": "display_data"
    }
   ],
   "source": [
    "plot_cnt_by_churn(\"day\")"
   ]
  },
  {
   "cell_type": "markdown",
   "metadata": {},
   "source": [
    "# 特征工程"
   ]
  },
  {
   "cell_type": "markdown",
   "metadata": {},
   "source": [
    "## 每个用户相关关键页面操作累计和"
   ]
  },
  {
   "cell_type": "code",
   "execution_count": 39,
   "metadata": {},
   "outputs": [],
   "source": [
    "# for thepage in [\"Help\",\"Error\",\"Upgrade\",\"SubmitUpgrade\",\"Downgrade\",\"SubmitDowngrade\",\"Cancel\"]:\n",
    "df_Help=df.select('userID','page')\\\n",
    ".where(df.page == 'Help')\\\n",
    ".groupBy('userID')\\\n",
    ".agg({'page':'count'})\\\n",
    ".withColumnRenamed('count(page)', 'num_Help')\n",
    "\n",
    "df_Error=df.select('userID','page')\\\n",
    ".where(df.page == 'Error')\\\n",
    ".groupBy('userID')\\\n",
    ".agg({'page':'count'})\\\n",
    ".withColumnRenamed('count(page)', 'num_Error')\n",
    "\n",
    "df_Upgrade=df.select('userID','page')\\\n",
    ".where(df.page == 'Upgrade')\\\n",
    ".groupBy('userID')\\\n",
    ".agg({'page':'count'})\\\n",
    ".withColumnRenamed('count(page)', 'num_Upgrade')\n",
    "\n",
    "df_SubmitUpgrade=df.select('userID','page')\\\n",
    ".where(df.page == 'Submit Upgrade')\\\n",
    ".groupBy('userID')\\\n",
    ".agg({'page':'count'})\\\n",
    ".withColumnRenamed('count(page)', 'num_SubmitUpgrade')\n",
    "\n",
    "df_Downgrade=df.select('userID','page')\\\n",
    ".where(df.page == 'Downgrade')\\\n",
    ".groupBy('userID')\\\n",
    ".agg({'page':'count'})\\\n",
    ".withColumnRenamed('count(page)', 'num_Downgrade')\n",
    "\n",
    "df_SubmitDowngrade=df.select('userID','page')\\\n",
    ".where(df.page == 'Submit Downgrade')\\\n",
    ".groupBy('userID')\\\n",
    ".agg({'page':'count'})\\\n",
    ".withColumnRenamed('count(page)', 'SubmitDowngrade')"
   ]
  },
  {
   "cell_type": "code",
   "execution_count": 40,
   "metadata": {},
   "outputs": [
    {
     "name": "stdout",
     "output_type": "stream",
     "text": [
      "+------+---------------+\n",
      "|userID|SubmitDowngrade|\n",
      "+------+---------------+\n",
      "|    54|              1|\n",
      "|    11|              1|\n",
      "|    30|              1|\n",
      "|    59|              1|\n",
      "|    85|              2|\n",
      "|    35|              2|\n",
      "|100008|              1|\n",
      "|100025|              1|\n",
      "|300002|              1|\n",
      "|    96|              1|\n",
      "|   100|              1|\n",
      "|    61|              2|\n",
      "|   131|              2|\n",
      "|   140|              3|\n",
      "|300004|              1|\n",
      "|300015|              1|\n",
      "|    77|              1|\n",
      "|100009|              1|\n",
      "|300011|              1|\n",
      "|100004|              2|\n",
      "+------+---------------+\n",
      "only showing top 20 rows\n",
      "\n"
     ]
    }
   ],
   "source": [
    "df_SubmitDowngrade.show()"
   ]
  },
  {
   "cell_type": "markdown",
   "metadata": {},
   "source": [
    "## 用户累计参与度"
   ]
  },
  {
   "cell_type": "code",
   "execution_count": 41,
   "metadata": {},
   "outputs": [],
   "source": [
    "df_Add_to_Playlist=df.select('userID','page')\\\n",
    ".where(df.page == 'Add to Playlist')\\\n",
    ".groupBy('userID')\\\n",
    ".agg({'page':'count'})\\\n",
    ".withColumnRenamed('count(page)', 'num_Add_to_Playlist')\n",
    "\n",
    "df_Add_Friend=df.select('userID','page')\\\n",
    ".where(df.page == 'Add Friend')\\\n",
    ".groupBy('userID')\\\n",
    ".agg({'page':'count'})\\\n",
    ".withColumnRenamed('count(page)', 'num_Add_Friend')"
   ]
  },
  {
   "cell_type": "code",
   "execution_count": 42,
   "metadata": {},
   "outputs": [
    {
     "name": "stdout",
     "output_type": "stream",
     "text": [
      "+------+--------------+\n",
      "|userID|num_Add_Friend|\n",
      "+------+--------------+\n",
      "|100010|             4|\n",
      "|200002|             4|\n",
      "|    51|            28|\n",
      "|   124|            74|\n",
      "|     7|             1|\n",
      "|    54|            33|\n",
      "|    15|            31|\n",
      "|   155|            11|\n",
      "|   132|            41|\n",
      "|   154|             3|\n",
      "|100014|             6|\n",
      "|   101|            29|\n",
      "|    11|             6|\n",
      "|   138|            41|\n",
      "|300017|            63|\n",
      "|    29|            47|\n",
      "|    69|            12|\n",
      "|100021|             7|\n",
      "|    42|            52|\n",
      "|   112|             7|\n",
      "+------+--------------+\n",
      "only showing top 20 rows\n",
      "\n"
     ]
    }
   ],
   "source": [
    "df_Add_Friend.show()"
   ]
  },
  {
   "cell_type": "code",
   "execution_count": 43,
   "metadata": {},
   "outputs": [
    {
     "name": "stdout",
     "output_type": "stream",
     "text": [
      "+------+-------------------+\n",
      "|userID|num_Add_to_Playlist|\n",
      "+------+-------------------+\n",
      "|100010|                  7|\n",
      "|200002|                  8|\n",
      "|    51|                 52|\n",
      "|   124|                118|\n",
      "|     7|                  5|\n",
      "|    15|                 59|\n",
      "|    54|                 72|\n",
      "|   155|                 24|\n",
      "|   132|                 38|\n",
      "|   154|                  1|\n",
      "|100014|                  7|\n",
      "|   101|                 61|\n",
      "|    11|                 20|\n",
      "|   138|                 67|\n",
      "|300017|                113|\n",
      "|    29|                 89|\n",
      "|    69|                 33|\n",
      "|100021|                  7|\n",
      "|    42|                104|\n",
      "|   112|                  7|\n",
      "+------+-------------------+\n",
      "only showing top 20 rows\n",
      "\n"
     ]
    }
   ],
   "source": [
    "df_Add_to_Playlist.show()"
   ]
  },
  {
   "cell_type": "markdown",
   "metadata": {},
   "source": [
    "## 每个SessionId的统计指标"
   ]
  },
  {
   "cell_type": "code",
   "execution_count": 44,
   "metadata": {},
   "outputs": [],
   "source": [
    "user_session_time = df.select(\"userId\", \"sessionId\", \"ts\").groupby(\n",
    "    \"userId\", \"sessionId\").agg(\n",
    "        ((max(df.ts) - min(df.ts)) / (1000 * 60)).alias(\"sessionTime\"))\n",
    "user_session_time_stat = user_session_time.groupby(\"userId\").agg(\n",
    "    avg(user_session_time.sessionTime).alias(\"avgSessionTime\"),\n",
    "    min(user_session_time.sessionTime).alias(\"minSessionTime\"),\n",
    "    max(user_session_time.sessionTime).alias(\"maxSessionTime\")).sort(\"userId\")"
   ]
  },
  {
   "cell_type": "code",
   "execution_count": 45,
   "metadata": {},
   "outputs": [
    {
     "name": "stdout",
     "output_type": "stream",
     "text": [
      "+------+------------------+-------------------+------------------+\n",
      "|userId|    avgSessionTime|     minSessionTime|    maxSessionTime|\n",
      "+------+------------------+-------------------+------------------+\n",
      "|    10|459.74722222222226|  91.41666666666667|1547.9166666666667|\n",
      "|   100| 316.5190476190476|                0.0|1019.5833333333334|\n",
      "|100001|148.15833333333333|               63.0|215.28333333333333|\n",
      "|100002|201.18333333333334|                0.0| 730.4666666666667|\n",
      "|100003| 99.11666666666667|  3.216666666666667|195.01666666666668|\n",
      "|100004|185.98650793650793|                0.0| 940.2166666666667|\n",
      "|100005|120.18666666666668|                0.0|209.21666666666667|\n",
      "|100006| 93.43333333333334|  93.43333333333334| 93.43333333333334|\n",
      "|100007|189.41111111111113|                8.9| 675.6333333333333|\n",
      "|100008| 528.2527777777779|              57.05|            2024.4|\n",
      "|100009|211.96166666666667|  4.516666666666667| 666.3333333333334|\n",
      "|100010|154.48333333333332|              22.55|             323.0|\n",
      "|100011| 44.38333333333333|  44.38333333333333| 44.38333333333333|\n",
      "|100012|271.43809523809523|                0.0| 729.4166666666666|\n",
      "|100013|329.99880952380954|                0.0| 858.8166666666667|\n",
      "|100014| 184.8138888888889|               3.45|            281.75|\n",
      "|100015|278.59444444444443| 1.4833333333333334| 570.9333333333333|\n",
      "|100016|265.40416666666664|               53.1|1049.4833333333333|\n",
      "|100017|199.26666666666668| 199.26666666666668|199.26666666666668|\n",
      "|100018|193.18730158730162|0.03333333333333333| 940.1666666666666|\n",
      "+------+------------------+-------------------+------------------+\n",
      "only showing top 20 rows\n",
      "\n"
     ]
    }
   ],
   "source": [
    "user_session_time_stat.show()"
   ]
  },
  {
   "cell_type": "code",
   "execution_count": 46,
   "metadata": {},
   "outputs": [],
   "source": [
    "user_session_song = df.select(\"userId\", \"sessionId\", \"song\",\n",
    "                              \"page\").filter(df.page == \"NextSong\").groupby(\n",
    "                                  \"userId\", \"sessionId\").agg(\n",
    "                                      count(df.song).alias(\"sessionSong\"))\n",
    "user_session_song_stat = user_session_song.groupby(\"userId\").agg(\n",
    "    avg(user_session_song.sessionSong).alias(\"avgSessionSong\")).sort(\"userId\")"
   ]
  },
  {
   "cell_type": "code",
   "execution_count": 47,
   "metadata": {},
   "outputs": [
    {
     "name": "stdout",
     "output_type": "stream",
     "text": [
      "+------+------------------+\n",
      "|userId|    avgSessionSong|\n",
      "+------+------------------+\n",
      "|    10|112.16666666666667|\n",
      "|   100| 78.88235294117646|\n",
      "|100001|             33.25|\n",
      "|100002|             48.75|\n",
      "|100003|              25.5|\n",
      "|100004|              47.1|\n",
      "|100005|              38.5|\n",
      "|100006|              26.0|\n",
      "|100007|              47.0|\n",
      "|100008|128.66666666666666|\n",
      "|100009|              51.8|\n",
      "|100010|39.285714285714285|\n",
      "|100011|              11.0|\n",
      "|100012| 79.33333333333333|\n",
      "|100013|              87.0|\n",
      "|100014|42.833333333333336|\n",
      "|100015| 66.66666666666667|\n",
      "|100016|             66.25|\n",
      "|100017|              52.0|\n",
      "|100018|              50.1|\n",
      "+------+------------------+\n",
      "only showing top 20 rows\n",
      "\n"
     ]
    }
   ],
   "source": [
    "user_session_song_stat.show()"
   ]
  },
  {
   "cell_type": "code",
   "execution_count": 48,
   "metadata": {},
   "outputs": [],
   "source": [
    "user_session_Thumbs_Up = df.select(\n",
    "    \"userId\", \"sessionId\", \"page\").filter(df.page == \"Thumbs Up\").groupby(\n",
    "        \"userId\", \"sessionId\").agg(count(df.page).alias(\"sessionThumbs_Up\"))\n",
    "user_session_Thumbs_Up_stat = user_session_Thumbs_Up.groupby(\"userId\").agg(\n",
    "    avg(user_session_Thumbs_Up.sessionThumbs_Up).alias(\n",
    "        \"avgSessionThumbs_Up\")).sort(\"userId\")"
   ]
  },
  {
   "cell_type": "code",
   "execution_count": 49,
   "metadata": {},
   "outputs": [
    {
     "name": "stdout",
     "output_type": "stream",
     "text": [
      "+------+-------------------+\n",
      "|userId|avgSessionThumbs_Up|\n",
      "+------+-------------------+\n",
      "|    10|  6.166666666666667|\n",
      "|   100|  4.933333333333334|\n",
      "|100001| 2.6666666666666665|\n",
      "|100002|                2.5|\n",
      "|100003|                3.0|\n",
      "|100004| 2.6923076923076925|\n",
      "|100005| 2.3333333333333335|\n",
      "|100006|                2.0|\n",
      "|100007| 3.1666666666666665|\n",
      "|100008|                7.4|\n",
      "|100009|              2.875|\n",
      "|100010| 2.8333333333333335|\n",
      "|100012|                3.6|\n",
      "|100013| 3.5454545454545454|\n",
      "|100014|                3.4|\n",
      "|100015|                3.5|\n",
      "|100016| 3.5714285714285716|\n",
      "|100017|                2.0|\n",
      "|100018| 3.5384615384615383|\n",
      "|100019|                1.0|\n",
      "+------+-------------------+\n",
      "only showing top 20 rows\n",
      "\n"
     ]
    }
   ],
   "source": [
    "user_session_Thumbs_Up_stat.show()"
   ]
  },
  {
   "cell_type": "code",
   "execution_count": 50,
   "metadata": {},
   "outputs": [],
   "source": [
    "user_session_Thumbs_Down = df.select(\n",
    "    \"userId\", \"sessionId\", \"page\").filter(df.page == \"Thumbs Down\").groupby(\n",
    "        \"userId\", \"sessionId\").agg(count(df.page).alias(\"sessionThumbs_Down\"))\n",
    "user_session_Thumbs_Down_stat = user_session_Thumbs_Down.groupby(\"userId\").agg(\n",
    "    avg(user_session_Thumbs_Down.sessionThumbs_Down).alias(\n",
    "        \"avgSessionThumbs_Down\")).sort(\"userId\")"
   ]
  },
  {
   "cell_type": "code",
   "execution_count": 51,
   "metadata": {},
   "outputs": [
    {
     "name": "stdout",
     "output_type": "stream",
     "text": [
      "+------+---------------------+\n",
      "|userId|avgSessionThumbs_Down|\n",
      "+------+---------------------+\n",
      "|    10|                  4.0|\n",
      "|   100|   2.4545454545454546|\n",
      "|100001|                  1.0|\n",
      "|100004|   1.5714285714285714|\n",
      "|100005|                  1.5|\n",
      "|100006|                  2.0|\n",
      "|100007|                  2.0|\n",
      "|100008|                  2.0|\n",
      "|100009|                  2.0|\n",
      "|100010|                 1.25|\n",
      "|100011|                  1.0|\n",
      "|100012|                 2.25|\n",
      "|100013|                  2.5|\n",
      "|100014|                  1.0|\n",
      "|100015|                  1.6|\n",
      "|100016|                 1.25|\n",
      "|100017|                  1.0|\n",
      "|100018|                  1.5|\n",
      "|100019|                  1.0|\n",
      "|100021|   1.6666666666666667|\n",
      "+------+---------------------+\n",
      "only showing top 20 rows\n",
      "\n"
     ]
    }
   ],
   "source": [
    "user_session_Thumbs_Down_stat.show()"
   ]
  },
  {
   "cell_type": "code",
   "execution_count": 52,
   "metadata": {},
   "outputs": [],
   "source": [
    "user_session_Roll_Advert = df.select(\n",
    "    \"userId\", \"sessionId\", \"page\").filter(df.page == \"Roll Advert\").groupby(\n",
    "        \"userId\", \"sessionId\").agg(count(df.page).alias(\"sessionRoll_Advert\"))\n",
    "user_session_Roll_Advert_stat = user_session_Roll_Advert.groupby(\"userId\").agg(\n",
    "    avg(user_session_Roll_Advert.sessionRoll_Advert).alias(\n",
    "        \"avgSessionRoll_Advert\")).sort(\"userId\")"
   ]
  },
  {
   "cell_type": "code",
   "execution_count": 53,
   "metadata": {},
   "outputs": [
    {
     "name": "stdout",
     "output_type": "stream",
     "text": [
      "+------+---------------------+\n",
      "|userId|avgSessionRoll_Advert|\n",
      "+------+---------------------+\n",
      "|    10|                  1.0|\n",
      "|   100|   3.5714285714285716|\n",
      "|100001|                  3.5|\n",
      "|100002|                  1.5|\n",
      "|100003|                  9.0|\n",
      "|100004|    6.615384615384615|\n",
      "|100005|                  4.5|\n",
      "|100006|                  3.0|\n",
      "|100007|                  1.0|\n",
      "|100008|    6.666666666666667|\n",
      "|100009|                 5.25|\n",
      "|100010|    8.666666666666666|\n",
      "|100011|                  2.0|\n",
      "|100012|    6.333333333333333|\n",
      "|100013|                4.875|\n",
      "|100014|                  1.0|\n",
      "|100015|                  6.9|\n",
      "|100016|                  4.0|\n",
      "|100017|                 14.0|\n",
      "|100018|     8.88888888888889|\n",
      "+------+---------------------+\n",
      "only showing top 20 rows\n",
      "\n"
     ]
    }
   ],
   "source": [
    "user_session_Roll_Advert_stat.show()"
   ]
  },
  {
   "cell_type": "markdown",
   "metadata": {},
   "source": [
    "## 用户听歌曲的丰富度"
   ]
  },
  {
   "cell_type": "code",
   "execution_count": 54,
   "metadata": {},
   "outputs": [],
   "source": [
    "user_song_count = df.select(\n",
    "    \"userId\", \"song\").dropDuplicates().groupby(\"userId\").agg(\n",
    "        count(df.song).alias(\"userSongCount\")).sort(\"userId\")"
   ]
  },
  {
   "cell_type": "code",
   "execution_count": 55,
   "metadata": {},
   "outputs": [],
   "source": [
    "user_artist_count = df.select(\n",
    "    \"userId\", \"artist\").dropDuplicates().groupby(\"userId\").agg(\n",
    "        count(df.artist).alias(\"userArtistCount\")).sort(\"userId\")"
   ]
  },
  {
   "cell_type": "code",
   "execution_count": 56,
   "metadata": {},
   "outputs": [
    {
     "name": "stdout",
     "output_type": "stream",
     "text": [
      "+------+-------------+\n",
      "|userId|userSongCount|\n",
      "+------+-------------+\n",
      "|    10|          629|\n",
      "|   100|         2302|\n",
      "|100001|          129|\n",
      "|100002|          193|\n",
      "|100003|           51|\n",
      "|100004|          881|\n",
      "|100005|          153|\n",
      "|100006|           26|\n",
      "|100007|          408|\n",
      "|100008|          723|\n",
      "|100009|          501|\n",
      "|100010|          269|\n",
      "|100011|           11|\n",
      "|100012|          453|\n",
      "|100013|         1041|\n",
      "|100014|          248|\n",
      "|100015|          755|\n",
      "|100016|          493|\n",
      "|100017|           51|\n",
      "|100018|          942|\n",
      "+------+-------------+\n",
      "only showing top 20 rows\n",
      "\n"
     ]
    }
   ],
   "source": [
    "user_song_count.show(20)"
   ]
  },
  {
   "cell_type": "code",
   "execution_count": 57,
   "metadata": {},
   "outputs": [
    {
     "name": "stdout",
     "output_type": "stream",
     "text": [
      "+------+---------------+\n",
      "|userId|userArtistCount|\n",
      "+------+---------------+\n",
      "|    10|            565|\n",
      "|   100|           1705|\n",
      "|100001|            125|\n",
      "|100002|            184|\n",
      "|100003|             50|\n",
      "|100004|            733|\n",
      "|100005|            149|\n",
      "|100006|             26|\n",
      "|100007|            357|\n",
      "|100008|            623|\n",
      "|100009|            442|\n",
      "|100010|            252|\n",
      "|100011|             11|\n",
      "|100012|            397|\n",
      "|100013|            826|\n",
      "|100014|            233|\n",
      "|100015|            627|\n",
      "|100016|            431|\n",
      "|100017|             51|\n",
      "|100018|            780|\n",
      "+------+---------------+\n",
      "only showing top 20 rows\n",
      "\n"
     ]
    }
   ],
   "source": [
    "user_artist_count.show(20)"
   ]
  },
  {
   "cell_type": "markdown",
   "metadata": {},
   "source": [
    "## 用户付费周期的特征分布（付费天数、免费天数）"
   ]
  },
  {
   "cell_type": "code",
   "execution_count": 58,
   "metadata": {},
   "outputs": [],
   "source": [
    "user_max_ts = df.groupby(\"userId\").max(\"ts\").sort(\"userId\")\n",
    "user_reg_ts = df.select(\"userId\",\n",
    "                        \"registration\").dropDuplicates().sort(\"userId\")\n",
    "user_reg_days = user_reg_ts.join(\n",
    "    user_max_ts, user_reg_ts.userId == user_max_ts.userId).select(\n",
    "        user_reg_ts[\"userId\"],\n",
    "        ((user_max_ts[\"max(ts)\"] - user_reg_ts[\"registration\"]) /\n",
    "         (1000 * 60 * 60 * 24)).alias(\"regDay\"))"
   ]
  },
  {
   "cell_type": "code",
   "execution_count": 59,
   "metadata": {},
   "outputs": [
    {
     "name": "stdout",
     "output_type": "stream",
     "text": [
      "+------+------------------+\n",
      "|userId|            regDay|\n",
      "+------+------------------+\n",
      "|100010| 55.64365740740741|\n",
      "|200002| 70.07462962962963|\n",
      "|   125| 71.31688657407408|\n",
      "|   124|131.55591435185184|\n",
      "|    51|19.455844907407407|\n",
      "|     7| 72.77818287037037|\n",
      "|    15|56.513576388888886|\n",
      "|    54|110.75168981481481|\n",
      "|   155|23.556018518518517|\n",
      "|100014| 85.08340277777778|\n",
      "|   132|  66.8891087962963|\n",
      "|   154|23.872037037037035|\n",
      "|   101|        53.9659375|\n",
      "|    11|124.47825231481481|\n",
      "|   138| 66.62668981481481|\n",
      "|300017| 74.35851851851852|\n",
      "|100021| 64.73886574074074|\n",
      "|    29|60.104050925925925|\n",
      "|    69| 71.42444444444445|\n",
      "|   112| 87.46262731481481|\n",
      "+------+------------------+\n",
      "only showing top 20 rows\n",
      "\n"
     ]
    }
   ],
   "source": [
    "user_reg_days.show()"
   ]
  },
  {
   "cell_type": "code",
   "execution_count": 60,
   "metadata": {},
   "outputs": [
    {
     "name": "stdout",
     "output_type": "stream",
     "text": [
      "+------+-------------------+\n",
      "|userID|         user_paied|\n",
      "+------+-------------------+\n",
      "|100010|                0.0|\n",
      "|200002| 0.7468354430379747|\n",
      "|   125|                0.0|\n",
      "|    51|                1.0|\n",
      "|   124|                1.0|\n",
      "|     7|                0.0|\n",
      "|    54| 0.8318300843759092|\n",
      "|    15|                1.0|\n",
      "|   155| 0.8562874251497006|\n",
      "|   132| 0.9852430555555556|\n",
      "|   154|                0.0|\n",
      "|100014|                1.0|\n",
      "|   101| 0.9646347138203816|\n",
      "|    11|0.27004716981132076|\n",
      "|   138| 0.8938841636289996|\n",
      "|300017|                1.0|\n",
      "|    29| 0.8917568692756037|\n",
      "|    69| 0.9709388971684053|\n",
      "|100021|                0.0|\n",
      "|    42| 0.9696969696969697|\n",
      "+------+-------------------+\n",
      "only showing top 20 rows\n",
      "\n"
     ]
    }
   ],
   "source": [
    "df.createOrReplaceTempView(\"df_view\")\n",
    "user_paied_day = spark.sql(\n",
    "    \"SELECT userID, SUM(level)/count(level) AS user_paied FROM df_view GROUP BY userID\"\n",
    ")\n",
    "user_paied_day.show()"
   ]
  },
  {
   "cell_type": "markdown",
   "metadata": {},
   "source": [
    "## 用户平均每日登陆次数"
   ]
  },
  {
   "cell_type": "code",
   "execution_count": 61,
   "metadata": {},
   "outputs": [],
   "source": [
    "user_session_count = df.select(\n",
    "    \"userId\", \"sessionId\").dropDuplicates().groupby(\"userId\").count()\n",
    "user_session_count = user_session_count.withColumnRenamed(\n",
    "    \"count\", \"sessionCount\")\n",
    "user_session_count = user_session_count.join(\n",
    "    user_reg_days, user_session_count.userId == user_reg_days.userId).select(\n",
    "        user_session_count[\"userId\"],\n",
    "        (user_reg_days[\"regDay\"] /\n",
    "         user_session_count[\"sessionCount\"]).alias(\"SessionOfday\"))"
   ]
  },
  {
   "cell_type": "code",
   "execution_count": 62,
   "metadata": {},
   "outputs": [
    {
     "name": "stdout",
     "output_type": "stream",
     "text": [
      "+------+------------------+\n",
      "|userId|      SessionOfday|\n",
      "+------+------------------+\n",
      "|100010| 7.949093915343916|\n",
      "|200002|11.679104938271605|\n",
      "|   125| 71.31688657407408|\n",
      "|   124| 4.536410839719029|\n",
      "|    51|1.9455844907407407|\n",
      "|     7|10.396883267195767|\n",
      "|    15|3.7675717592592592|\n",
      "|    54|2.9932889139139136|\n",
      "|   155| 3.926003086419753|\n",
      "|100014| 14.18056712962963|\n",
      "|   132| 4.180569299768519|\n",
      "|   154| 7.957345679012345|\n",
      "|   101|        5.39659375|\n",
      "|    11| 7.779890769675926|\n",
      "|   138| 4.441779320987654|\n",
      "|300017|1.1802939447383893|\n",
      "|100021|12.947773148148148|\n",
      "|    29|1.7677662037037036|\n",
      "|    69|  7.93604938271605|\n",
      "|   112| 8.746262731481481|\n",
      "+------+------------------+\n",
      "only showing top 20 rows\n",
      "\n"
     ]
    }
   ],
   "source": [
    "user_session_count.show()"
   ]
  },
  {
   "cell_type": "markdown",
   "metadata": {},
   "source": [
    "## 目前的level"
   ]
  },
  {
   "cell_type": "code",
   "execution_count": 63,
   "metadata": {},
   "outputs": [],
   "source": [
    "user_login = df.select(\"userId\", \"ts\", \"level\").groupby(\"userId\").agg(\n",
    "    max(df.ts).alias(\"finalTime\")).sort(\"userId\")\n",
    "user_recent_level_time = df.select(\"userId\", \"ts\", \"level\")\n",
    "user_recent_level = user_recent_level_time.join(user_login, [\n",
    "    user_login.userId == user_recent_level_time.userId,\n",
    "    user_recent_level_time.ts == user_login.finalTime\n",
    "]).select(user_login.userId, \"level\").sort(\"userId\")"
   ]
  },
  {
   "cell_type": "code",
   "execution_count": 64,
   "metadata": {},
   "outputs": [
    {
     "name": "stdout",
     "output_type": "stream",
     "text": [
      "+------+-------------+\n",
      "|userId|    finalTime|\n",
      "+------+-------------+\n",
      "|    10|1542631788000|\n",
      "|   100|1543587349000|\n",
      "|100001|1538498205000|\n",
      "|100002|1543799476000|\n",
      "|100003|1539274781000|\n",
      "|100004|1543459065000|\n",
      "|100005|1539971825000|\n",
      "|100006|1538753070000|\n",
      "|100007|1543491909000|\n",
      "|100008|1543335219000|\n",
      "|100009|1540611104000|\n",
      "|100010|1542823952000|\n",
      "|100011|1538417085000|\n",
      "|100012|1541100900000|\n",
      "|100013|1541184816000|\n",
      "|100014|1542740649000|\n",
      "|100015|1543073753000|\n",
      "|100016|1543335647000|\n",
      "|100017|1540062847000|\n",
      "|100018|1543378360000|\n",
      "+------+-------------+\n",
      "only showing top 20 rows\n",
      "\n"
     ]
    }
   ],
   "source": [
    "user_login.show()"
   ]
  },
  {
   "cell_type": "code",
   "execution_count": 65,
   "metadata": {},
   "outputs": [
    {
     "name": "stdout",
     "output_type": "stream",
     "text": [
      "+------+-------------+-----+\n",
      "|userId|           ts|level|\n",
      "+------+-------------+-----+\n",
      "|    30|1538352117000|    1|\n",
      "|     9|1538352180000|    0|\n",
      "|    30|1538352394000|    1|\n",
      "|     9|1538352416000|    0|\n",
      "|    30|1538352676000|    1|\n",
      "|     9|1538352678000|    0|\n",
      "|     9|1538352886000|    0|\n",
      "|    30|1538352899000|    1|\n",
      "|    30|1538352905000|    1|\n",
      "|    30|1538353084000|    1|\n",
      "|     9|1538353146000|    0|\n",
      "|     9|1538353150000|    0|\n",
      "|    30|1538353218000|    1|\n",
      "|     9|1538353375000|    0|\n",
      "|     9|1538353376000|    0|\n",
      "|    30|1538353441000|    1|\n",
      "|     9|1538353576000|    0|\n",
      "|    74|1538353668000|    0|\n",
      "|    30|1538353687000|    1|\n",
      "|     9|1538353744000|    0|\n",
      "+------+-------------+-----+\n",
      "only showing top 20 rows\n",
      "\n"
     ]
    }
   ],
   "source": [
    "user_recent_level_time.show()"
   ]
  },
  {
   "cell_type": "code",
   "execution_count": 66,
   "metadata": {},
   "outputs": [
    {
     "name": "stdout",
     "output_type": "stream",
     "text": [
      "+------+-----+\n",
      "|userId|level|\n",
      "+------+-----+\n",
      "|    10|    1|\n",
      "|   100|    1|\n",
      "|100001|    0|\n",
      "|100002|    1|\n",
      "|100003|    0|\n",
      "|100004|    1|\n",
      "|100005|    0|\n",
      "|100006|    0|\n",
      "|100007|    1|\n",
      "|100008|    0|\n",
      "|100009|    0|\n",
      "|100010|    0|\n",
      "|100011|    0|\n",
      "|100012|    0|\n",
      "|100013|    1|\n",
      "|100014|    1|\n",
      "|100015|    1|\n",
      "|100016|    0|\n",
      "|100017|    0|\n",
      "|100018|    0|\n",
      "+------+-----+\n",
      "only showing top 20 rows\n",
      "\n"
     ]
    }
   ],
   "source": [
    "user_recent_level.show()"
   ]
  },
  {
   "cell_type": "markdown",
   "metadata": {},
   "source": [
    "## 沉默时间"
   ]
  },
  {
   "cell_type": "code",
   "execution_count": 67,
   "metadata": {},
   "outputs": [
    {
     "data": {
      "text/plain": [
       "[Row(max(ts)=1543799476000)]"
      ]
     },
     "execution_count": 67,
     "metadata": {},
     "output_type": "execute_result"
    }
   ],
   "source": [
    "final_time_df = df.select(max(df.ts))\n",
    "final_time_df.collect()"
   ]
  },
  {
   "cell_type": "code",
   "execution_count": 68,
   "metadata": {},
   "outputs": [
    {
     "name": "stdout",
     "output_type": "stream",
     "text": [
      "+------+------------+\n",
      "|userID|user_silence|\n",
      "+------+------------+\n",
      "|    10|   990678000|\n",
      "|   100|    35117000|\n",
      "|100001|  5124261000|\n",
      "|100002|  -177010000|\n",
      "|100003|  4347685000|\n",
      "|100004|   163401000|\n",
      "|100005|  3650641000|\n",
      "|100006|  4869396000|\n",
      "|100007|   130557000|\n",
      "|100008|   287247000|\n",
      "|100009|  3011362000|\n",
      "|100010|   798514000|\n",
      "|100011|  5205381000|\n",
      "|100012|  2521566000|\n",
      "|100013|  2437650000|\n",
      "|100014|   881817000|\n",
      "|100015|   548713000|\n",
      "|100016|   286819000|\n",
      "|100017|  3559619000|\n",
      "|100018|   244106000|\n",
      "+------+------------+\n",
      "only showing top 20 rows\n",
      "\n"
     ]
    }
   ],
   "source": [
    "user_login.createOrReplaceTempView(\"user_login_view\")\n",
    "user_silence = spark.sql(\n",
    "    \"SELECT userID, 1543622466000-finalTime AS user_silence FROM user_login_view \"\n",
    ")\n",
    "user_silence.show()"
   ]
  },
  {
   "cell_type": "markdown",
   "metadata": {},
   "source": [
    "## 构造训练数据集"
   ]
  },
  {
   "cell_type": "code",
   "execution_count": 69,
   "metadata": {},
   "outputs": [],
   "source": [
    "df_final = df.select(\"userId\", \"gender\",\n",
    "                     \"Churn\").dropDuplicates().sort(\"userId\")"
   ]
  },
  {
   "cell_type": "code",
   "execution_count": 70,
   "metadata": {},
   "outputs": [
    {
     "name": "stdout",
     "output_type": "stream",
     "text": [
      "+------+------+-----+\n",
      "|userId|gender|Churn|\n",
      "+------+------+-----+\n",
      "|    10|     1|    0|\n",
      "|   100|     1|    0|\n",
      "|100001|     0|    1|\n",
      "|100002|     0|    0|\n",
      "|100003|     0|    1|\n",
      "|100004|     0|    0|\n",
      "|100005|     1|    1|\n",
      "|100006|     0|    1|\n",
      "|100007|     0|    1|\n",
      "|100008|     0|    0|\n",
      "|100009|     1|    1|\n",
      "|100010|     0|    0|\n",
      "|100011|     1|    1|\n",
      "|100012|     1|    1|\n",
      "|100013|     0|    1|\n",
      "|100014|     1|    1|\n",
      "|100015|     0|    1|\n",
      "|100016|     1|    0|\n",
      "|100017|     1|    1|\n",
      "|100018|     1|    0|\n",
      "+------+------+-----+\n",
      "only showing top 20 rows\n",
      "\n"
     ]
    }
   ],
   "source": [
    "df_final.show()"
   ]
  },
  {
   "cell_type": "code",
   "execution_count": 71,
   "metadata": {},
   "outputs": [
    {
     "data": {
      "text/plain": [
       "225"
      ]
     },
     "execution_count": 71,
     "metadata": {},
     "output_type": "execute_result"
    }
   ],
   "source": [
    "df_final.count()"
   ]
  },
  {
   "cell_type": "code",
   "execution_count": 72,
   "metadata": {},
   "outputs": [],
   "source": [
    "final_data = df_final.join(df_Help, 'userId','left').join(df_Error, 'userId','left').join(df_Upgrade, 'userId','left')\\\n",
    "             .join(df_SubmitUpgrade, 'userId','left').join(df_Downgrade, 'userId','left').join(df_SubmitDowngrade, 'userId','left')\n",
    "final_data = final_data.join(df_Add_to_Playlist, 'userId',\n",
    "                             'left').join(df_Add_Friend, 'userId', 'left')\n",
    "final_data = final_data.join(user_session_time_stat, 'userId','left').join(user_session_song_stat, 'userId','left')\\\n",
    "    .join(user_session_Thumbs_Up_stat, 'userId','left').join(user_session_Thumbs_Down_stat, 'userId','left')\\\n",
    "    .join(user_session_Roll_Advert_stat, 'userId','left')\n",
    "final_data = final_data.join(user_song_count, 'userId',\n",
    "                             'left').join(user_artist_count, 'userId', 'left')\n",
    "final_data = final_data.join(user_reg_days, 'userId',\n",
    "                             'left').join(user_paied_day, 'userId', 'left')\n",
    "final_data = final_data.join(user_session_count, 'userId','left').join(user_recent_level, 'userId','left')\\\n",
    "    .join(user_silence, 'userId','left')"
   ]
  },
  {
   "cell_type": "code",
   "execution_count": 73,
   "metadata": {},
   "outputs": [],
   "source": [
    "final_data = final_data.fillna(0)\n",
    "final_data = final_data.dropDuplicates()\n",
    "final_data.write.save(\"final_data_7.csv\", format=\"csv\", header=\"True\")\n",
    "final_data = spark.read.csv(\"final_data_7.csv\", header=True)"
   ]
  },
  {
   "cell_type": "code",
   "execution_count": 74,
   "metadata": {
    "scrolled": true
   },
   "outputs": [
    {
     "name": "stdout",
     "output_type": "stream",
     "text": [
      "+------+------+-----+--------+---------+-----------+-----------------+-------------+---------------+-------------------+--------------+------------------+--------------------+------------------+------------------+-------------------+---------------------+---------------------+-------------+---------------+------------------+-------------------+------------------+-----+------------+\n",
      "|userId|gender|Churn|num_Help|num_Error|num_Upgrade|num_SubmitUpgrade|num_Downgrade|SubmitDowngrade|num_Add_to_Playlist|num_Add_Friend|    avgSessionTime|      minSessionTime|    maxSessionTime|    avgSessionSong|avgSessionThumbs_Up|avgSessionThumbs_Down|avgSessionRoll_Advert|userSongCount|userArtistCount|            regDay|         user_paied|      SessionOfday|level|user_silence|\n",
      "+------+------+-----+--------+---------+-----------+-----------------+-------------+---------------+-------------------+--------------+------------------+--------------------+------------------+------------------+-------------------+---------------------+---------------------+-------------+---------------+------------------+-------------------+------------------+-----+------------+\n",
      "|100004|     0|    0|       6|        2|          8|                3|           10|              2|                 23|            19|185.98650793650793|                 0.0| 940.2166666666667|              47.1| 2.6923076923076925|   1.5714285714285714|    6.615384615384615|          881|            733|172.44008101851853|0.44497991967871486| 8.211432429453263|    1|   163401000|\n",
      "|   104|     0|    0|      15|        1|          3|                1|           24|              0|                 43|            23| 281.0339743589744|  25.783333333333335|            993.65|              68.5| 3.8181818181818183|   1.4166666666666667|                  2.3|         1571|           1214|125.58270833333333| 0.8363039399624765| 4.830104166666667|    1|   273696000|\n",
      "|    60|     1|    0|       7|        2|          1|                1|           21|              0|                 58|            27|380.71481481481476|   7.716666666666667| 992.2333333333333| 91.33333333333333|               5.25|   1.2857142857142858|                  1.0|         1477|           1137| 71.48456018518519|  0.982051282051282|3.9713644547325107|    1|   431789000|\n",
      "|    68|     0|    0|       0|        0|          1|                0|            0|              0|                  0|             7| 63.74166666666667|   33.53333333333333|             93.95|              14.5|                1.0|                  0.0|                  2.0|           29|             29| 100.0112962962963|                0.0| 50.00564814814815|    0|   621492000|\n",
      "|    90|     1|    0|       2|        0|          0|                0|            0|              0|                  0|             0| 29.70666666666667|                 0.0| 74.38333333333334|              9.25|                0.0|                  0.0|                  1.5|           37|             37|101.98753472222222|                0.0|20.397506944444444|    0|   815529000|\n",
      "|   126|     1|    0|      15|        2|          3|                1|           22|              0|                 72|            33|           357.505|                 0.0|           1533.75| 88.86206896551724|  6.136363636363637|   1.9090909090909092|   2.6923076923076925|         2229|           1643| 62.09569444444445| 0.8588007736943907|2.0698564814814815|    1|    29990000|\n",
      "|   131|     1|    0|      13|        4|          1|                1|           15|              2|                 51|            26|340.22456140350874|                 0.0| 855.6666666666666|              92.0|                4.5|   1.6666666666666667|   1.6666666666666667|         1403|           1100|120.89991898148148| 0.9447128287707998| 6.363153630604288|    0|    74383000|\n",
      "|   140|     0|    0|      34|        7|         10|                4|           50|              3|                148|           143|328.06525821596244|                 0.0| 2230.266666666667| 84.53731343283582|   5.12962962962963|    2.027027027027027|                  3.0|         4426|           2819| 80.60512731481481| 0.8229651162790698| 1.135283483307251|    1|    16074000|\n",
      "|    17|     0|    1|       5|        0|          4|                1|           12|              0|                 30|            12|            601.25|   9.933333333333334|1546.4333333333334|132.42857142857142|                8.0|                 3.25|                  4.0|          875|            741|13.099016203703703| 0.9437386569872959|1.8712880291005292|    1|  4156882000|\n",
      "|   103|     0|    1|       7|        0|          4|                2|           13|              1|                 42|            25|401.67121212121214|                 0.0|1775.0833333333333|             107.3|  7.428571428571429|                 2.25|                  2.8|          981|            834| 42.13234953703704| 0.8045801526717558| 3.830213594276094|    1|  2282375000|\n",
      "|200005|     1|    0|       0|        0|          2|                1|            0|              0|                  5|             3| 87.39722222222223|                24.0|185.08333333333334|23.166666666666668|               1.75|                  0.0|                  2.5|          138|            131|113.13180555555556| 0.5517241379310345|18.855300925925928|    1|   315580000|\n",
      "|    38|     1|    0|      12|        3|          2|                1|            9|              1|                 30|            21|342.28749999999997|  25.716666666666665|           1179.95|            82.625|  5.909090909090909|   2.3333333333333335|                  1.0|         1192|            939| 75.06532407407407| 0.9388535031847134| 4.691582754629629|    1|    16065000|\n",
      "|    40|     0|    0|       9|        0|          1|                1|            2|              0|                 39|            23|251.47058823529417|   9.383333333333333| 797.4833333333333|63.411764705882355|              4.125|   1.2222222222222223|   3.2857142857142856|         1004|            825| 78.96927083333334| 0.7042360060514372| 4.645251225490196|    1|  1274274000|\n",
      "|   128|     1|    0|       6|        2|          1|                1|           14|              0|                 53|            28| 416.6254901960784|                 0.0|            1817.3|             108.0|  6.214285714285714|                  1.5|                 2.75|         1539|           1163| 95.33168981481481| 0.9661344944363812| 5.607746459694988|    1|   115894000|\n",
      "|200024|     1|    1|       4|        1|          5|                1|            4|              0|                 15|             9|211.70833333333331|  52.166666666666664| 579.0333333333333|            52.125| 3.1666666666666665|   1.8571428571428572|                  4.5|          402|            368| 28.42769675925926| 0.3804347826086957|3.5534620949074074|    1|  3268889000|\n",
      "|    23|     0|    0|       4|        0|          1|                1|            5|              0|                 21|            15| 682.5541666666667|  29.783333333333335| 2374.633333333333|             164.0|                7.0|                  6.0|    6.333333333333333|          624|            553|135.89708333333334| 0.7557544757033248|33.974270833333335|    1|   599798000|\n",
      "|    41|     0|    0|      19|        1|          0|                0|           23|              0|                 61|            36| 657.6722222222223|0.016666666666666666|            2278.2|157.83333333333334|                7.6|                  2.0|                  1.0|         1699|           1319|110.77247685185185|                1.0|  9.23103973765432|    1|   613144000|\n",
      "|100021|     1|    1|       0|        2|          2|                0|            0|              0|                  7|             7| 215.2266666666667|                30.4| 605.1833333333333|              46.0|               2.75|   1.6666666666666667|                  6.0|          226|            207| 64.73886574074074|                0.0|12.947773148148148|    0|   478684000|\n",
      "|    29|     1|    1|      28|        0|          5|                1|           18|              0|                 89|            47| 365.7568627450981|                 8.1|2167.7833333333333| 89.05882352941177|  5.703703703703703|   1.8333333333333333|   1.8333333333333333|         2562|           1804|60.104050925925925| 0.8917568692756037|1.7677662037037036|    1|  1441435000|\n",
      "|    69|     0|    0|       7|        4|          1|                1|            9|              0|                 33|            12| 526.6851851851852|  11.483333333333333|1263.7833333333333|             125.0|                8.0|                  1.8|                  1.5|         1036|            865| 71.42444444444445| 0.9709388971684053|  7.93604938271605|    1|   627235000|\n",
      "+------+------+-----+--------+---------+-----------+-----------------+-------------+---------------+-------------------+--------------+------------------+--------------------+------------------+------------------+-------------------+---------------------+---------------------+-------------+---------------+------------------+-------------------+------------------+-----+------------+\n",
      "only showing top 20 rows\n",
      "\n",
      "root\n",
      " |-- userId: string (nullable = true)\n",
      " |-- gender: string (nullable = true)\n",
      " |-- Churn: string (nullable = true)\n",
      " |-- num_Help: string (nullable = true)\n",
      " |-- num_Error: string (nullable = true)\n",
      " |-- num_Upgrade: string (nullable = true)\n",
      " |-- num_SubmitUpgrade: string (nullable = true)\n",
      " |-- num_Downgrade: string (nullable = true)\n",
      " |-- SubmitDowngrade: string (nullable = true)\n",
      " |-- num_Add_to_Playlist: string (nullable = true)\n",
      " |-- num_Add_Friend: string (nullable = true)\n",
      " |-- avgSessionTime: string (nullable = true)\n",
      " |-- minSessionTime: string (nullable = true)\n",
      " |-- maxSessionTime: string (nullable = true)\n",
      " |-- avgSessionSong: string (nullable = true)\n",
      " |-- avgSessionThumbs_Up: string (nullable = true)\n",
      " |-- avgSessionThumbs_Down: string (nullable = true)\n",
      " |-- avgSessionRoll_Advert: string (nullable = true)\n",
      " |-- userSongCount: string (nullable = true)\n",
      " |-- userArtistCount: string (nullable = true)\n",
      " |-- regDay: string (nullable = true)\n",
      " |-- user_paied: string (nullable = true)\n",
      " |-- SessionOfday: string (nullable = true)\n",
      " |-- level: string (nullable = true)\n",
      " |-- user_silence: string (nullable = true)\n",
      "\n"
     ]
    }
   ],
   "source": [
    "final_data.show(20)\n",
    "\n",
    "final_data.printSchema()"
   ]
  },
  {
   "cell_type": "code",
   "execution_count": 75,
   "metadata": {},
   "outputs": [],
   "source": [
    "colNames = final_data.columns"
   ]
  },
  {
   "cell_type": "code",
   "execution_count": 76,
   "metadata": {},
   "outputs": [
    {
     "name": "stdout",
     "output_type": "stream",
     "text": [
      "+--------+------+-----+--------+---------+-----------+-----------------+-------------+---------------+-------------------+--------------+------------------+--------------------+------------------+------------------+-------------------+---------------------+---------------------+-------------+---------------+------------------+-------------------+------------------+-----+------------+\n",
      "|  userId|gender|Churn|num_Help|num_Error|num_Upgrade|num_SubmitUpgrade|num_Downgrade|SubmitDowngrade|num_Add_to_Playlist|num_Add_Friend|    avgSessionTime|      minSessionTime|    maxSessionTime|    avgSessionSong|avgSessionThumbs_Up|avgSessionThumbs_Down|avgSessionRoll_Advert|userSongCount|userArtistCount|            regDay|         user_paied|      SessionOfday|level|user_silence|\n",
      "+--------+------+-----+--------+---------+-----------+-----------------+-------------+---------------+-------------------+--------------+------------------+--------------------+------------------+------------------+-------------------+---------------------+---------------------+-------------+---------------+------------------+-------------------+------------------+-----+------------+\n",
      "|100004.0|   0.0|  0.0|     6.0|      2.0|        8.0|              3.0|         10.0|            2.0|               23.0|          19.0|185.98650793650793|                 0.0| 940.2166666666667|              47.1| 2.6923076923076925|   1.5714285714285714|    6.615384615384615|        881.0|          733.0|172.44008101851853|0.44497991967871486| 8.211432429453263|  1.0|   1.63401E8|\n",
      "|   104.0|   0.0|  0.0|    15.0|      1.0|        3.0|              1.0|         24.0|            0.0|               43.0|          23.0| 281.0339743589744|  25.783333333333335|            993.65|              68.5| 3.8181818181818183|   1.4166666666666667|                  2.3|       1571.0|         1214.0|125.58270833333333| 0.8363039399624765| 4.830104166666667|  1.0|   2.73696E8|\n",
      "|    60.0|   1.0|  0.0|     7.0|      2.0|        1.0|              1.0|         21.0|            0.0|               58.0|          27.0|380.71481481481476|   7.716666666666667| 992.2333333333333| 91.33333333333333|               5.25|   1.2857142857142858|                  1.0|       1477.0|         1137.0| 71.48456018518519|  0.982051282051282|3.9713644547325107|  1.0|   4.31789E8|\n",
      "|    68.0|   0.0|  0.0|     0.0|      0.0|        1.0|              0.0|          0.0|            0.0|                0.0|           7.0| 63.74166666666667|   33.53333333333333|             93.95|              14.5|                1.0|                  0.0|                  2.0|         29.0|           29.0| 100.0112962962963|                0.0| 50.00564814814815|  0.0|   6.21492E8|\n",
      "|    90.0|   1.0|  0.0|     2.0|      0.0|        0.0|              0.0|          0.0|            0.0|                0.0|           0.0| 29.70666666666667|                 0.0| 74.38333333333334|              9.25|                0.0|                  0.0|                  1.5|         37.0|           37.0|101.98753472222222|                0.0|20.397506944444444|  0.0|   8.15529E8|\n",
      "|   126.0|   1.0|  0.0|    15.0|      2.0|        3.0|              1.0|         22.0|            0.0|               72.0|          33.0|           357.505|                 0.0|           1533.75| 88.86206896551724|  6.136363636363637|   1.9090909090909092|   2.6923076923076925|       2229.0|         1643.0| 62.09569444444445| 0.8588007736943907|2.0698564814814815|  1.0|     2.999E7|\n",
      "|   131.0|   1.0|  0.0|    13.0|      4.0|        1.0|              1.0|         15.0|            2.0|               51.0|          26.0|340.22456140350874|                 0.0| 855.6666666666666|              92.0|                4.5|   1.6666666666666667|   1.6666666666666667|       1403.0|         1100.0|120.89991898148148| 0.9447128287707998| 6.363153630604288|  0.0|    7.4383E7|\n",
      "|   140.0|   0.0|  0.0|    34.0|      7.0|       10.0|              4.0|         50.0|            3.0|              148.0|         143.0|328.06525821596244|                 0.0| 2230.266666666667| 84.53731343283582|   5.12962962962963|    2.027027027027027|                  3.0|       4426.0|         2819.0| 80.60512731481481| 0.8229651162790698| 1.135283483307251|  1.0|    1.6074E7|\n",
      "|    17.0|   0.0|  1.0|     5.0|      0.0|        4.0|              1.0|         12.0|            0.0|               30.0|          12.0|            601.25|   9.933333333333334|1546.4333333333334|132.42857142857142|                8.0|                 3.25|                  4.0|        875.0|          741.0|13.099016203703703| 0.9437386569872959|1.8712880291005292|  1.0|  4.156882E9|\n",
      "|   103.0|   0.0|  1.0|     7.0|      0.0|        4.0|              2.0|         13.0|            1.0|               42.0|          25.0|401.67121212121214|                 0.0|1775.0833333333333|             107.3|  7.428571428571429|                 2.25|                  2.8|        981.0|          834.0| 42.13234953703704| 0.8045801526717558| 3.830213594276094|  1.0|  2.282375E9|\n",
      "|200005.0|   1.0|  0.0|     0.0|      0.0|        2.0|              1.0|          0.0|            0.0|                5.0|           3.0| 87.39722222222223|                24.0|185.08333333333334|23.166666666666668|               1.75|                  0.0|                  2.5|        138.0|          131.0|113.13180555555556| 0.5517241379310345|18.855300925925928|  1.0|    3.1558E8|\n",
      "|    38.0|   1.0|  0.0|    12.0|      3.0|        2.0|              1.0|          9.0|            1.0|               30.0|          21.0|342.28749999999997|  25.716666666666665|           1179.95|            82.625|  5.909090909090909|   2.3333333333333335|                  1.0|       1192.0|          939.0| 75.06532407407407| 0.9388535031847134| 4.691582754629629|  1.0|    1.6065E7|\n",
      "|    40.0|   0.0|  0.0|     9.0|      0.0|        1.0|              1.0|          2.0|            0.0|               39.0|          23.0|251.47058823529417|   9.383333333333333| 797.4833333333333|63.411764705882355|              4.125|   1.2222222222222223|   3.2857142857142856|       1004.0|          825.0| 78.96927083333334| 0.7042360060514372| 4.645251225490196|  1.0|  1.274274E9|\n",
      "|   128.0|   1.0|  0.0|     6.0|      2.0|        1.0|              1.0|         14.0|            0.0|               53.0|          28.0| 416.6254901960784|                 0.0|            1817.3|             108.0|  6.214285714285714|                  1.5|                 2.75|       1539.0|         1163.0| 95.33168981481481| 0.9661344944363812| 5.607746459694988|  1.0|   1.15894E8|\n",
      "|200024.0|   1.0|  1.0|     4.0|      1.0|        5.0|              1.0|          4.0|            0.0|               15.0|           9.0|211.70833333333331|  52.166666666666664| 579.0333333333333|            52.125| 3.1666666666666665|   1.8571428571428572|                  4.5|        402.0|          368.0| 28.42769675925926| 0.3804347826086957|3.5534620949074074|  1.0|  3.268889E9|\n",
      "|    23.0|   0.0|  0.0|     4.0|      0.0|        1.0|              1.0|          5.0|            0.0|               21.0|          15.0| 682.5541666666667|  29.783333333333335| 2374.633333333333|             164.0|                7.0|                  6.0|    6.333333333333333|        624.0|          553.0|135.89708333333334| 0.7557544757033248|33.974270833333335|  1.0|   5.99798E8|\n",
      "|    41.0|   0.0|  0.0|    19.0|      1.0|        0.0|              0.0|         23.0|            0.0|               61.0|          36.0| 657.6722222222223|0.016666666666666666|            2278.2|157.83333333333334|                7.6|                  2.0|                  1.0|       1699.0|         1319.0|110.77247685185185|                1.0|  9.23103973765432|  1.0|   6.13144E8|\n",
      "|100021.0|   1.0|  1.0|     0.0|      2.0|        2.0|              0.0|          0.0|            0.0|                7.0|           7.0| 215.2266666666667|                30.4| 605.1833333333333|              46.0|               2.75|   1.6666666666666667|                  6.0|        226.0|          207.0| 64.73886574074074|                0.0|12.947773148148148|  0.0|   4.78684E8|\n",
      "|    29.0|   1.0|  1.0|    28.0|      0.0|        5.0|              1.0|         18.0|            0.0|               89.0|          47.0| 365.7568627450981|                 8.1|2167.7833333333333| 89.05882352941177|  5.703703703703703|   1.8333333333333333|   1.8333333333333333|       2562.0|         1804.0|60.104050925925925| 0.8917568692756037|1.7677662037037036|  1.0|  1.441435E9|\n",
      "|    69.0|   0.0|  0.0|     7.0|      4.0|        1.0|              1.0|          9.0|            0.0|               33.0|          12.0| 526.6851851851852|  11.483333333333333|1263.7833333333333|             125.0|                8.0|                  1.8|                  1.5|       1036.0|          865.0| 71.42444444444445| 0.9709388971684053|  7.93604938271605|  1.0|   6.27235E8|\n",
      "+--------+------+-----+--------+---------+-----------+-----------------+-------------+---------------+-------------------+--------------+------------------+--------------------+------------------+------------------+-------------------+---------------------+---------------------+-------------+---------------+------------------+-------------------+------------------+-----+------------+\n",
      "only showing top 20 rows\n",
      "\n"
     ]
    }
   ],
   "source": [
    "for colName in colNames:\n",
    "    final_data = final_data.withColumn(colName, col(colName).cast(\"double\"))\n",
    "final_data.show()"
   ]
  },
  {
   "cell_type": "code",
   "execution_count": 77,
   "metadata": {},
   "outputs": [
    {
     "data": {
      "text/plain": [
       "225"
      ]
     },
     "execution_count": 77,
     "metadata": {},
     "output_type": "execute_result"
    }
   ],
   "source": [
    "final_data.count()"
   ]
  },
  {
   "cell_type": "code",
   "execution_count": 117,
   "metadata": {},
   "outputs": [
    {
     "name": "stdout",
     "output_type": "stream",
     "text": [
      "+-----+-----+\n",
      "|Churn|count|\n",
      "+-----+-----+\n",
      "|  0.0|  173|\n",
      "|  1.0|   52|\n",
      "+-----+-----+\n",
      "\n"
     ]
    }
   ],
   "source": [
    "final_data.groupby(\"Churn\").count().show()"
   ]
  },
  {
   "cell_type": "code",
   "execution_count": 78,
   "metadata": {},
   "outputs": [
    {
     "name": "stdout",
     "output_type": "stream",
     "text": [
      "+-------+------------------+------------------+------------------+------------------+------------------+------------------+------------------+------------------+------------------+-------------------+------------------+------------------+-----------------+-----------------+------------------+-------------------+---------------------+---------------------+-----------------+-----------------+-------------------+-------------------+-------------------+-------------------+--------------------+\n",
      "|summary|            userId|            gender|             Churn|          num_Help|         num_Error|       num_Upgrade| num_SubmitUpgrade|     num_Downgrade|   SubmitDowngrade|num_Add_to_Playlist|    num_Add_Friend|    avgSessionTime|   minSessionTime|   maxSessionTime|    avgSessionSong|avgSessionThumbs_Up|avgSessionThumbs_Down|avgSessionRoll_Advert|    userSongCount|  userArtistCount|             regDay|         user_paied|       SessionOfday|              level|        user_silence|\n",
      "+-------+------------------+------------------+------------------+------------------+------------------+------------------+------------------+------------------+------------------+-------------------+------------------+------------------+-----------------+-----------------+------------------+-------------------+---------------------+---------------------+-----------------+-----------------+-------------------+-------------------+-------------------+-------------------+--------------------+\n",
      "|  count|               225|               225|               225|               225|               225|               225|               225|               225|               225|                225|               225|               225|              225|              225|               225|                225|                  225|                  225|              225|              225|                225|                225|                225|                225|                 225|\n",
      "|   mean|65391.013333333336|0.5377777777777778|0.2311111111111111|6.4622222222222225|              1.12|2.2177777777777776|0.7066666666666667| 9.133333333333333|              0.28| 29.004444444444445| 19.00888888888889|288.16598407334976|36.13177777777778| 968.032518518518| 70.78971233958936|  4.659001296544654|   1.6517472058249643|   2.9905099013219067|897.7911111111111|696.3777777777777|  79.84568348765433| 0.5822655122895654| 11.828952608818408| 0.6444444444444445|1.1222788133333333E9|\n",
      "| stddev|105396.47791907165|0.4996824388374477|0.4224832108996327| 7.242585151901199|1.4726070176973314|2.5585369082956593|0.7338742593737899|11.734412152785012|0.5876709477736184| 32.716653931055426|20.581716728496275|176.84244472357113|90.64909420429706|723.3177369502857|42.615369754381696| 2.4223461004090714|   0.9260391713518761|    2.293418634292748|896.3876044550341|603.9518698630803|  37.66147001861254|0.40781046609091887| 15.116861863911952|0.47974861141928293| 1.439221890852624E9|\n",
      "|    min|               2.0|               0.0|               0.0|               0.0|               0.0|               0.0|               0.0|               0.0|               0.0|                0.0|               0.0|               7.0|              0.0|              7.0|               3.0|                0.0|                  0.0|                  0.0|              3.0|              3.0|0.31372685185185184|                0.0|0.31372685185185184|                0.0|           -1.7701E8|\n",
      "|    max|          300025.0|               1.0|               1.0|              46.0|               7.0|              15.0|               4.0|              73.0|               3.0|              240.0|             143.0|            1179.9|904.8666666666667|4455.083333333333| 286.6666666666667| 13.777777777777779|                  6.0|                 15.0|           5946.0|           3544.0|  256.3776736111111|                1.0| 124.55060185185185|                1.0|          5.205381E9|\n",
      "+-------+------------------+------------------+------------------+------------------+------------------+------------------+------------------+------------------+------------------+-------------------+------------------+------------------+-----------------+-----------------+------------------+-------------------+---------------------+---------------------+-----------------+-----------------+-------------------+-------------------+-------------------+-------------------+--------------------+\n",
      "\n"
     ]
    }
   ],
   "source": [
    "final_data.describe().show()"
   ]
  },
  {
   "cell_type": "markdown",
   "metadata": {},
   "source": [
    "# 建模、训练、评估"
   ]
  },
  {
   "cell_type": "markdown",
   "metadata": {},
   "source": [
    "## 数据准备"
   ]
  },
  {
   "cell_type": "code",
   "execution_count": 79,
   "metadata": {
    "scrolled": true
   },
   "outputs": [
    {
     "data": {
      "text/plain": [
       "['userId',\n",
       " 'gender',\n",
       " 'Churn',\n",
       " 'num_Help',\n",
       " 'num_Error',\n",
       " 'num_Upgrade',\n",
       " 'num_SubmitUpgrade',\n",
       " 'num_Downgrade',\n",
       " 'SubmitDowngrade',\n",
       " 'num_Add_to_Playlist',\n",
       " 'num_Add_Friend',\n",
       " 'avgSessionTime',\n",
       " 'minSessionTime',\n",
       " 'maxSessionTime',\n",
       " 'avgSessionSong',\n",
       " 'avgSessionThumbs_Up',\n",
       " 'avgSessionThumbs_Down',\n",
       " 'avgSessionRoll_Advert',\n",
       " 'userSongCount',\n",
       " 'userArtistCount',\n",
       " 'regDay',\n",
       " 'user_paied',\n",
       " 'SessionOfday',\n",
       " 'level',\n",
       " 'user_silence']"
      ]
     },
     "execution_count": 79,
     "metadata": {},
     "output_type": "execute_result"
    }
   ],
   "source": [
    "final_data.columns"
   ]
  },
  {
   "cell_type": "code",
   "execution_count": 80,
   "metadata": {},
   "outputs": [],
   "source": [
    "inputcols = [\n",
    "    'gender', 'num_Help', 'num_Error', 'num_Upgrade', 'num_SubmitUpgrade',\n",
    "    'num_Downgrade', 'SubmitDowngrade', 'num_Add_to_Playlist',\n",
    "    'num_Add_Friend', 'avgSessionTime', 'minSessionTime', 'maxSessionTime',\n",
    "    'avgSessionSong', 'avgSessionThumbs_Up', 'avgSessionThumbs_Down',\n",
    "    'avgSessionRoll_Advert', 'userSongCount', 'userArtistCount', 'regDay',\n",
    "    'user_paied', 'SessionOfday', 'level', 'user_silence'\n",
    "]"
   ]
  },
  {
   "cell_type": "code",
   "execution_count": 81,
   "metadata": {},
   "outputs": [],
   "source": [
    "# 数据转换成一个向量\n",
    "assembler = VectorAssembler(inputCols=inputcols, outputCol=\"NumFeatures\")\n",
    "dataset = assembler.transform(final_data)"
   ]
  },
  {
   "cell_type": "code",
   "execution_count": 82,
   "metadata": {},
   "outputs": [],
   "source": [
    "# 数据标准化\n",
    "scaler = StandardScaler(inputCol=\"NumFeatures\",\n",
    "                        outputCol=\"ScaledNumFeatures\",\n",
    "                        withStd=True)\n",
    "scalerModel = scaler.fit(dataset)\n",
    "dataset = scalerModel.transform(dataset)"
   ]
  },
  {
   "cell_type": "code",
   "execution_count": 83,
   "metadata": {},
   "outputs": [],
   "source": [
    "# 特征、标签划分\n",
    "dataset = dataset.select(\n",
    "    col('Churn').alias('label'),\n",
    "    col('ScaledNumFeatures').alias('features'))"
   ]
  },
  {
   "cell_type": "code",
   "execution_count": 84,
   "metadata": {},
   "outputs": [
    {
     "data": {
      "text/plain": [
       "[Row(label=0.0, features=DenseVector([0.0, 0.8284, 1.3581, 3.1268, 4.0879, 0.8522, 3.4033, 0.703, 0.9231, 1.0517, 0.0, 1.2999, 1.1052, 1.1114, 1.6969, 2.8845, 0.9828, 1.2137, 4.5787, 1.0911, 0.5432, 2.0844, 0.1135])),\n",
       " Row(label=0.0, features=DenseVector([0.0, 2.0711, 0.6791, 1.1725, 1.3626, 2.0453, 0.0, 1.3143, 1.1175, 1.5892, 0.2844, 1.3737, 1.6074, 1.5762, 1.5298, 1.0029, 1.7526, 2.0101, 3.3345, 2.0507, 0.3195, 2.0844, 0.1902])),\n",
       " Row(label=0.0, features=DenseVector([2.0013, 0.9665, 1.3581, 0.3908, 1.3626, 1.7896, 0.0, 1.7728, 1.3118, 2.1528, 0.0851, 1.3718, 2.1432, 2.1673, 1.3884, 0.436, 1.6477, 1.8826, 1.8981, 2.4081, 0.2627, 2.0844, 0.3])),\n",
       " Row(label=0.0, features=SparseVector(23, {3: 0.3908, 8: 0.3401, 9: 0.3604, 10: 0.3699, 11: 0.1299, 12: 0.3403, 13: 0.4128, 15: 0.8721, 16: 0.0324, 17: 0.048, 18: 2.6555, 20: 3.3079, 22: 0.4318})),\n",
       " Row(label=0.0, features=SparseVector(23, {0: 2.0013, 1: 0.2761, 9: 0.168, 11: 0.1028, 12: 0.2171, 15: 0.654, 16: 0.0413, 17: 0.0613, 18: 2.708, 20: 1.3493, 22: 0.5666}))]"
      ]
     },
     "execution_count": 84,
     "metadata": {},
     "output_type": "execute_result"
    }
   ],
   "source": [
    "dataset.take(5)"
   ]
  },
  {
   "cell_type": "code",
   "execution_count": 85,
   "metadata": {
    "scrolled": true
   },
   "outputs": [
    {
     "data": {
      "text/plain": [
       "225"
      ]
     },
     "execution_count": 85,
     "metadata": {},
     "output_type": "execute_result"
    }
   ],
   "source": [
    "dataset.count()"
   ]
  },
  {
   "cell_type": "markdown",
   "metadata": {},
   "source": [
    "## 划分训练集、测试集"
   ]
  },
  {
   "cell_type": "code",
   "execution_count": 86,
   "metadata": {},
   "outputs": [],
   "source": [
    "train, test = dataset.randomSplit([0.8, 0.2], seed=77)"
   ]
  },
  {
   "cell_type": "code",
   "execution_count": 87,
   "metadata": {
    "scrolled": false
   },
   "outputs": [
    {
     "data": {
      "text/plain": [
       "177"
      ]
     },
     "execution_count": 87,
     "metadata": {},
     "output_type": "execute_result"
    }
   ],
   "source": [
    "train.count()"
   ]
  },
  {
   "cell_type": "markdown",
   "metadata": {},
   "source": [
    "## 模型训练"
   ]
  },
  {
   "cell_type": "markdown",
   "metadata": {},
   "source": [
    "怎样选择模型呢？我们看下数据分布，52/173的流失分布，数据不太平衡，但是不算严重到超过90%，由于决策树可以很好的拟合失衡数据，所以选择逻辑回归、决策树、随机森林三个算法进行比较选择。"
   ]
  },
  {
   "cell_type": "markdown",
   "metadata": {},
   "source": [
    "### 逻辑回归"
   ]
  },
  {
   "cell_type": "markdown",
   "metadata": {},
   "source": [
    "Logistic回归本质上是线性回归，只是在特征到结果的映射中加入了一层函数映射，即先把特征线性求和，然后使用函数g(z)作为假设函数来预测。g(z)可以将连续值映射到0和1上。其损失函数的目的是增加对分类影响较大的数据点的权重，减少与分类关系较小的数据点的权重。\n",
    "\n",
    "应用：\n",
    "用于分类：适合做很多分类算法的基础组件。\n",
    "用于预测：预测事件发生的概率（输出）。\n",
    "用于分析：单一因素对某一个事件发生的影响因素分析（特征参数值）。\n",
    "\n",
    "适用：\n",
    "基本假设：\n",
    "输出类别服从伯努利二项分布。\n",
    "样本线性可分。\n",
    "特征空间不是很大的情况。\n",
    "不必在意特征间相关性的情景。\n",
    "后续会有大量新数据的情况。\n",
    "\n",
    "\n",
    "逻辑回归的优缺点\n",
    "优点：\n",
    "1，实现简单，广泛的应用于工业问题上；\n",
    "2，分类时计算量非常小，速度很快，存储资源低；\n",
    "3， 便利的观测样本概率分数；\n",
    "4，对逻辑回归而言，多重共线性并不是问题，它可以结合L2正则化来解决该问题；\n",
    "5，计算代价不高，易于理解和实现；\n",
    "缺点：\n",
    "1，当特征空间很大时，逻辑回归的性能不是很好；\n",
    "2， 容易欠拟合，一般准确度不太高\n",
    "3，不能很好地处理大量多类特征或变量；\n",
    "4，只能处理两分类问题（在此基础上衍生出来的softmax可以用于多分类），且必须线性可分；\n",
    "5， 对于非线性特征，需要进行转换；\n",
    "\n",
    "应用领域：\n",
    "1、预测是否发生、发生的概率（流失、客户响应等预测）\n",
    "2、影响因素、危险因素分析（找出影响结果的主要因素）\n",
    "3、判别、分类"
   ]
  },
  {
   "cell_type": "markdown",
   "metadata": {},
   "source": [
    "### 决策树"
   ]
  },
  {
   "cell_type": "markdown",
   "metadata": {},
   "source": [
    "决策树是一个基本的分类回归算法\n",
    "决策树：是一种树形结构，其中每个内部节点表示一个属性上的判断，每个分支代表一个判断结果的输出，最后每个叶节点代表一种分类结果，本质是一颗由多个判断节点组成的树。\n",
    "\n",
    "经典决策树算法：\n",
    "ID3：只能对离散型属性的数据集构造决策树，信息增益作为节点特征选择\n",
    "C4.5：ID3的扩展、可以处理连续型变量、可以处理缺失值、剪枝，信息增益比作为节点特征选择\n",
    "CART：可以处理离散型或连续型变量、并可以分类/回归，使用gini系数作为节点特征选择\n",
    "\n",
    "优点：\n",
    "1、生成的决策树结果很直观\n",
    "2、基本不需要预处理，不需要提前归一化，处理缺失值\n",
    "3、既可以处理离散值也可以处理连续值\n",
    "4、可以很容易处理分类问题\n",
    "5、相比于神经网络之类的黑盒分类模型，决策树的可解释性很好\n",
    "6、可以用交叉验证的剪枝来选择模型，从而提高泛化能力\n",
    "7、对于异常值的容错能力号，健壮性高\n",
    "\n",
    "缺点：\n",
    "1、决策树算法容易过拟合\n",
    "2、决策树会因为样本发生一点点的改动而导致结果变化\n",
    "3、寻找最优的决策树是一个NP难的问题，容易陷入局部最优\n",
    "4、有些复杂的关系，决策树很难学习到，例如异或关系\n",
    "5、没有在线学习\n",
    "\n",
    "适用情景：\n",
    "因为它能够生成清晰的基于特征(feature)选择不同预测结果的树状结构，数据分析师希望更好的理解手上的数据的时候往往可以使用决策树。\n",
    "\n",
    "同时它也是相对容易被攻击的分类器。这里的攻击是指人为的改变一些特征，使得分类器判断错误。常见于垃圾邮件躲避检测中。因为决策树最终在底层判断是基于单个条件的，攻击者往往只需要改变很少的特征就可以逃过监测。\n",
    "\n",
    "应用场景：\n",
    "1、熵的例子：论坛流失性跟性别还是和活跃度有关\n",
    "2、基尼的列子：拖欠贷款和是否有房、婚姻状况、收入的关联性\n",
    "3、贷款风险评估\n",
    "4、保险推广预测"
   ]
  },
  {
   "cell_type": "markdown",
   "metadata": {},
   "source": [
    "### 随机森林"
   ]
  },
  {
   "cell_type": "markdown",
   "metadata": {},
   "source": [
    "随机森林是由很多决策树构成的，不同决策树之间没有关联。\n",
    "\n",
    "当我们进行分类任务时，新的输入样本进入，就让森林中的每一棵决策树分别进行判断和分类，每个决策树会得到一个自己的分类结果，决策树的分类结果中哪一个分类最多，那麽随机森林就会把这个结果当做最终的结果。\n",
    "\n",
    "构造随机森林的4个步骤：\n",
    "假如有N个样本，则有放回的随机选择N个样本(每次随机选择一个样本，然后返回继续选择)。这选择好了的N个样本用来训练一个决策树，作为决策树根节点处的样本。\n",
    "当每个样本有M个属性时，在决策树的每个节点需要分裂时，随机从这M个属性中选取出m个属性，满足条件m << M。然后从这m个属性中採用某种策略（比如说信息增益）来选择1个属性作为该节点的分裂属性。\n",
    "决策树形成过程中每个节点都要按照步骤2来分裂（很容易理解，如果下一次该节点选出来的那一个属性是刚刚其父节点分裂时用过的属性，则该节点已经达到了叶子节点，无须继续分裂了）。一直到不能够再分裂为止。注意整个决策树形成过程中没有进行剪枝。\n",
    "按照步骤1~3建立大量的决策树，这样就构成了随机森林了。\n",
    "\n",
    "\n",
    "优点：\n",
    "1、在数据集上表现良好，两个随机性的引入，使得随机森林不容易陷入过拟合。\n",
    "2、在当前的很多数据集上，相对其他算法有着很大的优势，两个随机性的引入，使得随机森林具有很好的抗噪声能力。\n",
    "3、它能够处理很高维度（feature很多）的数据，并且不用做特征选择，对数据集的适应能力强：既能处理离散型数据，也能处理连续型数据，数据集无需规范化。\n",
    "4、在创建随机森林的时候，对generlization error使用的是无偏估计。\n",
    "5、训练速度快，可以得到变量重要性排序。\n",
    "6、在训练过程中，能够检测到feature间的互相影响。\n",
    "7、容易做成并行化方法。\n",
    "8、实现比较简单\n",
    "\n",
    "缺点：\n",
    "随机森林已经被证明在某些噪音较大的分类或回归问题上会过拟合。\n",
    "对于有不同取值的属性的数据，取值划分较多的属性会对随机森林产生更大的影响，所以随机森林在这种数据上产出的属性权值是不可信的\n",
    "\n",
    "\n",
    "随机森林应用场景：应用于各项AI大赛。\n",
    "数据维度相对低（几十维），同时对准确性有较高要求时。\n",
    "因为不需要很多参数调整就可以达到不错的效果，基本上不知道用什么方法的时候都可以先试一下随机森林。"
   ]
  },
  {
   "cell_type": "markdown",
   "metadata": {},
   "source": [
    "### 如何确定评估指标？"
   ]
  },
  {
   "cell_type": "markdown",
   "metadata": {},
   "source": [
    "常用分类指标有准确率、精确率、召回率、F1、AUC与对数损失（Logistic Loss,logloss）。\n",
    "精确率和召回率多用于二分类问题，需要结合混淆矩阵介绍，如下所示：\n",
    "<img src=\"./1.webp\">\n",
    "\n",
    "其中，TP（真正，True Positive）表示真实结果为正例，预测结果也为正例；FP(假正，False Positive)表示真实结果为负例，预测结果却是正例；TN（真负，True Negative）表示真实结果为负例，预测结果是负例；FN（假负，False Negative）表示真实结果为正例，预测结果是负例。\n",
    "显然，TP+FP+FN+TN=样本总数。\n",
    "根据混淆矩阵可以引出如下指标定义：\n",
    "\n",
    "准确率（Acc）：所有的样本中预测正确的比例，计算公式如下：\n",
    "<img src=\"./2.webp\">\n",
    "\n",
    "召回率（Recall）也称查全率、敏感度（Sensitive）：所有正样本中预测正确的比例，即正样本的准确率，计算公式如下：\n",
    "<img src=\"./3.webp\">\n",
    "\n",
    "特异性（Specificity）：所有负样本中预测正确的比例，即负样本的准确率，计算公式如下：\n",
    "<img src=\"./4.webp\">\n",
    "\n",
    "精确率（Precision）也称查准率：所有预测为正样本的集合中预测正确的比例，计算公式如下：\n",
    "<img src=\"./5.webp\">\n",
    "\n",
    "F1 Score：综合精确率和召回率指标，计算公式如下：\n",
    "<img src=\"./6.webp\">\n",
    "\n",
    "ROC曲线就是以true positive rate 和 false positive rate为轴，取不同的threshold点画的。基本上，曲线下的面积(AUC)越大，或者说曲线更接近左上角（true positive rate=1， false positive rate=0），那么模型就越理想，越好。ROC curve 可以很好的回答什么问题呢——“不论class的基本概率怎么样，我的模型in general能表现得多好？”\n",
    "\n",
    "<img src=\"./7.webp\">\n",
    "\n",
    "以下是参考来源：  \n",
    "作者：邓小乔\n",
    "链接：https://www.zhihu.com/question/30643044/answer/224360465\n",
    "来源：知乎\n",
    "\n",
    "作者：pptb\n",
    "链接：https://www.jianshu.com/p/ce70c716c9d1\n",
    "来源：简书"
   ]
  },
  {
   "cell_type": "markdown",
   "metadata": {},
   "source": [
    "### 确定评估指标"
   ]
  },
  {
   "cell_type": "markdown",
   "metadata": {},
   "source": [
    "由于本次数据分布不平衡，流失率约为25%，而且我们需要综合考虑模型预测的准确率与召回率，所以选择F1调和平均数作为评估指标。这样，可以保证评估的模型既能尽可能准确地预测，又能尽可能多地找到会流失的客户。"
   ]
  },
  {
   "cell_type": "code",
   "execution_count": 88,
   "metadata": {},
   "outputs": [],
   "source": [
    "def create_model(model_name):\n",
    "    start_time = time()\n",
    "    model = model_name()\n",
    "\n",
    "    model_fit = model.fit(train)\n",
    "\n",
    "    results = model_fit.transform(test)\n",
    "    evaluation = MulticlassClassificationEvaluator(predictionCol=\"prediction\")\n",
    "    end_time = time()\n",
    "    tot_time = end_time - start_time\n",
    "    print('Model Run Successfully ; Looking at metrics for', model_name,\n",
    "          'model:')\n",
    "    print(\"with total time taken {:.2f} seconds\".format(tot_time))\n",
    "    print('Accuracy: {}'.format(\n",
    "        evaluation.evaluate(results, {evaluation.metricName: \"accuracy\"})))\n",
    "    print('F-1 Score:{}'.format(\n",
    "        evaluation.evaluate(results, {evaluation.metricName: \"f1\"})))\n",
    "    return model_fit"
   ]
  },
  {
   "cell_type": "code",
   "execution_count": 89,
   "metadata": {
    "scrolled": true
   },
   "outputs": [
    {
     "name": "stdout",
     "output_type": "stream",
     "text": [
      "Model Run Successfully ; Looking at metrics for <class 'pyspark.ml.classification.LogisticRegression'> model:\n",
      "with total time taken 6.39 seconds\n",
      "Accuracy: 0.8958333333333334\n",
      "F-1 Score:0.8940476190476191\n"
     ]
    }
   ],
   "source": [
    "LR = create_model(LogisticRegression)\n",
    "LR.save(\"LR_7\")"
   ]
  },
  {
   "cell_type": "code",
   "execution_count": 90,
   "metadata": {},
   "outputs": [
    {
     "name": "stdout",
     "output_type": "stream",
     "text": [
      "Model Run Successfully ; Looking at metrics for <class 'pyspark.ml.classification.DecisionTreeClassifier'> model:\n",
      "with total time taken 4.19 seconds\n",
      "Accuracy: 0.9166666666666666\n",
      "F-1 Score:0.9135964912280702\n"
     ]
    }
   ],
   "source": [
    "DC = create_model(DecisionTreeClassifier)\n",
    "DC.save(\"DC_7\")"
   ]
  },
  {
   "cell_type": "code",
   "execution_count": 91,
   "metadata": {},
   "outputs": [
    {
     "name": "stdout",
     "output_type": "stream",
     "text": [
      "Model Run Successfully ; Looking at metrics for <class 'pyspark.ml.classification.RandomForestClassifier'> model:\n",
      "with total time taken 3.10 seconds\n",
      "Accuracy: 0.9375\n",
      "F-1 Score:0.9337833219412167\n"
     ]
    }
   ],
   "source": [
    "RF = create_model(RandomForestClassifier)\n",
    "RF.save(\"RF_7\")"
   ]
  },
  {
   "cell_type": "code",
   "execution_count": 93,
   "metadata": {
    "scrolled": true
   },
   "outputs": [
    {
     "data": {
      "text/plain": [
       "[Param(parent='RandomForestClassifier_81bd89ba536c', name='cacheNodeIds', doc='If false, the algorithm will pass trees to executors to match instances with nodes. If true, the algorithm will cache node IDs for each instance. Caching can speed up training of deeper trees.'),\n",
       " Param(parent='RandomForestClassifier_81bd89ba536c', name='checkpointInterval', doc='set checkpoint interval (>= 1) or disable checkpoint (-1). E.g. 10 means that the cache will get checkpointed every 10 iterations. Note: this setting will be ignored if the checkpoint directory is not set in the SparkContext'),\n",
       " Param(parent='RandomForestClassifier_81bd89ba536c', name='featureSubsetStrategy', doc='The number of features to consider for splits at each tree node. Supported options: auto, all, onethird, sqrt, log2, (0.0-1.0], [1-n].'),\n",
       " Param(parent='RandomForestClassifier_81bd89ba536c', name='featuresCol', doc='features column name'),\n",
       " Param(parent='RandomForestClassifier_81bd89ba536c', name='impurity', doc='Criterion used for information gain calculation (case-insensitive). Supported options: entropy, gini'),\n",
       " Param(parent='RandomForestClassifier_81bd89ba536c', name='labelCol', doc='label column name'),\n",
       " Param(parent='RandomForestClassifier_81bd89ba536c', name='maxBins', doc='Max number of bins for discretizing continuous features.  Must be >=2 and >= number of categories for any categorical feature.'),\n",
       " Param(parent='RandomForestClassifier_81bd89ba536c', name='maxDepth', doc='Maximum depth of the tree. (>= 0) E.g., depth 0 means 1 leaf node; depth 1 means 1 internal node + 2 leaf nodes.'),\n",
       " Param(parent='RandomForestClassifier_81bd89ba536c', name='maxMemoryInMB', doc='Maximum memory in MB allocated to histogram aggregation.'),\n",
       " Param(parent='RandomForestClassifier_81bd89ba536c', name='minInfoGain', doc='Minimum information gain for a split to be considered at a tree node.'),\n",
       " Param(parent='RandomForestClassifier_81bd89ba536c', name='minInstancesPerNode', doc='Minimum number of instances each child must have after split.  If a split causes the left or right child to have fewer than minInstancesPerNode, the split will be discarded as invalid. Should be >= 1.'),\n",
       " Param(parent='RandomForestClassifier_81bd89ba536c', name='numTrees', doc='Number of trees to train (>= 1)'),\n",
       " Param(parent='RandomForestClassifier_81bd89ba536c', name='predictionCol', doc='prediction column name'),\n",
       " Param(parent='RandomForestClassifier_81bd89ba536c', name='probabilityCol', doc='Column name for predicted class conditional probabilities. Note: Not all models output well-calibrated probability estimates! These probabilities should be treated as confidences, not precise probabilities'),\n",
       " Param(parent='RandomForestClassifier_81bd89ba536c', name='rawPredictionCol', doc='raw prediction (a.k.a. confidence) column name'),\n",
       " Param(parent='RandomForestClassifier_81bd89ba536c', name='seed', doc='random seed'),\n",
       " Param(parent='RandomForestClassifier_81bd89ba536c', name='subsamplingRate', doc='Fraction of the training data used for learning each decision tree, in range (0, 1].'),\n",
       " Param(parent='RandomForestClassifier_81bd89ba536c', name='thresholds', doc=\"Thresholds in multi-class classification to adjust the probability of predicting each class. Array must have length equal to the number of classes, with values > 0 excepting that at most one value may be 0. The class with largest value p/t is predicted, where p is the original probability of that class and t is the class's threshold\")]"
      ]
     },
     "execution_count": 93,
     "metadata": {},
     "output_type": "execute_result"
    }
   ],
   "source": [
    "# 查看随机森林参数\n",
    "RF.params"
   ]
  },
  {
   "cell_type": "markdown",
   "metadata": {},
   "source": [
    "以上三个模型，随机森林表现最好。"
   ]
  },
  {
   "cell_type": "markdown",
   "metadata": {},
   "source": [
    "## 网格搜索、调参"
   ]
  },
  {
   "cell_type": "code",
   "execution_count": 94,
   "metadata": {
    "scrolled": true
   },
   "outputs": [
    {
     "name": "stdout",
     "output_type": "stream",
     "text": [
      "Metrics for RandomForestClassifier after Hypertuning the Parameters\n",
      "Accuracy: 0.875\n",
      "F-1 Score:0.875\n"
     ]
    }
   ],
   "source": [
    "# 网格搜索、调参\n",
    "model = RandomForestClassifier()\n",
    "\n",
    "param_grid = ParamGridBuilder() \\\n",
    "    .addGrid(model.maxDepth,[5,8,10]) \\\n",
    "    .addGrid(model.numTrees,[5,10,20])\\\n",
    "    .build()\n",
    "\n",
    "cross_val = CrossValidator(\n",
    "    estimator=model,\n",
    "    estimatorParamMaps=param_grid,\n",
    "    evaluator=MulticlassClassificationEvaluator(metricName='f1'),\n",
    "    numFolds=3)\n",
    "\n",
    "model_fit = cross_val.fit(train)\n",
    "model_fit.avgMetrics\n",
    "\n",
    "results = model_fit.transform(test)\n",
    "evaluation = MulticlassClassificationEvaluator(predictionCol=\"prediction\")\n",
    "\n",
    "print('Metrics for RandomForestClassifier after Hypertuning the Parameters')\n",
    "print('Accuracy: {}'.format(\n",
    "    evaluation.evaluate(results, {evaluation.metricName: \"accuracy\"})))\n",
    "print('F-1 Score:{}'.format(\n",
    "    evaluation.evaluate(results, {evaluation.metricName: \"f1\"})))"
   ]
  },
  {
   "cell_type": "markdown",
   "metadata": {},
   "source": [
    "发现网格搜索后分数没有提升，模型之前拟合效果已经达到了。"
   ]
  },
  {
   "cell_type": "markdown",
   "metadata": {},
   "source": [
    "小结：  \n",
    "本数据集只有200多行，训练规模有限，为了评估模型的综合表现，充分利用数据集，我们采用交叉验证的方式进行模型训练，并得到最好的模型。\n",
    "根据交叉验证的最好的模型，我们进行进一步的调参，虽然分数没有提高，但是也是不错的尝试。\n",
    "我们调参后的模型在整个训练集上进行拟合，训练集上拟合分数为，\n",
    "在测试集上，我们验证最终模型的准确度，准确度、F1分值都达到85分左右，说明模型在预测的准确率和召回率都有不错的表现，没有出现过拟合的现象。因此相信，模型在大的数据集上可以有稳健的表现。"
   ]
  },
  {
   "cell_type": "markdown",
   "metadata": {},
   "source": [
    "## 查看各因子的重要度"
   ]
  },
  {
   "cell_type": "code",
   "execution_count": 100,
   "metadata": {},
   "outputs": [],
   "source": [
    "# 查看最佳模型的参数重要度\n",
    "best_model = RF\n",
    "coeffs = best_model.featureImportances\n",
    "coeff_dict = dict(zip(inputcols, coeffs.toArray().tolist()))\n",
    "coeff_df = pd.DataFrame.from_dict(coeff_dict,\n",
    "                                  orient='index',\n",
    "                                  columns=[\"coeff\"])\n",
    "coeff_df.index.name = 'Feature'\n",
    "coeff_df = coeff_df.reset_index()"
   ]
  },
  {
   "cell_type": "code",
   "execution_count": 101,
   "metadata": {
    "scrolled": true
   },
   "outputs": [
    {
     "data": {
      "text/html": [
       "<div>\n",
       "<style scoped>\n",
       "    .dataframe tbody tr th:only-of-type {\n",
       "        vertical-align: middle;\n",
       "    }\n",
       "\n",
       "    .dataframe tbody tr th {\n",
       "        vertical-align: top;\n",
       "    }\n",
       "\n",
       "    .dataframe thead th {\n",
       "        text-align: right;\n",
       "    }\n",
       "</style>\n",
       "<table border=\"1\" class=\"dataframe\">\n",
       "  <thead>\n",
       "    <tr style=\"text-align: right;\">\n",
       "      <th></th>\n",
       "      <th>Feature</th>\n",
       "      <th>coeff</th>\n",
       "    </tr>\n",
       "  </thead>\n",
       "  <tbody>\n",
       "    <tr>\n",
       "      <th>0</th>\n",
       "      <td>gender</td>\n",
       "      <td>0.008490</td>\n",
       "    </tr>\n",
       "    <tr>\n",
       "      <th>1</th>\n",
       "      <td>num_Help</td>\n",
       "      <td>0.019056</td>\n",
       "    </tr>\n",
       "    <tr>\n",
       "      <th>2</th>\n",
       "      <td>num_Error</td>\n",
       "      <td>0.010006</td>\n",
       "    </tr>\n",
       "    <tr>\n",
       "      <th>3</th>\n",
       "      <td>num_Upgrade</td>\n",
       "      <td>0.015864</td>\n",
       "    </tr>\n",
       "    <tr>\n",
       "      <th>4</th>\n",
       "      <td>num_SubmitUpgrade</td>\n",
       "      <td>0.002033</td>\n",
       "    </tr>\n",
       "    <tr>\n",
       "      <th>5</th>\n",
       "      <td>num_Downgrade</td>\n",
       "      <td>0.022901</td>\n",
       "    </tr>\n",
       "    <tr>\n",
       "      <th>6</th>\n",
       "      <td>SubmitDowngrade</td>\n",
       "      <td>0.008575</td>\n",
       "    </tr>\n",
       "    <tr>\n",
       "      <th>7</th>\n",
       "      <td>num_Add_to_Playlist</td>\n",
       "      <td>0.056943</td>\n",
       "    </tr>\n",
       "    <tr>\n",
       "      <th>8</th>\n",
       "      <td>num_Add_Friend</td>\n",
       "      <td>0.019998</td>\n",
       "    </tr>\n",
       "    <tr>\n",
       "      <th>9</th>\n",
       "      <td>avgSessionTime</td>\n",
       "      <td>0.014511</td>\n",
       "    </tr>\n",
       "    <tr>\n",
       "      <th>10</th>\n",
       "      <td>minSessionTime</td>\n",
       "      <td>0.037277</td>\n",
       "    </tr>\n",
       "    <tr>\n",
       "      <th>11</th>\n",
       "      <td>maxSessionTime</td>\n",
       "      <td>0.034484</td>\n",
       "    </tr>\n",
       "    <tr>\n",
       "      <th>12</th>\n",
       "      <td>avgSessionSong</td>\n",
       "      <td>0.017918</td>\n",
       "    </tr>\n",
       "    <tr>\n",
       "      <th>13</th>\n",
       "      <td>avgSessionThumbs_Up</td>\n",
       "      <td>0.040048</td>\n",
       "    </tr>\n",
       "    <tr>\n",
       "      <th>14</th>\n",
       "      <td>avgSessionThumbs_Down</td>\n",
       "      <td>0.012691</td>\n",
       "    </tr>\n",
       "    <tr>\n",
       "      <th>15</th>\n",
       "      <td>avgSessionRoll_Advert</td>\n",
       "      <td>0.026755</td>\n",
       "    </tr>\n",
       "    <tr>\n",
       "      <th>16</th>\n",
       "      <td>userSongCount</td>\n",
       "      <td>0.037158</td>\n",
       "    </tr>\n",
       "    <tr>\n",
       "      <th>17</th>\n",
       "      <td>userArtistCount</td>\n",
       "      <td>0.030651</td>\n",
       "    </tr>\n",
       "    <tr>\n",
       "      <th>18</th>\n",
       "      <td>regDay</td>\n",
       "      <td>0.133935</td>\n",
       "    </tr>\n",
       "    <tr>\n",
       "      <th>19</th>\n",
       "      <td>user_paied</td>\n",
       "      <td>0.033902</td>\n",
       "    </tr>\n",
       "    <tr>\n",
       "      <th>20</th>\n",
       "      <td>SessionOfday</td>\n",
       "      <td>0.075400</td>\n",
       "    </tr>\n",
       "    <tr>\n",
       "      <th>21</th>\n",
       "      <td>level</td>\n",
       "      <td>0.004540</td>\n",
       "    </tr>\n",
       "    <tr>\n",
       "      <th>22</th>\n",
       "      <td>user_silence</td>\n",
       "      <td>0.336864</td>\n",
       "    </tr>\n",
       "  </tbody>\n",
       "</table>\n",
       "</div>"
      ],
      "text/plain": [
       "                  Feature     coeff\n",
       "0                  gender  0.008490\n",
       "1                num_Help  0.019056\n",
       "2               num_Error  0.010006\n",
       "3             num_Upgrade  0.015864\n",
       "4       num_SubmitUpgrade  0.002033\n",
       "5           num_Downgrade  0.022901\n",
       "6         SubmitDowngrade  0.008575\n",
       "7     num_Add_to_Playlist  0.056943\n",
       "8          num_Add_Friend  0.019998\n",
       "9          avgSessionTime  0.014511\n",
       "10         minSessionTime  0.037277\n",
       "11         maxSessionTime  0.034484\n",
       "12         avgSessionSong  0.017918\n",
       "13    avgSessionThumbs_Up  0.040048\n",
       "14  avgSessionThumbs_Down  0.012691\n",
       "15  avgSessionRoll_Advert  0.026755\n",
       "16          userSongCount  0.037158\n",
       "17        userArtistCount  0.030651\n",
       "18                 regDay  0.133935\n",
       "19             user_paied  0.033902\n",
       "20           SessionOfday  0.075400\n",
       "21                  level  0.004540\n",
       "22           user_silence  0.336864"
      ]
     },
     "execution_count": 101,
     "metadata": {},
     "output_type": "execute_result"
    }
   ],
   "source": [
    "coeff_df"
   ]
  },
  {
   "cell_type": "markdown",
   "metadata": {},
   "source": [
    "发现用户沉默的时间、用户注册的天数、平均每次登陆在线时长是最主要的影响因素，其他的每次登陆的统计指标也都有一定影响，几乎没有影响的是级别、性别、升级次数、倒赞的次数。比较意外的是，平常喜欢差评的用户，居然不是流失的主人群。流失最大影响还是用户是否上线，沉默用户最容易流失。"
   ]
  },
  {
   "cell_type": "code",
   "execution_count": 102,
   "metadata": {},
   "outputs": [],
   "source": [
    "coeff_df[\"contribution\"] = coeff_df[\"coeff\"] * 100 / coeff_df[\"coeff\"].abs(\n",
    ").sum()"
   ]
  },
  {
   "cell_type": "code",
   "execution_count": 112,
   "metadata": {},
   "outputs": [
    {
     "data": {
      "image/png": "[encoded data removed]",
      "text/plain": [
       "<matplotlib.figure.Figure at 0x7fd1cc6d94e0>"
      ]
     },
     "metadata": {
      "needs_background": "light"
     },
     "output_type": "display_data"
    }
   ],
   "source": [
    "plt.figure(figsize=(10, 8))\n",
    "ax = sns.barplot(data=coeff_df, y=\"contribution\", x=\"Feature\")\n",
    "plt.xlabel('Features')\n",
    "plt.ylabel('Contribution')\n",
    "plt.xticks(rotation=90)\n",
    "plt.title('Feature Contribution from the Logistic Regression Model')\n",
    "sns.despine(ax=ax)"
   ]
  },
  {
   "cell_type": "code",
   "execution_count": 105,
   "metadata": {},
   "outputs": [],
   "source": [
    "coeff_df[\"importance\"] = coeff_df[\"coeff\"].abs() * 100 / coeff_df[\"coeff\"].abs(\n",
    ").max()"
   ]
  },
  {
   "cell_type": "code",
   "execution_count": 108,
   "metadata": {
    "scrolled": false
   },
   "outputs": [
    {
     "data": {
      "image/png": "[encoded data removed]",
      "text/plain": [
       "<matplotlib.figure.Figure at 0x7fd1ccac3d30>"
      ]
     },
     "metadata": {
      "needs_background": "light"
     },
     "output_type": "display_data"
    }
   ],
   "source": [
    "coeff_df = coeff_df.sort_values('importance', ascending=False)\n",
    "plt.figure(figsize=(10, 8))\n",
    "ax = sns.barplot(data=coeff_df, x=\"importance\", y=\"Feature\", orient='h')\n",
    "plt.xlabel('Features')\n",
    "plt.ylabel('Importance')\n",
    "plt.title('Feature Importance from the Logistic Regression Model')\n",
    "sns.despine(ax=ax)"
   ]
  },
  {
   "cell_type": "markdown",
   "metadata": {},
   "source": [
    "# 总结"
   ]
  },
  {
   "cell_type": "markdown",
   "metadata": {},
   "source": [
    "**1，困难和挑战-数据转换是关键  \n",
    "数据集是客户的原始日志，包括用户信息、时间信息、操作信息等，超过28万条，如何利用这些信息提取用户的特征是关键。我们通过数据的整合转换构造了包含200多个用户ID、23列特征的新表，所以事实上我们训练的数据并不大，可以说还比较有限，只有200多个用户。而且分布不平衡。**  \n",
    "  \n",
    "**2，关键点-特征构造要多思考  \n",
    "通过数据清洗、观察、探索等步骤，结合业务实际情况，我们构造了不同的用户特征，这些特征是否有效需要模型验证，但是构造特征的思考方法很重要。通过此次尝试，相信在未来的业务情境中，我们同样可以很好完成特征构造的任务。**\n",
    "\n",
    "**3，了解模型和数据，再选择  \n",
    "根据数据集的分布特征，我们探索了如何选择合适的模型，以及有效的评估指标。**\n",
    "\n",
    "**4，意外：随机森林时间短，分数高\n",
    "在此基础上，没有经过复杂的调参，逻辑回归、决策树与随机森林表现都很好，说明我们的特征非常有效提供了训练信息。后续可以尝试在更大的数据集上去进行测试。出乎预料，随机森林反而是训练时间最短的，而且分数最高的。**\n",
    "\n",
    "**5，发现-影响最大的是用户沉默时间\n",
    "通过最高分数随机森林模型，查看到影响用户流失最大的三个因素是：用户沉默时间、用户注册日期、用户平均每次登陆在线时长。说明沉默的用户最容易流失，需要通过不同的push或者活动，激活这些用户，防止流失。**\n",
    "\n",
    "**6，需要改进的方面\n",
    "在实际的APP用户流失预测中，日志都是目前已有的，然后需要对未来进行预测，所以训练集、与实际验证的数据实际上在时间上分开的，或者说实际数据是随时间实时产生的。而在此项目中，用户特征的构造已经包含了所有时间点的信息。所以应用在实际中，该模型分数可能没这么高。改进的方式，可以尝试将日志分为t，t+1段两部分，通过t时间内的数据构造模型，通过t+1时间进行测试，以此来训练更有效应用的模型。**\n",
    "\n",
    "**7，可以进行的尝试\n",
    "真是训练的数据集只有200多个用户，可以考虑在分布式集群更多的数据上进行探索。**"
   ]
  }
 ],
 "metadata": {
  "hide_input": false,
  "kernelspec": {
   "display_name": "Python 3",
   "language": "python",
   "name": "python3"
  },
  "language_info": {
   "codemirror_mode": {
    "name": "ipython",
    "version": 3
   },
   "file_extension": ".py",
   "mimetype": "text/x-python",
   "name": "python",
   "nbconvert_exporter": "python",
   "pygments_lexer": "ipython3",
   "version": "3.7.3"
  },
  "latex_envs": {
   "LaTeX_envs_menu_present": true,
   "autoclose": false,
   "autocomplete": true,
   "bibliofile": "biblio.bib",
   "cite_by": "apalike",
   "current_citInitial": 1,
   "eqLabelWithNumbers": true,
   "eqNumInitial": 1,
   "hotkeys": {
    "equation": "Ctrl-E",
    "itemize": "Ctrl-I"
   },
   "labels_anchors": false,
   "latex_user_defs": false,
   "report_style_numbering": false,
   "user_envs_cfg": false
  },
  "toc": {
   "base_numbering": 1,
   "nav_menu": {},
   "number_sections": true,
   "sideBar": true,
   "skip_h1_title": false,
   "title_cell": "Table of Contents",
   "title_sidebar": "Contents",
   "toc_cell": true,
   "toc_position": {},
   "toc_section_display": true,
   "toc_window_display": true
  },
  "varInspector": {
   "cols": {
    "lenName": 16,
    "lenType": 16,
    "lenVar": 40
   },
   "kernels_config": {
    "python": {
     "delete_cmd_postfix": "",
     "delete_cmd_prefix": "del ",
     "library": "var_list.py",
     "varRefreshCmd": "print(var_dic_list())"
    },
    "r": {
     "delete_cmd_postfix": ") ",
     "delete_cmd_prefix": "rm(",
     "library": "var_list.r",
     "varRefreshCmd": "cat(var_dic_list()) "
    }
   },
   "types_to_exclude": [
    "module",
    "function",
    "builtin_function_or_method",
    "instance",
    "_Feature"
   ],
   "window_display": false
  }
 },
 "nbformat": 4,
 "nbformat_minor": 1
}
